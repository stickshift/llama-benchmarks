{
 "cells": [
  {
   "cell_type": "markdown",
   "id": "fe5c56d8-6a9f-4ec7-aa48-e9ee5e4ad673",
   "metadata": {},
   "source": [
    "# Inference w/ Llama 3.2 3B Text\n",
    "\n",
    "Example of basic text completions w/ Llama pre-trained text models."
   ]
  },
  {
   "cell_type": "markdown",
   "id": "d6149dca-695e-45d2-91f7-944d47b49c01",
   "metadata": {},
   "source": [
    "# Imports"
   ]
  },
  {
   "cell_type": "code",
   "execution_count": 1,
   "id": "c6e0916a-aec7-4797-b477-75eaec2cbb0c",
   "metadata": {},
   "outputs": [],
   "source": [
    "from sys import stdout\n",
    "\n",
    "import torch\n",
    "from torch import nn\n",
    "\n",
    "import llama_benchmarks as llb\n",
    "from llama_benchmarks.models import llama\n",
    "from llama_benchmarks.models.llama import LlamaGenerator"
   ]
  },
  {
   "cell_type": "markdown",
   "id": "a94886fd-1ba1-4fa6-9748-d8dee8ff7f1e",
   "metadata": {},
   "source": [
    "# Parameters"
   ]
  },
  {
   "cell_type": "code",
   "execution_count": 2,
   "id": "bb0d49a9-545d-4daa-b6e2-66c8d579c31c",
   "metadata": {},
   "outputs": [],
   "source": [
    "model = \"Llama3.2-3B\""
   ]
  },
  {
   "cell_type": "markdown",
   "id": "c802ca8b-51ab-41ba-9762-5628c62f57e5",
   "metadata": {},
   "source": [
    "# Configure"
   ]
  },
  {
   "cell_type": "code",
   "execution_count": 3,
   "id": "7f5b26da-a7bd-4dcb-a138-d7df6dc56d50",
   "metadata": {},
   "outputs": [],
   "source": [
    "# Load model config\n",
    "config = llama.config(model)\n",
    "\n",
    "# Create generator\n",
    "generator = LlamaGenerator(config)"
   ]
  },
  {
   "cell_type": "markdown",
   "id": "df378d4b-fe9e-4d2d-a71c-52bab39c9bd4",
   "metadata": {},
   "source": [
    "# Generate Content"
   ]
  },
  {
   "cell_type": "code",
   "execution_count": 4,
   "id": "724f5b24-207c-4327-a03d-cc4a72ea9c0d",
   "metadata": {},
   "outputs": [],
   "source": [
    "prompt = \"Humpty dumpty sat\""
   ]
  },
  {
   "cell_type": "code",
   "execution_count": 6,
   "id": "f611b4aa-2cfd-4129-b1f4-138bffb9881a",
   "metadata": {},
   "outputs": [
    {
     "name": "stdout",
     "output_type": "stream",
     "text": [
      "Humpty dumpty sat on a wall\n",
      "Humpty dumpty had a great fall\n",
      "All the king's horses and all the king's men\n",
      "Couldn't put Humpty dumpty together again\n",
      "Humpty dumpty sat on a wall\n",
      "Humpty dumpty had a great fall\n",
      "All the king's horses and all the king's men"
     ]
    }
   ],
   "source": [
    "stdout.write(prompt)\n",
    "\n",
    "for token in generator(prompt):\n",
    "    stdout.write(token)"
   ]
  },
  {
   "cell_type": "code",
   "execution_count": null,
   "id": "f53639ef-b4ed-4ad3-a2b8-e7401ded6b54",
   "metadata": {},
   "outputs": [],
   "source": []
  },
  {
   "cell_type": "code",
   "execution_count": null,
   "id": "e2ecfbd6-d0a7-46f6-a473-a82abe74e562",
   "metadata": {},
   "outputs": [],
   "source": []
  }
 ],
 "metadata": {
  "kernelspec": {
   "display_name": "Python 3 (ipykernel)",
   "language": "python",
   "name": "python3"
  },
  "language_info": {
   "codemirror_mode": {
    "name": "ipython",
    "version": 3
   },
   "file_extension": ".py",
   "mimetype": "text/x-python",
   "name": "python",
   "nbconvert_exporter": "python",
   "pygments_lexer": "ipython3",
   "version": "3.12.6"
  }
 },
 "nbformat": 4,
 "nbformat_minor": 5
}
