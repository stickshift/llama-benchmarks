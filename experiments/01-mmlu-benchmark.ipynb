{
 "cells": [
  {
   "cell_type": "markdown",
   "id": "4a3268e2-9942-4d79-92fd-2221e26d388b",
   "metadata": {},
   "source": [
    "# MMLU Benchmark\n",
    "\n",
    "Basic guide to running Massive Multitask Language Understanding (MMLU) benchmark using Llama models."
   ]
  },
  {
   "cell_type": "markdown",
   "id": "2b3987c8-67fb-4bcd-9797-d4e26ab7dfa6",
   "metadata": {
    "jp-MarkdownHeadingCollapsed": true
   },
   "source": [
    "# Imports"
   ]
  },
  {
   "cell_type": "code",
   "execution_count": 1,
   "id": "59202d62-3df3-4067-9750-7dfec5d85e09",
   "metadata": {},
   "outputs": [],
   "source": [
    "import logging\n",
    "import os\n",
    "from pathlib import Path\n",
    "from random import sample\n",
    "from time import perf_counter_ns as timer\n",
    "\n",
    "from IPython.display import display\n",
    "from matplotlib import pyplot as plt\n",
    "from pandas import DataFrame\n",
    "import seaborn as sns\n",
    "from tqdm import tqdm\n",
    "\n",
    "import llama_benchmarks as llb\n",
    "from llama_benchmarks.models import llama\n",
    "from llama_benchmarks.mmlu import Question, Questions, Answer, Answers, MMLULlamaGenerator"
   ]
  },
  {
   "cell_type": "markdown",
   "id": "b762a093-3f23-43d1-8a7d-e9a741eff2fe",
   "metadata": {},
   "source": [
    "# Parameters"
   ]
  },
  {
   "cell_type": "code",
   "execution_count": 2,
   "id": "04175c7e-8022-4c5d-9851-11368e47a16b",
   "metadata": {},
   "outputs": [],
   "source": [
    "# Sample size\n",
    "n_questions = 16"
   ]
  },
  {
   "cell_type": "markdown",
   "id": "fa26f6e1-1c80-4b5e-aab2-212ce5e9b055",
   "metadata": {
    "jp-MarkdownHeadingCollapsed": true
   },
   "source": [
    "# Setup"
   ]
  },
  {
   "cell_type": "code",
   "execution_count": 3,
   "id": "5748579d-5a36-45ef-a324-4af5a1932cbb",
   "metadata": {},
   "outputs": [],
   "source": [
    "# Switch to project root\n",
    "if os.path.basename(os.getcwd()) == \"notebooks\":\n",
    "    os.chdir(\"..\")\n",
    "\n",
    "# Configure logger\n",
    "logger = logging.getLogger(__name__)\n",
    "\n",
    "# Path to datasets\n",
    "datasets_path = Path(\".build\") / \"datasets\" "
   ]
  },
  {
   "cell_type": "code",
   "execution_count": 4,
   "id": "69bb152b-1a87-4296-99f6-b3a96069ce31",
   "metadata": {},
   "outputs": [],
   "source": [
    "def show_questions(questions: Questions):\n",
    "    display(DataFrame(questions))"
   ]
  },
  {
   "cell_type": "markdown",
   "id": "b87223d1-18c4-4e01-87dd-4442b32f6150",
   "metadata": {},
   "source": [
    "# MMLU Dataset"
   ]
  },
  {
   "cell_type": "markdown",
   "id": "2c0cc27b-e289-48f3-a1e4-8ccacd271415",
   "metadata": {},
   "source": [
    "The Massive Multitask Language Understanding (MMLU) benchmark dataset from https://github.com/hendrycks/test contains 14,042 MCQs from 57 categories. Each question has 4 options A, B, C, and D and one correct answer. In addition, each category has 5 example questions designed for few-shot experiments."
   ]
  },
  {
   "cell_type": "code",
   "execution_count": 5,
   "id": "b659bde5-5c9f-4778-9ba8-a420deda1711",
   "metadata": {},
   "outputs": [
    {
     "data": {
      "text/html": [
       "<div>\n",
       "<style scoped>\n",
       "    .dataframe tbody tr th:only-of-type {\n",
       "        vertical-align: middle;\n",
       "    }\n",
       "\n",
       "    .dataframe tbody tr th {\n",
       "        vertical-align: top;\n",
       "    }\n",
       "\n",
       "    .dataframe thead th {\n",
       "        text-align: right;\n",
       "    }\n",
       "</style>\n",
       "<table border=\"1\" class=\"dataframe\">\n",
       "  <thead>\n",
       "    <tr style=\"text-align: right;\">\n",
       "      <th></th>\n",
       "      <th>category</th>\n",
       "      <th>question</th>\n",
       "      <th>A</th>\n",
       "      <th>B</th>\n",
       "      <th>C</th>\n",
       "      <th>D</th>\n",
       "      <th>answer</th>\n",
       "    </tr>\n",
       "  </thead>\n",
       "  <tbody>\n",
       "    <tr>\n",
       "      <th>0</th>\n",
       "      <td>sociology</td>\n",
       "      <td>Which of the following policies did the New La...</td>\n",
       "      <td>setting and streaming pupils by ability</td>\n",
       "      <td>parental choice of school</td>\n",
       "      <td>supporting LEAs that appeared to be failing</td>\n",
       "      <td>state regulation and control of the curriculum</td>\n",
       "      <td>C</td>\n",
       "    </tr>\n",
       "    <tr>\n",
       "      <th>1</th>\n",
       "      <td>professional law</td>\n",
       "      <td>After two men robbed a local bank, they left t...</td>\n",
       "      <td>inadmissible, because it violates the physicia...</td>\n",
       "      <td>admissible, because the technician overheard t...</td>\n",
       "      <td>admissible, because of the nature of the man's...</td>\n",
       "      <td>admissible, because the statement was not conf...</td>\n",
       "      <td>C</td>\n",
       "    </tr>\n",
       "    <tr>\n",
       "      <th>2</th>\n",
       "      <td>conceptual physics</td>\n",
       "      <td>The speed of sound in air depends on</td>\n",
       "      <td>frequency.</td>\n",
       "      <td>wavelength.</td>\n",
       "      <td>air temperature.</td>\n",
       "      <td>All of these.</td>\n",
       "      <td>C</td>\n",
       "    </tr>\n",
       "  </tbody>\n",
       "</table>\n",
       "</div>"
      ],
      "text/plain": [
       "             category                                           question  \\\n",
       "0           sociology  Which of the following policies did the New La...   \n",
       "1    professional law  After two men robbed a local bank, they left t...   \n",
       "2  conceptual physics               The speed of sound in air depends on   \n",
       "\n",
       "                                                   A  \\\n",
       "0            setting and streaming pupils by ability   \n",
       "1  inadmissible, because it violates the physicia...   \n",
       "2                                         frequency.   \n",
       "\n",
       "                                                   B  \\\n",
       "0                          parental choice of school   \n",
       "1  admissible, because the technician overheard t...   \n",
       "2                                        wavelength.   \n",
       "\n",
       "                                                   C  \\\n",
       "0        supporting LEAs that appeared to be failing   \n",
       "1  admissible, because of the nature of the man's...   \n",
       "2                                   air temperature.   \n",
       "\n",
       "                                                   D answer  \n",
       "0     state regulation and control of the curriculum      C  \n",
       "1  admissible, because the statement was not conf...      C  \n",
       "2                                      All of these.      C  "
      ]
     },
     "metadata": {},
     "output_type": "display_data"
    }
   ],
   "source": [
    "mmlu_dataset_path = datasets_path / \"mmlu\"\n",
    "\n",
    "# Load sample of questions from MMLU dataset\n",
    "examples, questions = llb.mmlu.load_dataset(mmlu_dataset_path, n_questions=n_questions)\n",
    "show_questions(sample(questions, k=3))"
   ]
  },
  {
   "cell_type": "markdown",
   "id": "8a85d764-b278-4947-8e7b-cc817f2abe48",
   "metadata": {},
   "source": [
    "# Prompting"
   ]
  },
  {
   "cell_type": "markdown",
   "id": "e6989fd5-2eea-4227-8728-c607227f5e16",
   "metadata": {},
   "source": [
    "We combine each question with the relevant examples to generate few-shot prompts. The prompt template is based on the one used by Hendrycks et al. (2021) and implemented at https://github.com/hendrycks/test."
   ]
  },
  {
   "cell_type": "code",
   "execution_count": 6,
   "id": "cf80ca6a-b546-44ff-ae72-b30209ef3ec9",
   "metadata": {},
   "outputs": [
    {
     "name": "stdout",
     "output_type": "stream",
     "text": [
      "The following are multiple choice questions (with answers) about high school mathematics.\n",
      "\n",
      "Question: Simplify and write the result with a rational denominator: $$\\sqrt{\\sqrt[3]{\\sqrt{\\frac{1}{729}}}}$$\n",
      "\n",
      "A) \\frac{3\\sqrt{3}}{3}\n",
      "B) \\frac{1}{3}\n",
      "C) \\sqrt{3}\n",
      "D) \\frac{\\sqrt{3}}{3}\n",
      "\n",
      "Answer: D\n",
      "\n",
      "Question: Five thousand dollars compounded annually at an $x\\%$ interest rate takes six years to double. At the same interest rate, how many years will it take $\\$300$ to grow to $\\$9600$?\n",
      "\n",
      "A) 12\n",
      "B) 1\n",
      "C) 30\n",
      "D) 5\n",
      "\n",
      "Answer: C\n",
      "\n",
      "Question: A relative maximum value of the function y = (ln x)/x is\n",
      "\n",
      "A) 1\n",
      "B) e\n",
      "C) 2/e\n",
      "D) 1/e\n",
      "\n",
      "Answer: \n"
     ]
    }
   ],
   "source": [
    "prompt = llb.mmlu.generate_prompt(examples, sample(questions, k=1)[0], n_shots=2)\n",
    "print(prompt)"
   ]
  },
  {
   "cell_type": "markdown",
   "id": "1a9c77f4-aca2-4be4-ae1f-5433aade86e7",
   "metadata": {},
   "source": [
    "# Generating Answers"
   ]
  },
  {
   "cell_type": "code",
   "execution_count": 7,
   "id": "2ba241b1-86df-4349-bcf7-a75e2aa4e3a7",
   "metadata": {},
   "outputs": [],
   "source": [
    "# Create a Llama 3.2 3B MMLU generator\n",
    "generator = MMLULlamaGenerator(llama.config(\"Llama3.2-3B\"))"
   ]
  },
  {
   "cell_type": "code",
   "execution_count": 8,
   "id": "4cbe35c8-8ef1-4f4c-9fd7-82ffca9d9dd1",
   "metadata": {},
   "outputs": [
    {
     "name": "stderr",
     "output_type": "stream",
     "text": [
      "  0%|                                                                                                                                                               | 0/16 [00:00<?, ?it/s]Top token id 16 is not in MMLU options dict_values([32, 33, 34, 35])\n",
      "16 = 19.58460235595703, vs, tensor([10.9279,  7.5884,  6.2252,  9.5336], device='mps:0')\n",
      "  6%|█████████▍                                                                                                                                             | 1/16 [00:00<00:09,  1.61it/s]Top token id 15 is not in MMLU options dict_values([32, 33, 34, 35])\n",
      "15 = 18.97964859008789, vs, tensor([8.5567, 8.6281, 8.6632, 9.8178], device='mps:0')\n",
      " 12%|██████████████████▉                                                                                                                                    | 2/16 [00:02<00:21,  1.54s/it]Top token id 16 is not in MMLU options dict_values([32, 33, 34, 35])\n",
      "16 = 20.088703155517578, vs, tensor([10.0286,  9.4044,  9.6841, 11.3985], device='mps:0')\n",
      " 19%|████████████████████████████▎                                                                                                                          | 3/16 [00:03<00:14,  1.10s/it]Top token id 18 is not in MMLU options dict_values([32, 33, 34, 35])\n",
      "18 = 19.008678436279297, vs, tensor([10.8762, 10.3468, 10.7637, 11.2712], device='mps:0')\n",
      " 25%|█████████████████████████████████████▊                                                                                                                 | 4/16 [00:04<00:12,  1.04s/it]Top token id 16 is not in MMLU options dict_values([32, 33, 34, 35])\n",
      "16 = 20.06245994567871, vs, tensor([11.3396, 11.1285,  9.2402, 10.4294], device='mps:0')\n",
      " 31%|███████████████████████████████████████████████▏                                                                                                       | 5/16 [00:04<00:09,  1.18it/s]Top token id 16 is not in MMLU options dict_values([32, 33, 34, 35])\n",
      "16 = 18.523439407348633, vs, tensor([ 9.7702, 10.2653,  9.3161, 10.7986], device='mps:0')\n",
      " 38%|████████████████████████████████████████████████████████▋                                                                                              | 6/16 [00:05<00:08,  1.18it/s]Top token id 16 is not in MMLU options dict_values([32, 33, 34, 35])\n",
      "16 = 20.60884666442871, vs, tensor([11.5915, 10.3024,  9.3224, 11.2490], device='mps:0')\n",
      " 44%|██████████████████████████████████████████████████████████████████                                                                                     | 7/16 [00:06<00:06,  1.33it/s]Top token id 16 is not in MMLU options dict_values([32, 33, 34, 35])\n",
      "16 = 22.913400650024414, vs, tensor([12.1202, 12.0417, 12.7832, 12.0414], device='mps:0')\n",
      " 50%|███████████████████████████████████████████████████████████████████████████▌                                                                           | 8/16 [00:06<00:05,  1.39it/s]Top token id 16 is not in MMLU options dict_values([32, 33, 34, 35])\n",
      "16 = 17.544086456298828, vs, tensor([7.8817, 8.1511, 7.7320, 8.5942], device='mps:0')\n",
      " 56%|████████████████████████████████████████████████████████████████████████████████████▉                                                                  | 9/16 [00:07<00:05,  1.32it/s]Top token id 423 is not in MMLU options dict_values([32, 33, 34, 35])\n",
      "423 = 19.67389678955078, vs, tensor([10.0678,  9.2498,  8.7656, 11.3616], device='mps:0')\n",
      " 62%|█████████████████████████████████████████████████████████████████████████████████████████████▊                                                        | 10/16 [00:08<00:04,  1.40it/s]Top token id 18 is not in MMLU options dict_values([32, 33, 34, 35])\n",
      "18 = 19.541391372680664, vs, tensor([ 8.9804,  8.1604, 11.1135, 11.1572], device='mps:0')\n",
      " 69%|███████████████████████████████████████████████████████████████████████████████████████████████████████▏                                              | 11/16 [00:08<00:03,  1.59it/s]Top token id 16 is not in MMLU options dict_values([32, 33, 34, 35])\n",
      "16 = 19.286884307861328, vs, tensor([ 8.2139, 10.6787,  6.8287, 10.1627], device='mps:0')\n",
      " 75%|████████████████████████████████████████████████████████████████████████████████████████████████████████████████▌                                     | 12/16 [00:09<00:02,  1.60it/s]Top token id 18 is not in MMLU options dict_values([32, 33, 34, 35])\n",
      "18 = 20.837745666503906, vs, tensor([10.6017, 10.6536, 11.2278, 11.4363], device='mps:0')\n",
      " 81%|█████████████████████████████████████████████████████████████████████████████████████████████████████████████████████████▉                            | 13/16 [00:09<00:01,  1.65it/s]Top token id 18 is not in MMLU options dict_values([32, 33, 34, 35])\n",
      "18 = 18.645877838134766, vs, tensor([ 8.2303,  7.3823, 11.7264,  8.9517], device='mps:0')\n",
      " 88%|███████████████████████████████████████████████████████████████████████████████████████████████████████████████████████████████████▎                  | 14/16 [00:10<00:01,  1.73it/s]Top token id 19 is not in MMLU options dict_values([32, 33, 34, 35])\n",
      "19 = 19.714101791381836, vs, tensor([ 8.5118,  8.3420,  7.9129, 11.8300], device='mps:0')\n",
      " 94%|████████████████████████████████████████████████████████████████████████████████████████████████████████████████████████████████████████████▋         | 15/16 [00:11<00:00,  1.77it/s]Top token id 16 is not in MMLU options dict_values([32, 33, 34, 35])\n",
      "16 = 20.268779754638672, vs, tensor([ 9.7151,  9.8576,  8.2123, 11.5532], device='mps:0')\n",
      "100%|██████████████████████████████████████████████████████████████████████████████████████████████████████████████████████████████████████████████████████| 16/16 [00:11<00:00,  1.37it/s]"
     ]
    },
    {
     "name": "stdout",
     "output_type": "stream",
     "text": [
      "Answering 16 questions took 11.724s\n"
     ]
    },
    {
     "name": "stderr",
     "output_type": "stream",
     "text": [
      "\n"
     ]
    }
   ],
   "source": [
    "start_time = timer()\n",
    "\n",
    "answers = []\n",
    "correct = 0\n",
    "for answer in tqdm(generator(examples, questions), total=n_questions):\n",
    "    answers.append(answer)\n",
    "    if answer.correct:\n",
    "        correct += 1\n",
    "\n",
    "duration = timer() - start_time\n",
    "print(f\"Answering {n_questions} questions took {duration / 1000000000:0.3f}s\")"
   ]
  },
  {
   "cell_type": "code",
   "execution_count": 9,
   "id": "c38d0a7b-615d-4ff5-8c81-d7cb1387fd56",
   "metadata": {},
   "outputs": [
    {
     "data": {
      "text/plain": [
       "{'n': 16, 'correct': 8, 'accuracy': 0.5, 'rps': 1.3647031146868587}"
      ]
     },
     "execution_count": 9,
     "metadata": {},
     "output_type": "execute_result"
    }
   ],
   "source": [
    "# Calculate metrics\n",
    "metrics = {\n",
    "    \"n\": n_questions,\n",
    "    \"correct\": correct,\n",
    "    \"accuracy\": correct / n_questions,\n",
    "    \"rps\": 1000000000 * n_questions / duration,\n",
    "}\n",
    "\n",
    "metrics"
   ]
  },
  {
   "cell_type": "code",
   "execution_count": 10,
   "id": "3904f711-590c-4694-b5d1-f46f51f69db6",
   "metadata": {},
   "outputs": [
    {
     "data": {
      "text/plain": [
       "'3'"
      ]
     },
     "execution_count": 10,
     "metadata": {},
     "output_type": "execute_result"
    }
   ],
   "source": [
    "generator.tokenizer.decode([18])"
   ]
  },
  {
   "cell_type": "markdown",
   "id": "87ad608d-c80b-4f14-9549-a32bac7fb8a5",
   "metadata": {},
   "source": [
    "# Analyzing Answers"
   ]
  },
  {
   "cell_type": "code",
   "execution_count": 11,
   "id": "311544cd-2ab6-4d45-a210-f6a6b46a8eb8",
   "metadata": {},
   "outputs": [],
   "source": [
    "# Correct questions\n",
    "correct_answers = tuple(a for a in answers if a.correct)\n",
    "correct_questions = tuple(questions[a.qid] for a in correct_answers)\n",
    "\n",
    "# Incorrect questions\n",
    "incorrect_answers = tuple(a for a in answers if not a.correct)\n",
    "incorrect_questions = tuple(questions[a.qid] for a in incorrect_answers)"
   ]
  },
  {
   "cell_type": "markdown",
   "id": "855f5103-590f-4996-96ab-86b4783ff521",
   "metadata": {},
   "source": [
    "## Uncertainty: Correct Answers"
   ]
  },
  {
   "cell_type": "code",
   "execution_count": 12,
   "id": "c7f7804c-71bd-4b20-b624-5154dcfe1439",
   "metadata": {},
   "outputs": [
    {
     "data": {
      "image/png": "[encoded data removed]",
      "text/plain": [
       "<Figure size 1200x300 with 3 Axes>"
      ]
     },
     "metadata": {},
     "output_type": "display_data"
    }
   ],
   "source": [
    "selected = sample(correct_answers, 3)\n",
    "\n",
    "fig, axs = plt.subplots(ncols=len(selected), figsize=(12,3))\n",
    "for i, answer in enumerate(selected):\n",
    "    sns.barplot(data=answer.scores, ax=axs[i])\n",
    "    axs[i].set_title(f\"Answer: {answer.expected}\")"
   ]
  },
  {
   "cell_type": "markdown",
   "id": "70f810c2-6098-4b25-8706-d4d7943c9769",
   "metadata": {},
   "source": [
    "## Uncertainty: Incorrect Answers"
   ]
  },
  {
   "cell_type": "code",
   "execution_count": 13,
   "id": "1fa29b55-76b1-4019-85ea-bbcd4cff76b4",
   "metadata": {},
   "outputs": [
    {
     "data": {
      "image/png": "[encoded data removed]",
      "text/plain": [
       "<Figure size 1200x300 with 3 Axes>"
      ]
     },
     "metadata": {},
     "output_type": "display_data"
    }
   ],
   "source": [
    "selected = sample(incorrect_answers, 3)\n",
    "\n",
    "fig, axs = plt.subplots(ncols=len(selected), figsize=(12,3))\n",
    "for i, answer in enumerate(selected):\n",
    "    sns.barplot(data=answer.scores, ax=axs[i])\n",
    "    axs[i].set_title(f\"Answer: {answer.expected}\")"
   ]
  },
  {
   "cell_type": "code",
   "execution_count": null,
   "id": "1ab760be-941f-4b58-b1f0-dff0d283aeb1",
   "metadata": {},
   "outputs": [],
   "source": []
  },
  {
   "cell_type": "code",
   "execution_count": null,
   "id": "6406f23a-2078-4fa5-949f-2627a5e250ac",
   "metadata": {},
   "outputs": [],
   "source": []
  },
  {
   "cell_type": "code",
   "execution_count": null,
   "id": "2262f814-969c-447c-8cdb-41c137495440",
   "metadata": {},
   "outputs": [],
   "source": []
  }
 ],
 "metadata": {
  "kernelspec": {
   "display_name": "Python 3 (ipykernel)",
   "language": "python",
   "name": "python3"
  },
  "language_info": {
   "codemirror_mode": {
    "name": "ipython",
    "version": 3
   },
   "file_extension": ".py",
   "mimetype": "text/x-python",
   "name": "python",
   "nbconvert_exporter": "python",
   "pygments_lexer": "ipython3",
   "version": "3.12.6"
  }
 },
 "nbformat": 4,
 "nbformat_minor": 5
}
