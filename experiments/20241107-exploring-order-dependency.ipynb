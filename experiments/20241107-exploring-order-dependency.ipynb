{
 "cells": [
  {
   "cell_type": "markdown",
   "id": "69f16f61-2ff6-43a5-b504-48ea621f7442",
   "metadata": {},
   "source": [
    "# Exploring Order Dependency in LLMs"
   ]
  },
  {
   "cell_type": "markdown",
   "id": "ae64b27b-1485-4680-b85c-1b6eab592fc9",
   "metadata": {},
   "source": [
    "While LLMs have demonstrated remarkable capabilities in understanding and generating text, they also exhibit a number of unexpected behavioral patterns. Hallucinations are one well known example, but there are others that are less obvious and more subtle.\n",
    "\n",
    "In this experiment, we'll explore the *order dependency problem*: a language models' sensitivity to the order of tokens in a sequence. Multiple researchers have shown that small changes to the order that information is presented to a model can make a large difference in the model's response. Like hallucinations, order dependency is a significant obstacle to user acceptance and broader adoption of AI solutions. This is because order dependency leads to inconsistent model outputs, making models seem unreliable and eroding users' trust. Understandably so. For AI solutions to deliver on their promises, they need to be more robust. We can't accept healthcare models that change a diagnosis based on the order a patient's labs are entered. Or financial models that approve or deny loan applications based on who is first or last in line.\n",
    "\n",
    "One specific area where order dependency has been thoroughly studied is in answering multiple choice questions (MCQs). MCQs are widely used as benchmarks to evaluate LLMs' language understanding and reasoning capabilities. However, multiple researchers have independently shown that simply changing the order the choices are presented can dramatically change a model's score. They've also demonstrated this behavior isn't limited to one or two models, but is a general pattern exhibited the decoder-only Transformer architectures that dominate the current landscape.\n",
    "\n",
    "We'll spend the rest of this experiment exploring the order dependency problem from multiple viewpoints. First, we'll demonstrate the problem on a tiny sample of MCQs. Next, we'll step back and evaluate the extent of the problem. Next, we'll take a closer look at the leading hypotheses for what's causing the sensitivity and then consider several ways to potentially mitigate the issue."
   ]
  },
  {
   "cell_type": "markdown",
   "id": "b1e1db0b-9a5f-46c0-bfa4-a197b7f1480f",
   "metadata": {},
   "source": [
    "# Setup"
   ]
  },
  {
   "cell_type": "code",
   "execution_count": 1,
   "id": "e0effe68-7c46-42e6-ae15-1ed5fa5dd9ff",
   "metadata": {},
   "outputs": [],
   "source": [
    "#-------------------------------------------------------------------------------\n",
    "# Imports\n",
    "#-------------------------------------------------------------------------------\n",
    "\n",
    "import logging\n",
    "import os\n",
    "from pathlib import Path\n",
    "from random import sample\n",
    "from time import perf_counter_ns as timer\n",
    "\n",
    "from IPython.display import display\n",
    "from matplotlib import pyplot as plt\n",
    "from pandas import DataFrame\n",
    "import seaborn as sns\n",
    "from tqdm import tqdm\n",
    "\n",
    "import llama_benchmarks as llb\n",
    "from llama_benchmarks.models import llama\n",
    "from llama_benchmarks.mmlu import Question, Questions, Answer, Answers, MMLULlamaGenerator, OPTIONS"
   ]
  },
  {
   "cell_type": "code",
   "execution_count": 2,
   "id": "d2fc4708-520e-4b06-9c06-45edf9ecadee",
   "metadata": {},
   "outputs": [],
   "source": [
    "#-------------------------------------------------------------------------------\n",
    "# Parameters\n",
    "#-------------------------------------------------------------------------------\n",
    "\n",
    "# Sample size\n",
    "n_questions = 16"
   ]
  },
  {
   "cell_type": "code",
   "execution_count": 3,
   "id": "440b3e3d-b303-489e-a9df-2c8f3b479641",
   "metadata": {},
   "outputs": [],
   "source": [
    "#-------------------------------------------------------------------------------\n",
    "# Configure Experiment\n",
    "#-------------------------------------------------------------------------------\n",
    "\n",
    "# Switch to project root\n",
    "if os.path.basename(os.getcwd()) == \"experiments\":\n",
    "    os.chdir(\"..\")\n",
    "\n",
    "# Configure logger\n",
    "logger = logging.getLogger(__name__)\n",
    "\n",
    "# Path to datasets\n",
    "datasets_path = Path(\".build\") / \"datasets\" "
   ]
  },
  {
   "cell_type": "code",
   "execution_count": 4,
   "id": "b5efb554-1a8f-440c-8d1a-7816610107b2",
   "metadata": {},
   "outputs": [],
   "source": [
    "#-------------------------------------------------------------------------------\n",
    "# Utility Functions\n",
    "#-------------------------------------------------------------------------------\n",
    "\n",
    "def show_questions(questions: Questions):\n",
    "    display(DataFrame(questions))"
   ]
  },
  {
   "cell_type": "markdown",
   "id": "38b17f0f-6f0b-4388-9c7c-4117f4b160d8",
   "metadata": {},
   "source": [
    "# Related Work"
   ]
  },
  {
   "cell_type": "markdown",
   "id": "306016f9-3322-4ae7-b157-397e2a3ffaa1",
   "metadata": {},
   "source": [
    "The ideas and concepts presented here lean heavily on three research papers published over the past 2 years. Pezeshkpour and Hruschka (2023) studied order dependency in GPT4 (OpenAI et al. 2024) and InstructGPT (Ouyang et al. 2022) and hypothesized the issue was caused by a mixture of uncertainty and *positional bias*. Zheng et al. (2024) studied order dependency in 20 LLMs from 4 popular families and suggested the issue was actually due to *token bias* instead of positional bias. Finally, McIlroy-Young et al. (2024) built on the ideas from the first two papers and recommended a general Set-Based Prompting solution."
   ]
  },
  {
   "cell_type": "markdown",
   "id": "3bee6f22-e580-409d-970f-2a5e03fcaaf3",
   "metadata": {},
   "source": [
    "# Demonstrating Order Dependency"
   ]
  },
  {
   "cell_type": "markdown",
   "id": "2dfb0056-01ca-4a98-91d5-f12724a0e6ff",
   "metadata": {},
   "source": [
    "Let's start by investigating what order dependency looks like in action. We'll start with a random sample of questions from the Massive Multitask Language Understanding (MMLU) (Hendrycks et al. 2021) benchmark dataset. MMLU contains 14,042 MCQs from 57 categories. Each question has 4 options A, B, C, and D and one correct answer. In addition, each category has 5 example questions designed for few-shot experiments."
   ]
  },
  {
   "cell_type": "markdown",
   "id": "1fa5ada8-b0b4-4ef6-a7ce-1c869f412882",
   "metadata": {},
   "source": [
    "## MMLU Dataset"
   ]
  },
  {
   "cell_type": "code",
   "execution_count": 5,
   "id": "216b6a4f-4980-4267-abba-2c7e16d1ec1d",
   "metadata": {},
   "outputs": [
    {
     "data": {
      "text/html": [
       "<div>\n",
       "<style scoped>\n",
       "    .dataframe tbody tr th:only-of-type {\n",
       "        vertical-align: middle;\n",
       "    }\n",
       "\n",
       "    .dataframe tbody tr th {\n",
       "        vertical-align: top;\n",
       "    }\n",
       "\n",
       "    .dataframe thead th {\n",
       "        text-align: right;\n",
       "    }\n",
       "</style>\n",
       "<table border=\"1\" class=\"dataframe\">\n",
       "  <thead>\n",
       "    <tr style=\"text-align: right;\">\n",
       "      <th></th>\n",
       "      <th>category</th>\n",
       "      <th>question</th>\n",
       "      <th>A</th>\n",
       "      <th>B</th>\n",
       "      <th>C</th>\n",
       "      <th>D</th>\n",
       "      <th>answer</th>\n",
       "    </tr>\n",
       "  </thead>\n",
       "  <tbody>\n",
       "    <tr>\n",
       "      <th>0</th>\n",
       "      <td>marketing</td>\n",
       "      <td>What channel structure is it where the produc...</td>\n",
       "      <td>Direct.</td>\n",
       "      <td>Indirect.</td>\n",
       "      <td>Hybrid.</td>\n",
       "      <td>None of the above.</td>\n",
       "      <td>A</td>\n",
       "    </tr>\n",
       "    <tr>\n",
       "      <th>1</th>\n",
       "      <td>professional law</td>\n",
       "      <td>A housing corporation owned a tract of land. T...</td>\n",
       "      <td>The rule in Spencer's Case prevents the librar...</td>\n",
       "      <td>The librarian is not in privity of contract wi...</td>\n",
       "      <td>The librarian is not in privity of estate with...</td>\n",
       "      <td>Other lots in the immediate vicinity are used ...</td>\n",
       "      <td>B</td>\n",
       "    </tr>\n",
       "    <tr>\n",
       "      <th>2</th>\n",
       "      <td>professional accounting</td>\n",
       "      <td>Which of the following events most likely woul...</td>\n",
       "      <td>Insuring the lives of key executives and listi...</td>\n",
       "      <td>Selling real estate at a price that differs si...</td>\n",
       "      <td>Making a loan with specific scheduled terms fo...</td>\n",
       "      <td>Granting stock options to key executives at fa...</td>\n",
       "      <td>B</td>\n",
       "    </tr>\n",
       "  </tbody>\n",
       "</table>\n",
       "</div>"
      ],
      "text/plain": [
       "                  category                                           question  \\\n",
       "0                marketing   What channel structure is it where the produc...   \n",
       "1         professional law  A housing corporation owned a tract of land. T...   \n",
       "2  professional accounting  Which of the following events most likely woul...   \n",
       "\n",
       "                                                   A  \\\n",
       "0                                            Direct.   \n",
       "1  The rule in Spencer's Case prevents the librar...   \n",
       "2  Insuring the lives of key executives and listi...   \n",
       "\n",
       "                                                   B  \\\n",
       "0                                          Indirect.   \n",
       "1  The librarian is not in privity of contract wi...   \n",
       "2  Selling real estate at a price that differs si...   \n",
       "\n",
       "                                                   C  \\\n",
       "0                                            Hybrid.   \n",
       "1  The librarian is not in privity of estate with...   \n",
       "2  Making a loan with specific scheduled terms fo...   \n",
       "\n",
       "                                                   D answer  \n",
       "0                                 None of the above.      A  \n",
       "1  Other lots in the immediate vicinity are used ...      B  \n",
       "2  Granting stock options to key executives at fa...      B  "
      ]
     },
     "metadata": {},
     "output_type": "display_data"
    }
   ],
   "source": [
    "# Path to downloaded dataset\n",
    "mmlu_dataset_path = datasets_path / \"mmlu\"\n",
    "\n",
    "# Load a random sample of questions from MMLU\n",
    "examples, questions = llb.mmlu.load_dataset(mmlu_dataset_path, n_questions=n_questions)\n",
    "show_questions(questions[0:3])"
   ]
  },
  {
   "cell_type": "markdown",
   "id": "cb9194dd-2d76-4cd6-9171-a7cc2f96bbc8",
   "metadata": {},
   "source": [
    "Before we move on to the LLMs, we need to clean up the MMLU data a bit. Our goal is to highlight the selection bias inherent to the model. This means we can't give the model any reason to favor one option over another. However, the answers in MMLU are not evenly distributed. To control for this, we'll evenly distribute the answers across the 4 options A, B, C, D in both the example and test questions."
   ]
  },
  {
   "cell_type": "code",
   "execution_count": 6,
   "id": "7c743b73-208a-4373-ad0e-d430770e3a3f",
   "metadata": {},
   "outputs": [],
   "source": [
    "# Sample a category\n",
    "category = sample(examples, 1)[0].category\n",
    "\n",
    "# Record initial answer distribution for category\n",
    "selected_examples = tuple(e for e in examples if e.category == category)\n",
    "example_distribution1 = llb.mmlu.answer_distribution(selected_examples)\n",
    "question_distribution1 = llb.mmlu.answer_distribution(questions)\n",
    "\n",
    "# Debias examples and questions\n",
    "examples = llb.mmlu.debias_example_answers(examples)\n",
    "questions = llb.mmlu.debias_question_answers(questions)\n",
    "\n",
    "# Record debiased answer distribution for category\n",
    "selected = tuple(e for e in examples if e.category == category)\n",
    "example_distribution2 = llb.mmlu.answer_distribution(selected)\n",
    "question_distribution2 = llb.mmlu.answer_distribution(questions)"
   ]
  },
  {
   "cell_type": "code",
   "execution_count": 7,
   "id": "323856b4-3b90-43bb-8877-d04df2d8fd6c",
   "metadata": {
    "jupyter": {
     "source_hidden": true
    }
   },
   "outputs": [
    {
     "data": {
      "image/png": "[encoded data removed]",
      "text/plain": [
       "<Figure size 1000x600 with 4 Axes>"
      ]
     },
     "metadata": {},
     "output_type": "display_data"
    }
   ],
   "source": [
    "fig, axs = plt.subplots(ncols=2, nrows=2, figsize=(10,6))\n",
    "\n",
    "sns.barplot(example_distribution1, ax=axs[0][0])\n",
    "axs[0][0].set_title(\"Initial Examples\")\n",
    "\n",
    "sns.barplot(example_distribution2, ax=axs[0][1])\n",
    "axs[0][1].set_title(\"Debiased Examples\")\n",
    "\n",
    "sns.barplot(question_distribution1, ax=axs[1][0])\n",
    "axs[1][0].set_title(\"Initial Questions\")\n",
    "\n",
    "sns.barplot(question_distribution2, ax=axs[1][1])\n",
    "axs[1][1].set_title(\"Debiased Questions\")\n",
    "\n",
    "fig.subplots_adjust(hspace=0.3)"
   ]
  },
  {
   "cell_type": "markdown",
   "id": "124223e8-5905-43aa-a28e-b04e52662727",
   "metadata": {},
   "source": [
    "## Model"
   ]
  },
  {
   "cell_type": "markdown",
   "id": "1445017a-f7bc-4211-8c0e-d8874326bbf2",
   "metadata": {},
   "source": [
    "Next, we'll run the questions by a Llama 3.2 3B LLM, change the order of the options, answer them with the LLM again, and then see which answers changed. Llama 3.2 3B is a state-of-the-art LLM from Meta that is ideal for local experiments because it's open source and fits on a smaller system with a single GPU."
   ]
  },
  {
   "cell_type": "markdown",
   "id": "5747e9f7-9b4d-4e4b-b850-e959c02369b3",
   "metadata": {},
   "source": [
    "## Workflow"
   ]
  },
  {
   "cell_type": "markdown",
   "id": "43594007-c01e-4e3e-b383-08c1cd7ec92a",
   "metadata": {},
   "source": [
    "To quantify the model's accuracy, we'll follow the same MCQ evaluation protocol used by Zheng et al. (2024) and others. We combine each question and relevant examples into a 4-shot prompt and present the prompt to the LLM. Instead of trying to parse the answer from the model's output stream, we extract the logits for tokens \"A\", \"B\", \"C\", \"D\" from the model's output layer and convert them to probabilities. Not only does this let us quickly identify the model's \"answer\", it also gives us a direct representation of the model's uncertainty.\n",
    "\n",
    "To make the analysis easier, we use a custom generator `llama_benchmarks.mmlu.MMLULlamaGenerator` that provides an interface that takes MMLU examples and questions, uses a custom head stage to extracts logits for \"A\", \"B\", \"C\", \"D\", and avoids all token sampling. This streamlined generator scaffolding is wrapped around the off-the-shelf Llama 3.2 3B model downloaded from Meta (https://www.llama.com/)."
   ]
  },
  {
   "cell_type": "code",
   "execution_count": 8,
   "id": "c59b999c-2436-4cdc-875e-f8937a85cf49",
   "metadata": {},
   "outputs": [
    {
     "data": {
      "text/plain": [
       "{'device': device(type='mps'),\n",
       " 'checkpoint_path': PosixPath('/Users/andrewyoung/.llama/checkpoints/Llama3.2-3B'),\n",
       " 'vocab_size': 128256,\n",
       " 'd_model': 3072,\n",
       " 'd_head': 128,\n",
       " 'd_ffn': 8192,\n",
       " 'n_layers': 28,\n",
       " 'n_heads': 24,\n",
       " 'n_kv_heads': 8,\n",
       " 'rms_norm_eps': 1e-05,\n",
       " 'rope_theta': 500000.0,\n",
       " 'max_seq_len': 8192,\n",
       " 'temperature': 0.6,\n",
       " 'top_k': 50,\n",
       " 'top_p': 0.9,\n",
       " 'max_completion_tokens': 64}"
      ]
     },
     "execution_count": 8,
     "metadata": {},
     "output_type": "execute_result"
    }
   ],
   "source": [
    "config = llama.config(\"Llama3.2-3B\")\n",
    "config._asdict()"
   ]
  },
  {
   "cell_type": "code",
   "execution_count": 9,
   "id": "d5fd5595-6feb-4bc3-aaf4-d9f5de913bd1",
   "metadata": {},
   "outputs": [],
   "source": [
    "generator = MMLULlamaGenerator(config)"
   ]
  },
  {
   "cell_type": "markdown",
   "id": "e5b2e62f-7fe7-4363-a036-3786329ba3b8",
   "metadata": {},
   "source": [
    "Next, we'll record the model's accuracy across 5 segments: U, A, B, C, D. The U segment is the initial \"uniform\" segment where the answers are evenly distributed across all 4 options. The A, B, C, D segments are when the correct answers are shifted entirely to each option. This approach will provide a set of concrete examples we can inspect in more detail and also sets us up to evaluate the model's sensitivity at scale."
   ]
  },
  {
   "cell_type": "code",
   "execution_count": 10,
   "id": "ef66f6e3-0d00-41ae-b814-a59510bfbdda",
   "metadata": {},
   "outputs": [
    {
     "name": "stderr",
     "output_type": "stream",
     "text": [
      "U: 100%|███████████████████████████████████████████████████████████████████████████████████████████████████████████████████████████████████████████████████| 16/16 [00:11<00:00,  1.43it/s]\n",
      "A: 100%|███████████████████████████████████████████████████████████████████████████████████████████████████████████████████████████████████████████████████| 16/16 [00:10<00:00,  1.48it/s]\n",
      "B: 100%|███████████████████████████████████████████████████████████████████████████████████████████████████████████████████████████████████████████████████| 16/16 [00:11<00:00,  1.42it/s]\n",
      "C: 100%|███████████████████████████████████████████████████████████████████████████████████████████████████████████████████████████████████████████████████| 16/16 [00:11<00:00,  1.42it/s]\n",
      "D: 100%|███████████████████████████████████████████████████████████████████████████████████████████████████████████████████████████████████████████████████| 16/16 [00:11<00:00,  1.41it/s]\n"
     ]
    }
   ],
   "source": [
    "results = {}\n",
    "\n",
    "for segment in [\"U\", \"A\", \"B\", \"C\", \"D\"]:\n",
    "    selected_questions = questions\n",
    "\n",
    "    # If segment is A, B, C, D swap the answers to the target option\n",
    "    if segment in OPTIONS:\n",
    "        selected_questions = llb.mmlu.swap_answers(selected_questions, segment)\n",
    "\n",
    "    # Answer each question\n",
    "    start_time = timer()\n",
    "    answers = tuple(a for a in tqdm(generator(examples, selected_questions), total=n_questions, desc=segment))\n",
    "    duration = timer() - start_time\n",
    "    \n",
    "    # Record performance metrics\n",
    "    correct = sum(1 for a in answers if a.correct)\n",
    "    accuracy = correct / n_questions\n",
    "    rps = 1000000000 * n_questions / duration\n",
    "    \n",
    "    results[segment] = {\n",
    "        \"questions\": selected_questions,\n",
    "        \"answers\": answers,\n",
    "        \"n\": n_questions,\n",
    "        \"correct\": correct,\n",
    "        \"accuracy\": accuracy,\n",
    "        \"rps\": rps,\n",
    "    }"
   ]
  },
  {
   "cell_type": "code",
   "execution_count": 11,
   "id": "80fc8e57-2d98-44fb-94ac-ec266ebe30dd",
   "metadata": {
    "jupyter": {
     "source_hidden": true
    }
   },
   "outputs": [
    {
     "data": {
      "text/plain": [
       "Text(0.5, 0, 'Segment')"
      ]
     },
     "execution_count": 11,
     "metadata": {},
     "output_type": "execute_result"
    },
    {
     "data": {
      "image/png": "[encoded data removed]",
      "text/plain": [
       "<Figure size 640x480 with 1 Axes>"
      ]
     },
     "metadata": {},
     "output_type": "display_data"
    }
   ],
   "source": [
    "data={k: v[\"accuracy\"] for k, v in results.items()}\n",
    "ax = sns.scatterplot(data)\n",
    "ax.set_title(f\"Single Run (n={n_questions})\")\n",
    "ax.set_ylabel(\"Accuracy\")\n",
    "ax.set_xlabel(\"Segment\")"
   ]
  },
  {
   "cell_type": "markdown",
   "id": "f42c8acf-a268-4426-8129-98588afe6cec",
   "metadata": {},
   "source": [
    "Since the sample is random, the details of the accuracy plot will change with every run but you should see a significant difference in accuracy across the segments.\n",
    "\n",
    "Note that the model's behavior is completely deterministic here. There is no token sampling happening in the generator. If you rerun the same questions through the model, you'll get the same outputs."
   ]
  },
  {
   "cell_type": "markdown",
   "id": "4ea0e09c-3c96-4ff6-a38e-6b976b94dd01",
   "metadata": {},
   "source": [
    "## Error Analysis"
   ]
  },
  {
   "cell_type": "markdown",
   "id": "4789d22b-6d93-49f8-b8c9-225bae555d3e",
   "metadata": {},
   "source": [
    "Let's take a look at a few questions in detail starting with questions that went from correct to incorrect. These are questions where the model gave you the right answer to begin with, sounded like it knew what it was talking about, and then dropped the ball when the question was modified slightly."
   ]
  },
  {
   "cell_type": "code",
   "execution_count": 12,
   "id": "1aab1c65-8829-4764-aaed-a81c392931fb",
   "metadata": {},
   "outputs": [],
   "source": [
    "correct_u = {a.qid: a for a in results[\"U\"][\"answers\"] if a.correct}\n",
    "incorrect = {\n",
    "    \"A\": tuple(a for a in results[\"A\"][\"answers\"] if a.qid in correct_u and not a.correct),\n",
    "    \"B\": tuple(a for a in results[\"B\"][\"answers\"] if a.qid in correct_u and not a.correct),\n",
    "    \"C\": tuple(a for a in results[\"C\"][\"answers\"] if a.qid in correct_u and not a.correct),\n",
    "    \"D\": tuple(a for a in results[\"D\"][\"answers\"] if a.qid in correct_u and not a.correct),\n",
    "}"
   ]
  },
  {
   "cell_type": "code",
   "execution_count": 13,
   "id": "180cc3ee-3cb3-44d7-ad90-4c22c7bed382",
   "metadata": {},
   "outputs": [],
   "source": [
    "candidates = []\n",
    "for segment, answers in incorrect.items():\n",
    "    for answer in answers:\n",
    "        candidates.append((segment, answer))\n",
    "candidates = sample(candidates, len(candidates))"
   ]
  },
  {
   "cell_type": "code",
   "execution_count": 14,
   "id": "2d660b60-703e-4839-85e6-4d7d7dad6366",
   "metadata": {},
   "outputs": [],
   "source": [
    "it = iter(candidates)"
   ]
  },
  {
   "cell_type": "markdown",
   "id": "1b9e23f4-75f1-44b5-b975-7fdb081dfa9c",
   "metadata": {},
   "source": [
    "### Incorrect 0"
   ]
  },
  {
   "cell_type": "code",
   "execution_count": 15,
   "id": "c8abb508-a596-4e65-a471-cf0bf227204b",
   "metadata": {},
   "outputs": [],
   "source": [
    "segment, incorrect_answer = next(it)\n",
    "incorrect_question = results[segment][\"questions\"][incorrect_answer.qid]\n",
    "correct_answer = correct_u[incorrect_answer.qid]\n",
    "correct_question = results[\"U\"][\"questions\"][correct_answer.qid]"
   ]
  },
  {
   "cell_type": "markdown",
   "id": "73e7716f-1e14-4287-a196-22156b27accb",
   "metadata": {},
   "source": [
    "**Correct Question**"
   ]
  },
  {
   "cell_type": "code",
   "execution_count": 16,
   "id": "0757a60e-adc9-4d50-97e5-970d31abf655",
   "metadata": {},
   "outputs": [
    {
     "name": "stdout",
     "output_type": "stream",
     "text": [
      "The following are multiple choice questions (with answers) about high school microeconomics.\n",
      "\n",
      "Question: If the market price is above the perfectly competitive firm's average total cost curve, we expect that in the long run,\n",
      "\n",
      "A) the industry contracts as firms exit the market.\n",
      "B) the industry expands as firms exit the market.\n",
      "C) the industry expands as firms enter the market.\n",
      "D) the industry contracts as firms enter the market.\n",
      "\n",
      "Answer: \n",
      "\n",
      "C) the industry expands as firms enter the market.\n"
     ]
    }
   ],
   "source": [
    "print(llb.mmlu.generate_prompt(examples, correct_question, n_shots=0))\n",
    "print(f\"\\n{correct_answer.actual}) {getattr(correct_question, correct_answer.actual)}\")"
   ]
  },
  {
   "cell_type": "markdown",
   "id": "ecd6caa6-09c9-4d65-90dd-f0ba0d702544",
   "metadata": {},
   "source": [
    "**Incorrect Question**"
   ]
  },
  {
   "cell_type": "code",
   "execution_count": 17,
   "id": "0a624c82-caad-42cc-918c-e97861226f95",
   "metadata": {},
   "outputs": [
    {
     "name": "stdout",
     "output_type": "stream",
     "text": [
      "The following are multiple choice questions (with answers) about high school microeconomics.\n",
      "\n",
      "Question: If the market price is above the perfectly competitive firm's average total cost curve, we expect that in the long run,\n",
      "\n",
      "A) the industry contracts as firms exit the market.\n",
      "B) the industry expands as firms enter the market.\n",
      "C) the industry expands as firms exit the market.\n",
      "D) the industry contracts as firms enter the market.\n",
      "\n",
      "Answer: \n",
      "\n",
      "A) the industry contracts as firms exit the market.\n"
     ]
    }
   ],
   "source": [
    "print(llb.mmlu.generate_prompt(examples, incorrect_question, n_shots=0))\n",
    "print(f\"\\n{incorrect_answer.actual}) {getattr(incorrect_question, incorrect_answer.actual)}\")"
   ]
  },
  {
   "cell_type": "code",
   "execution_count": 18,
   "id": "3f618d8e-d902-4f33-997d-292d1fc02bf7",
   "metadata": {
    "jupyter": {
     "source_hidden": true
    }
   },
   "outputs": [
    {
     "data": {
      "text/plain": [
       "Text(0.5, 1.0, 'Incorrect')"
      ]
     },
     "execution_count": 18,
     "metadata": {},
     "output_type": "execute_result"
    },
    {
     "data": {
      "image/png": "[encoded data removed]",
      "text/plain": [
       "<Figure size 1200x400 with 2 Axes>"
      ]
     },
     "metadata": {},
     "output_type": "display_data"
    }
   ],
   "source": [
    "fig, axs = plt.subplots(ncols=2, sharey=True, figsize=(12,4))\n",
    "\n",
    "sns.barplot(correct_answer.scores, ax=axs[0])\n",
    "axs[0].set_title(\"Correct\")\n",
    "\n",
    "sns.barplot(incorrect_answer.scores, ax=axs[1])\n",
    "axs[1].set_title(\"Incorrect\")"
   ]
  },
  {
   "cell_type": "markdown",
   "id": "672e6778-c1bc-407d-a34e-e51fba3631e4",
   "metadata": {},
   "source": [
    "### Incorrect 1"
   ]
  },
  {
   "cell_type": "code",
   "execution_count": 19,
   "id": "665bf2f7-a813-4b3b-aaa1-10cd3652018b",
   "metadata": {},
   "outputs": [],
   "source": [
    "segment, incorrect_answer = next(it)\n",
    "incorrect_question = results[segment][\"questions\"][incorrect_answer.qid]\n",
    "correct_answer = correct_u[incorrect_answer.qid]\n",
    "correct_question = results[\"U\"][\"questions\"][correct_answer.qid]"
   ]
  },
  {
   "cell_type": "markdown",
   "id": "189465fe-be20-4532-bcd8-45ea9c494714",
   "metadata": {},
   "source": [
    "**Correct Question**"
   ]
  },
  {
   "cell_type": "code",
   "execution_count": 20,
   "id": "873e6d57-3b0b-4021-b335-c755a8a5e66a",
   "metadata": {},
   "outputs": [
    {
     "name": "stdout",
     "output_type": "stream",
     "text": [
      "The following are multiple choice questions (with answers) about high school microeconomics.\n",
      "\n",
      "Question: If the market price is above the perfectly competitive firm's average total cost curve, we expect that in the long run,\n",
      "\n",
      "A) the industry contracts as firms exit the market.\n",
      "B) the industry expands as firms exit the market.\n",
      "C) the industry expands as firms enter the market.\n",
      "D) the industry contracts as firms enter the market.\n",
      "\n",
      "Answer: \n",
      "\n",
      "C) the industry expands as firms enter the market.\n"
     ]
    }
   ],
   "source": [
    "print(llb.mmlu.generate_prompt(examples, correct_question, n_shots=0))\n",
    "print(f\"\\n{correct_answer.actual}) {getattr(correct_question, correct_answer.actual)}\")"
   ]
  },
  {
   "cell_type": "markdown",
   "id": "0cf6cf00-5314-4a60-9142-fae590b6b4aa",
   "metadata": {},
   "source": [
    "**Incorrect Question**"
   ]
  },
  {
   "cell_type": "code",
   "execution_count": 21,
   "id": "a563c180-f524-4e94-97c3-7dde60a298ae",
   "metadata": {},
   "outputs": [
    {
     "name": "stdout",
     "output_type": "stream",
     "text": [
      "The following are multiple choice questions (with answers) about high school microeconomics.\n",
      "\n",
      "Question: If the market price is above the perfectly competitive firm's average total cost curve, we expect that in the long run,\n",
      "\n",
      "A) the industry contracts as firms exit the market.\n",
      "B) the industry expands as firms exit the market.\n",
      "C) the industry contracts as firms enter the market.\n",
      "D) the industry expands as firms enter the market.\n",
      "\n",
      "Answer: \n",
      "\n",
      "C) the industry contracts as firms enter the market.\n"
     ]
    }
   ],
   "source": [
    "print(llb.mmlu.generate_prompt(examples, incorrect_question, n_shots=0))\n",
    "print(f\"\\n{incorrect_answer.actual}) {getattr(incorrect_question, incorrect_answer.actual)}\")"
   ]
  },
  {
   "cell_type": "code",
   "execution_count": 22,
   "id": "17f0e946-3443-49ef-9381-67e9aa27098e",
   "metadata": {
    "jupyter": {
     "source_hidden": true
    }
   },
   "outputs": [
    {
     "data": {
      "text/plain": [
       "Text(0.5, 1.0, 'Incorrect')"
      ]
     },
     "execution_count": 22,
     "metadata": {},
     "output_type": "execute_result"
    },
    {
     "data": {
      "image/png": "[encoded data removed]",
      "text/plain": [
       "<Figure size 1200x400 with 2 Axes>"
      ]
     },
     "metadata": {},
     "output_type": "display_data"
    }
   ],
   "source": [
    "fig, axs = plt.subplots(ncols=2, sharey=True, figsize=(12,4))\n",
    "\n",
    "sns.barplot(correct_answer.scores, ax=axs[0])\n",
    "axs[0].set_title(\"Correct\")\n",
    "\n",
    "sns.barplot(incorrect_answer.scores, ax=axs[1])\n",
    "axs[1].set_title(\"Incorrect\")"
   ]
  },
  {
   "cell_type": "markdown",
   "id": "b2a900d8-a5c4-4162-b14c-137e059a0d64",
   "metadata": {},
   "source": [
    "### Incorrect 2"
   ]
  },
  {
   "cell_type": "code",
   "execution_count": 23,
   "id": "ef6a0c7f-2a11-4c28-b93d-7ea46fe26236",
   "metadata": {},
   "outputs": [],
   "source": [
    "segment, incorrect_answer = next(it)\n",
    "incorrect_question = results[segment][\"questions\"][incorrect_answer.qid]\n",
    "correct_answer = correct_u[incorrect_answer.qid]\n",
    "correct_question = results[\"U\"][\"questions\"][correct_answer.qid]"
   ]
  },
  {
   "cell_type": "markdown",
   "id": "3950e361-49de-4a23-b07b-774ab7fa7308",
   "metadata": {},
   "source": [
    "**Correct Question**"
   ]
  },
  {
   "cell_type": "code",
   "execution_count": 24,
   "id": "e5ad94f3-9313-4861-b2a2-a9fee43ceca0",
   "metadata": {},
   "outputs": [
    {
     "name": "stdout",
     "output_type": "stream",
     "text": [
      "The following are multiple choice questions (with answers) about high school mathematics.\n",
      "\n",
      "Question: Where, in the first quadrant, does the rose r = sin 3θ have a vertical tangent?\n",
      "\n",
      "A) nowhere\n",
      "B) θ=  0.47\n",
      "C) θ = 0.39\n",
      "D) θ = 0.52\n",
      "\n",
      "Answer: \n",
      "\n",
      "B) θ=  0.47\n"
     ]
    }
   ],
   "source": [
    "print(llb.mmlu.generate_prompt(examples, correct_question, n_shots=0))\n",
    "print(f\"\\n{correct_answer.actual}) {getattr(correct_question, correct_answer.actual)}\")"
   ]
  },
  {
   "cell_type": "markdown",
   "id": "b27508f8-c991-4775-b6a7-ed04465e9c86",
   "metadata": {},
   "source": [
    "**Incorrect Question**"
   ]
  },
  {
   "cell_type": "code",
   "execution_count": 25,
   "id": "46d3cf1a-f33b-496a-a1ac-88c7523ea695",
   "metadata": {},
   "outputs": [
    {
     "name": "stdout",
     "output_type": "stream",
     "text": [
      "The following are multiple choice questions (with answers) about high school mathematics.\n",
      "\n",
      "Question: Where, in the first quadrant, does the rose r = sin 3θ have a vertical tangent?\n",
      "\n",
      "A) nowhere\n",
      "B) θ = 0.52\n",
      "C) θ = 0.39\n",
      "D) θ=  0.47\n",
      "\n",
      "Answer: \n",
      "\n",
      "B) θ = 0.52\n"
     ]
    }
   ],
   "source": [
    "print(llb.mmlu.generate_prompt(examples, incorrect_question, n_shots=0))\n",
    "print(f\"\\n{incorrect_answer.actual}) {getattr(incorrect_question, incorrect_answer.actual)}\")"
   ]
  },
  {
   "cell_type": "code",
   "execution_count": 26,
   "id": "276c1abb-d1b3-4d14-ac42-48c523728829",
   "metadata": {
    "jupyter": {
     "source_hidden": true
    }
   },
   "outputs": [
    {
     "data": {
      "text/plain": [
       "Text(0.5, 1.0, 'Incorrect')"
      ]
     },
     "execution_count": 26,
     "metadata": {},
     "output_type": "execute_result"
    },
    {
     "data": {
      "image/png": "[encoded data removed]",
      "text/plain": [
       "<Figure size 1200x400 with 2 Axes>"
      ]
     },
     "metadata": {},
     "output_type": "display_data"
    }
   ],
   "source": [
    "fig, axs = plt.subplots(ncols=2, sharey=True, figsize=(12,4))\n",
    "\n",
    "sns.barplot(correct_answer.scores, ax=axs[0])\n",
    "axs[0].set_title(\"Correct\")\n",
    "\n",
    "sns.barplot(incorrect_answer.scores, ax=axs[1])\n",
    "axs[1].set_title(\"Incorrect\")"
   ]
  },
  {
   "cell_type": "markdown",
   "id": "17bda1cb-449b-4a65-ab0f-47fd0279ef79",
   "metadata": {},
   "source": [
    "## Key Observations"
   ]
  },
  {
   "cell_type": "markdown",
   "id": "cbce3607-af40-4df4-8c47-88ba695d3ccb",
   "metadata": {},
   "source": [
    "One anecdotal pattern that immediately stands out is the model seems to stick with the original option even after we switched the answers. It's as if the model simply guessed correctly the first time and then stuck with the same guess the second time."
   ]
  },
  {
   "cell_type": "code",
   "execution_count": null,
   "id": "5a74286e-9d54-456f-8dfb-404f2026c46f",
   "metadata": {},
   "outputs": [],
   "source": []
  },
  {
   "cell_type": "code",
   "execution_count": null,
   "id": "9ad898be-9b2b-4582-b675-7f34add175fb",
   "metadata": {},
   "outputs": [],
   "source": []
  },
  {
   "cell_type": "code",
   "execution_count": null,
   "id": "d2244e7c-28f6-4657-87fe-efa722b8a51a",
   "metadata": {},
   "outputs": [],
   "source": []
  },
  {
   "cell_type": "code",
   "execution_count": null,
   "id": "3f849e62-9bad-4b21-8b36-b7c48b7e8d53",
   "metadata": {},
   "outputs": [],
   "source": []
  },
  {
   "cell_type": "markdown",
   "id": "6527e32a-a5d6-438b-b9c9-7857425f99a6",
   "metadata": {},
   "source": [
    "# Quantifying Order Dependency"
   ]
  },
  {
   "cell_type": "code",
   "execution_count": null,
   "id": "90617a8d-0e1e-4309-82ce-8b8dd5ec734a",
   "metadata": {},
   "outputs": [],
   "source": []
  },
  {
   "cell_type": "code",
   "execution_count": null,
   "id": "59b9bbfc-3479-4629-aa21-118ed44cf786",
   "metadata": {},
   "outputs": [],
   "source": []
  },
  {
   "cell_type": "code",
   "execution_count": null,
   "id": "7c78c42f-a655-4edb-a150-8225e705d646",
   "metadata": {},
   "outputs": [],
   "source": []
  },
  {
   "cell_type": "markdown",
   "id": "b5e32186-85f6-4819-9433-c7c236522ac6",
   "metadata": {},
   "source": [
    "# Exploring Potential Order Dependency Causes"
   ]
  },
  {
   "cell_type": "code",
   "execution_count": null,
   "id": "8856bf54-57a2-466f-8264-b0f38e3adae6",
   "metadata": {},
   "outputs": [],
   "source": []
  },
  {
   "cell_type": "code",
   "execution_count": null,
   "id": "e0c0a5ce-1566-419a-9719-e7f61a78e5e3",
   "metadata": {},
   "outputs": [],
   "source": []
  },
  {
   "cell_type": "code",
   "execution_count": null,
   "id": "de299c97-9630-4cd0-b82d-fc55a8076bea",
   "metadata": {},
   "outputs": [],
   "source": []
  },
  {
   "cell_type": "markdown",
   "id": "a237e174-21a5-46c5-8218-0427c25fddf7",
   "metadata": {},
   "source": [
    "# Mitigating Order Dependency"
   ]
  },
  {
   "cell_type": "code",
   "execution_count": null,
   "id": "c7de168e-24e4-4843-8064-d94aad853062",
   "metadata": {},
   "outputs": [],
   "source": []
  },
  {
   "cell_type": "code",
   "execution_count": null,
   "id": "ca5d53b4-ad72-473a-87ed-6d5656325f65",
   "metadata": {},
   "outputs": [],
   "source": []
  },
  {
   "cell_type": "code",
   "execution_count": null,
   "id": "9c90bc42-19a2-4eb0-b1e4-c8f3f10f6ad9",
   "metadata": {},
   "outputs": [],
   "source": []
  },
  {
   "cell_type": "markdown",
   "id": "f4a963f0-9ce3-4ef2-90bb-59fa2d3f6218",
   "metadata": {},
   "source": [
    "# References"
   ]
  },
  {
   "cell_type": "markdown",
   "id": "8885ab5d-1299-4691-927d-218785362fb4",
   "metadata": {},
   "source": [
    "Almazrouei, Ebtesam, Hamza Alobeidli, Abdulaziz Alshamsi, Alessandro Cappelli, Ruxandra Cojocaru, Mérouane Debbah, Étienne Goffinet, et al. 2023. “The Falcon Series of Open Language Models.” arXiv. https://doi.org/10.48550/arXiv.2311.16867.\n",
    "\n",
    "Dubey, Abhimanyu, Abhinav Jauhri, Abhinav Pandey, Abhishek Kadian, Ahmad Al-Dahle, Aiesha Letman, Akhil Mathur, et al. 2024. “The Llama 3 Herd of Models.” arXiv.Org. July 31, 2024. https://arxiv.org/abs/2407.21783v2.\n",
    "\n",
    "Hendrycks, Dan, Collin Burns, Steven Basart, Andy Zou, Mantas Mazeika, Dawn Song, and Jacob Steinhardt. 2021. “Measuring Massive Multitask Language Understanding.” arXiv. https://doi.org/10.48550/arXiv.2009.03300.\n",
    "\n",
    "Liusie, Adian, Potsawee Manakul, and Mark J. F. Gales. 2024. “LLM Comparative Assessment: Zero-Shot NLG Evaluation through Pairwise Comparisons Using Large Language Models.” arXiv. https://doi.org/10.48550/arXiv.2307.07889.\n",
    "\n",
    "McIlroy-Young, Reid, Katrina Brown, Conlan Olson, Linjun Zhang, and Cynthia Dwork. 2024. “Set-Based Prompting: Provably Solving the Language Model Order Dependency Problem.” arXiv. https://doi.org/10.48550/arXiv.2406.06581.\n",
    "\n",
    "OpenAI, Josh Achiam, Steven Adler, Sandhini Agarwal, Lama Ahmad, Ilge Akkaya, Florencia Leoni Aleman, et al. 2024. “GPT-4 Technical Report.” arXiv. https://doi.org/10.48550/arXiv.2303.08774.\n",
    "\n",
    "Ouyang, Long, Jeff Wu, Xu Jiang, Diogo Almeida, Carroll L. Wainwright, Pamela Mishkin, Chong Zhang, et al. 2022. “Training Language Models to Follow Instructions with Human Feedback.” arXiv. https://doi.org/10.48550/arXiv.2203.02155.\n",
    "\n",
    "Pezeshkpour, Pouya, and Estevam Hruschka. 2023. “Large Language Models Sensitivity to The Order of Options in Multiple-Choice Questions.” arXiv. https://doi.org/10.48550/arXiv.2308.11483.\n",
    "\n",
    "“Vicuna: An Open-Source Chatbot Impressing GPT-4 with 90%* ChatGPT Quality | LMSYS Org.” n.d. Accessed November 7, 2024. https://lmsys.org/blog/2023-03-30-vicuna.\n",
    "\n",
    "Zheng, Chujie, Hao Zhou, Fandong Meng, Jie Zhou, and Minlie Huang. 2024. “Large Language Models Are Not Robust Multiple Choice Selectors.” arXiv. https://doi.org/10.48550/arXiv.2309.03882."
   ]
  }
 ],
 "metadata": {
  "kernelspec": {
   "display_name": "Python 3 (ipykernel)",
   "language": "python",
   "name": "python3"
  },
  "language_info": {
   "codemirror_mode": {
    "name": "ipython",
    "version": 3
   },
   "file_extension": ".py",
   "mimetype": "text/x-python",
   "name": "python",
   "nbconvert_exporter": "python",
   "pygments_lexer": "ipython3",
   "version": "3.12.6"
  }
 },
 "nbformat": 4,
 "nbformat_minor": 5
}
