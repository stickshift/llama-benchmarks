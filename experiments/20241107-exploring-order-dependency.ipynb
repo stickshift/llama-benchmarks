{
 "cells": [
  {
   "cell_type": "markdown",
   "id": "69f16f61-2ff6-43a5-b504-48ea621f7442",
   "metadata": {},
   "source": [
    "# Exploring Order Dependency in LLMs"
   ]
  },
  {
   "cell_type": "markdown",
   "id": "ae64b27b-1485-4680-b85c-1b6eab592fc9",
   "metadata": {},
   "source": [
    "While LLMs have demonstrated remarkable capabilities in understanding and generating text, they also exhibit a number of unexpected behavioral patterns. Hallucinations are one well known example, but there are others that are less obvious and more subtle.\n",
    "\n",
    "In this experiment, we'll explore the *order dependency problem*: a language models' sensitivity to the order of tokens in a sequence. Multiple researchers have shown that small changes to the order that information is presented to a model can make a large difference in the model's response. Like hallucinations, order dependency is a significant obstacle to user acceptance and broader adoption of AI solutions. This is because order dependency leads to inconsistent model outputs, making models seem unreliable and eroding users' trust. Understandably so. For AI solutions to deliver on their promises, they need to be more robust. We can't accept healthcare models that change a diagnosis based on the order a patient's labs are entered. Or financial models that approve or deny loan applications based on who is first or last in line.\n",
    "\n",
    "One specific area where order dependency has been thoroughly studied is in answering multiple choice questions (MCQs). MCQs are widely used as benchmarks to evaluate LLMs' language understanding and reasoning capabilities. However, multiple researchers have independently shown that simply changing the order the choices are presented can dramatically change a model's score. They've also demonstrated this behavior isn't limited to one or two models, but is a general pattern exhibited the decoder-only Transformer architectures that dominate the current landscape.\n",
    "\n",
    "We'll spend the rest of this experiment exploring the order dependency problem from multiple viewpoints. First, we'll demonstrate the problem on a tiny sample of MCQs. Next, we'll step back and evaluate the extent of the problem. Next, we'll take a closer look at the leading hypotheses for what's causing the sensitivity and then consider several ways to potentially mitigate the issue."
   ]
  },
  {
   "cell_type": "markdown",
   "id": "014011e0-806d-4005-9147-207ec69160f1",
   "metadata": {},
   "source": [
    "# Parameters"
   ]
  },
  {
   "cell_type": "code",
   "execution_count": 1,
   "id": "c2ac049f-8d79-4cc5-abee-55ac61c589d5",
   "metadata": {},
   "outputs": [],
   "source": [
    "# Sample size\n",
    "n_questions = 64\n",
    "\n",
    "# Number of test runs\n",
    "n_runs = 8"
   ]
  },
  {
   "cell_type": "markdown",
   "id": "b1e1db0b-9a5f-46c0-bfa4-a197b7f1480f",
   "metadata": {
    "jp-MarkdownHeadingCollapsed": true
   },
   "source": [
    "# Setup"
   ]
  },
  {
   "cell_type": "code",
   "execution_count": 2,
   "id": "e0effe68-7c46-42e6-ae15-1ed5fa5dd9ff",
   "metadata": {},
   "outputs": [],
   "source": [
    "#-------------------------------------------------------------------------------\n",
    "# Imports\n",
    "#-------------------------------------------------------------------------------\n",
    "\n",
    "import base64\n",
    "from collections import Counter\n",
    "import logging\n",
    "from io import BytesIO\n",
    "import os\n",
    "from pathlib import Path\n",
    "import random\n",
    "import re\n",
    "from time import perf_counter_ns as timer\n",
    "\n",
    "from IPython.display import display, HTML, Markdown\n",
    "from matplotlib import pyplot as plt\n",
    "from pandas import DataFrame\n",
    "import seaborn as sns\n",
    "from tqdm import tqdm\n",
    "\n",
    "import llama_benchmarks as llb\n",
    "from llama_benchmarks.models import llama\n",
    "from llama_benchmarks.mmlu import Question, Questions, Answer, Answers, MMLULlamaGenerator, OPTIONS"
   ]
  },
  {
   "cell_type": "code",
   "execution_count": 3,
   "id": "440b3e3d-b303-489e-a9df-2c8f3b479641",
   "metadata": {},
   "outputs": [],
   "source": [
    "#-------------------------------------------------------------------------------\n",
    "# Configure Experiment\n",
    "#-------------------------------------------------------------------------------\n",
    "\n",
    "# Switch to project root\n",
    "if os.path.basename(os.getcwd()) == \"experiments\":\n",
    "    os.chdir(\"..\")\n",
    "\n",
    "# Configure logger\n",
    "logger = logging.getLogger(__name__)\n",
    "\n",
    "# Path to datasets\n",
    "datasets_path = Path(\".build\") / \"datasets\""
   ]
  },
  {
   "cell_type": "code",
   "execution_count": 4,
   "id": "030ccf5e-4f5e-4609-a459-062da5b16544",
   "metadata": {},
   "outputs": [
    {
     "data": {
      "text/html": [
       "<style>\n",
       "table.questions td, table.questions th {\n",
       "    text-align: left !important;\n",
       "}\n",
       "</style>\n"
      ],
      "text/plain": [
       "<IPython.core.display.HTML object>"
      ]
     },
     "metadata": {},
     "output_type": "display_data"
    }
   ],
   "source": [
    "%%html\n",
    "<style>\n",
    "table.questions td, table.questions th {\n",
    "    text-align: left !important;\n",
    "}\n",
    "</style>"
   ]
  },
  {
   "cell_type": "code",
   "execution_count": 5,
   "id": "b5efb554-1a8f-440c-8d1a-7816610107b2",
   "metadata": {},
   "outputs": [],
   "source": [
    "#-------------------------------------------------------------------------------\n",
    "# Utility Functions\n",
    "#-------------------------------------------------------------------------------\n",
    "\n",
    "def show_questions(questions: Questions):\n",
    "    \"\"\"Render questions as a table.\"\"\"\n",
    "\n",
    "    max_rows = 5\n",
    "    rows = \"\"\n",
    "    for i in range(min(len(questions), max_rows)):\n",
    "        q = questions[i]\n",
    "        rows += f\"<tr><td>{q.qid}</td><td>{q.category}</td><td>{q.question}</td><td>{q.A}</td><td>{q.B}</td><td>{q.C}</td><td>{q.D}</td><td>{q.answer}</td></tr>\"\n",
    "    \n",
    "    display(HTML(        \n",
    "        f\"\"\"\n",
    "        <table class=\"questions\">\n",
    "        <tr><th>QID</th><th>Category</th><th>Question</th><th>A</th><th>B</th><th>C</th><th>D</th><th>Answer</th></tr>\n",
    "        {rows}\n",
    "        </table>\n",
    "        \"\"\"\n",
    "    ))    \n",
    "\n",
    "\n",
    "def remove_referentials(questions: Questions) -> Questions:\n",
    "    \"\"\"Discard questions with options that refer to other options, e.g. A or B.\"\"\"\n",
    "    word_pattern = re.compile(r\"\\b\\w+\\b\")\n",
    "\n",
    "    results = []\n",
    "    for q in questions:\n",
    "        # Look for options that refer to other options, e.g. A, B, A or B\n",
    "        referential_options = []\n",
    "        for option in OPTIONS:\n",
    "            option_value = getattr(q, option)\n",
    "            \n",
    "            # Break option_value into words\n",
    "            words = re.findall(word_pattern, option_value)\n",
    "    \n",
    "            # Look for references to options A, B, C, D\n",
    "            if any(o in words for o in OPTIONS):\n",
    "                referential_options.append(option)\n",
    "                continue\n",
    "\n",
    "            # Look for \"of the above\" as in None of the above, All of the above, etc\n",
    "            if \"of the above\" in option_value:\n",
    "                referential_options.append(option)\n",
    "                continue\n",
    "\n",
    "        # If q does not have self-referential options, keep it\n",
    "        if not referential_options:\n",
    "            results.append(q)\n",
    "\n",
    "    print(f\"Discarded {len(questions) - len(results)} questions\")\n",
    "\n",
    "    return tuple(results)\n",
    "\n",
    "\n",
    "def render_scores(answer: Answer):\n",
    "    \"\"\"Render scores for each option as a bar chart.\"\"\"\n",
    "    # Plot scores\n",
    "    fig, ax = plt.subplots()\n",
    "\n",
    "    default_color = \"#1f77b4\"\n",
    "    correct_color = \"#2ca02c\"\n",
    "    incorrect_color = \"#d62728\"\n",
    "    answer_color = correct_color if answer.correct else incorrect_color\n",
    "    \n",
    "    colors = [answer_color if k == answer.actual else default_color for k in answer.scores]\n",
    "    plt.bar(OPTIONS, [answer.scores[k] for k in OPTIONS], color=colors)\n",
    "\n",
    "    # Save to png\n",
    "    buffer = BytesIO()\n",
    "    fig.savefig(buffer, format=\"png\", bbox_inches=\"tight\")\n",
    "    plt.close(fig)\n",
    "    buffer.seek(0)\n",
    "\n",
    "    # Package png as html snippet\n",
    "    content = base64.b64encode(buffer.read()).decode(\"utf-8\")\n",
    "    html = f\"<img src=\\\"data:image/png;base64,{content}\\\">\"\n",
    "    \n",
    "    return html\n",
    "    \n",
    "    \n",
    "def example_question_report(qid: int):\n",
    "    \"\"\"Display summary report of question.\"\"\"\n",
    "    # Select question\n",
    "    question = next(q for q in questions if q.qid == qid)\n",
    "\n",
    "    # A\n",
    "    q = llb.mmlu.swap_answers([question], \"A\")[0]\n",
    "    p = llb.mmlu.generate_prompt(examples, q, n_shots=0, header=False)\n",
    "    a = next(generator(examples, [q]))\n",
    "    content_a = (p + f\"<b>{a.actual}</b>\").replace(\"\\n\", \"<br>\")\n",
    "    scores_a = render_scores(a)\n",
    "    \n",
    "    # B\n",
    "    q = llb.mmlu.swap_answers([question], \"B\")[0]\n",
    "    p = llb.mmlu.generate_prompt(examples, q, n_shots=0, header=False)\n",
    "    a = next(generator(examples, [q]))\n",
    "    answer_b = a\n",
    "    content_b = (p + f\"<b>{a.actual}</b>\").replace(\"\\n\", \"<br>\")\n",
    "    scores_b = render_scores(a)\n",
    "\n",
    "    # C\n",
    "    q = llb.mmlu.swap_answers([question], \"C\")[0]\n",
    "    p = llb.mmlu.generate_prompt(examples, q, n_shots=0, header=False)\n",
    "    a = next(generator(examples, [q]))\n",
    "    answer_c = a\n",
    "    content_c = (p + f\"<b>{a.actual}</b>\").replace(\"\\n\", \"<br>\")\n",
    "    scores_c = render_scores(a)\n",
    "\n",
    "    # D\n",
    "    q = llb.mmlu.swap_answers([question], \"D\")[0]\n",
    "    p = llb.mmlu.generate_prompt(examples, q, n_shots=0, header=False)\n",
    "    a = next(generator(examples, [q]))\n",
    "    answer_d = a\n",
    "    content_d = (p + f\"<b>{a.actual}</b>\").replace(\"\\n\", \"<br>\")\n",
    "    scores_d = render_scores(a)\n",
    "\n",
    "    display(HTML(        \n",
    "        f\"\"\"\n",
    "        <table class=\"questions\">\n",
    "        <tr><th>A</th><th>B</th><th>C</th><th>D</th></tr>\n",
    "        <tr><td>{content_a}</td><td>{content_b}</td><td>{content_c}</td><td>{content_d}</td></tr>\n",
    "        <tr><td>{scores_a}</td><td>{scores_b}</td><td>{scores_c}</td><td>{scores_d}</td></tr>\n",
    "        </table>\n",
    "        \"\"\"\n",
    "    ))"
   ]
  },
  {
   "cell_type": "markdown",
   "id": "38b17f0f-6f0b-4388-9c7c-4117f4b160d8",
   "metadata": {},
   "source": [
    "# Related Work"
   ]
  },
  {
   "cell_type": "markdown",
   "id": "306016f9-3322-4ae7-b157-397e2a3ffaa1",
   "metadata": {},
   "source": [
    "The ideas and concepts presented here lean heavily on three research papers published over the past 2 years. Pezeshkpour and Hruschka (2023) studied order dependency in GPT4 (OpenAI et al. 2024) and InstructGPT (Ouyang et al. 2022) and hypothesized the issue was caused by a mixture of uncertainty and *positional bias*. Zheng et al. (2024) studied order dependency in 20 LLMs from 4 popular families and suggested the issue was actually due to *token bias* instead of positional bias. Finally, McIlroy-Young et al. (2024) built on the ideas from the first two papers and recommended a general Set-Based Prompting solution."
   ]
  },
  {
   "cell_type": "markdown",
   "id": "f01ef48b-b92e-420c-90a5-7da65725c527",
   "metadata": {},
   "source": [
    "# MMLU Dataset"
   ]
  },
  {
   "cell_type": "markdown",
   "id": "3565ad64-b211-4a27-ad6c-a950886fbffe",
   "metadata": {},
   "source": [
    "First off, we need a source of MCQs. We'll use the standard benchmark Massive Multitask Language Understanding (MMLU) (Hendrycks et al. 2021) dataset. MMLU contains 14,042 MCQs from 57 categories. Each question has 4 options A, B, C, and D and one correct answer. In addition, each category has 5 example questions designed for few-shot experiments. MMLU can be downloaded from https://github.com/hendrycks/test."
   ]
  },
  {
   "cell_type": "code",
   "execution_count": 6,
   "id": "c2c381d7-08dd-453d-b0fc-c40b377aae5e",
   "metadata": {},
   "outputs": [
    {
     "data": {
      "text/html": [
       "\n",
       "        <table class=\"questions\">\n",
       "        <tr><th>QID</th><th>Category</th><th>Question</th><th>A</th><th>B</th><th>C</th><th>D</th><th>Answer</th></tr>\n",
       "        <tr><td>0</td><td>abstract algebra</td><td>Find the degree for the given field extension Q(sqrt(2), sqrt(3), sqrt(18)) over Q.</td><td>0</td><td>4</td><td>2</td><td>6</td><td>B</td></tr><tr><td>1</td><td>abstract algebra</td><td>Let p = (1, 2, 5, 4)(2, 3) in S_5 . Find the index of <p> in S_5.</td><td>8</td><td>2</td><td>24</td><td>120</td><td>C</td></tr><tr><td>2</td><td>abstract algebra</td><td>Find all zeros in the indicated finite field of the given polynomial with coefficients in that field. x^5 + 3x^3 + x^2 + 2x in Z_5</td><td>0</td><td>1</td><td>0,1</td><td>0,4</td><td>D</td></tr>\n",
       "        </table>\n",
       "        "
      ],
      "text/plain": [
       "<IPython.core.display.HTML object>"
      ]
     },
     "metadata": {},
     "output_type": "display_data"
    }
   ],
   "source": [
    "# Path to downloaded dataset\n",
    "mmlu_dataset_path = datasets_path / \"mmlu\"\n",
    "\n",
    "# Load all questions from MMLU\n",
    "examples, questions = llb.mmlu.load_dataset(mmlu_dataset_path)\n",
    "show_questions(questions[0:3])"
   ]
  },
  {
   "cell_type": "code",
   "execution_count": 7,
   "id": "fd153cd6-c03d-4fef-a36b-527360e6e2e3",
   "metadata": {},
   "outputs": [
    {
     "name": "stdout",
     "output_type": "stream",
     "text": [
      "Loaded 14042 questions in 57 categories.\n"
     ]
    }
   ],
   "source": [
    "print(f\"Loaded {len(questions)} questions in {len({q.category for q in questions})} categories.\")"
   ]
  },
  {
   "cell_type": "markdown",
   "id": "7a01a866-38ac-4c52-8d8e-65b07a7ba6b8",
   "metadata": {},
   "source": [
    "## Data Cleaning"
   ]
  },
  {
   "cell_type": "markdown",
   "id": "7ef6ef80-3968-4e6c-a94a-8a10ce989461",
   "metadata": {},
   "source": [
    "### Referential Options"
   ]
  },
  {
   "cell_type": "markdown",
   "id": "15f0ab80-4e44-4314-99d4-811ae189427f",
   "metadata": {},
   "source": [
    "Before we move on to the LLMs, we need to clean up the MMLU data a bit. The first issue we'll tackle are questions with options that refer to other options. For example, consider question 253:"
   ]
  },
  {
   "cell_type": "code",
   "execution_count": 8,
   "id": "692821ca-a607-4a17-a943-7c73c6af3629",
   "metadata": {},
   "outputs": [
    {
     "name": "stdout",
     "output_type": "stream",
     "text": [
      "Question: Which of the following is/are common feature(s) of all fresh (i.e. not eroded) impact craters formed on solid surfaces:\n",
      "\n",
      "A) ejecta\n",
      "B) raised rims\n",
      "C) central peaks\n",
      "D) A and B only\n",
      "\n",
      "Answer: \n"
     ]
    }
   ],
   "source": [
    "print(llb.mmlu.generate_prompt(examples, next(q for q in questions if q.qid == 253), n_shots=0, header=False))"
   ]
  },
  {
   "cell_type": "markdown",
   "id": "0cee47a6-7b0c-4c72-a728-e01fffacdfa5",
   "metadata": {},
   "source": [
    "Note that option D refers to options A and B. As soon as we start moving options around, option D becomes nonsensical. To avoid this situation, we discard any question with options that refer to other options."
   ]
  },
  {
   "cell_type": "code",
   "execution_count": 9,
   "id": "086311b7-4dbc-48e7-a504-94f4692532b5",
   "metadata": {},
   "outputs": [
    {
     "name": "stdout",
     "output_type": "stream",
     "text": [
      "Discarded 21 questions\n",
      "Discarded 1079 questions\n"
     ]
    }
   ],
   "source": [
    "examples = remove_referentials(examples)\n",
    "questions = remove_referentials(questions)"
   ]
  },
  {
   "cell_type": "code",
   "execution_count": 10,
   "id": "9043c7f1-520b-4cb5-af09-e5a83adb5843",
   "metadata": {},
   "outputs": [
    {
     "name": "stdout",
     "output_type": "stream",
     "text": [
      "Discarding ('high school computer science',)\n",
      "Kept 12876 questions from 56 categories.\n"
     ]
    }
   ],
   "source": [
    "# Discard categories that have less than 4 examples\n",
    "counts = Counter(q.category for q in examples)\n",
    "selected_categories = tuple(k for k, v in counts.items() if v < 4)\n",
    "print(f\"Discarding {selected_categories}\")\n",
    "\n",
    "examples = tuple(e for e in examples if e.category not in selected_categories)\n",
    "questions = tuple(q for q in questions if q.category not in selected_categories)\n",
    "\n",
    "print(f\"Kept {len(questions)} questions from {len({q.category for q in questions})} categories.\")"
   ]
  },
  {
   "cell_type": "code",
   "execution_count": 11,
   "id": "5d57b25b-67ae-4e8f-86ac-196b57783c44",
   "metadata": {},
   "outputs": [],
   "source": [
    "# Sanity checks\n",
    "\n",
    "# qids should be unique\n",
    "assert len({q.qid for q in questions}) == len(questions)"
   ]
  },
  {
   "cell_type": "markdown",
   "id": "6fb03d5d-8132-4ee5-8f68-cbb21b2d8b8e",
   "metadata": {},
   "source": [
    "### Answer Distribution"
   ]
  },
  {
   "cell_type": "markdown",
   "id": "cb9194dd-2d76-4cd6-9171-a7cc2f96bbc8",
   "metadata": {},
   "source": [
    "The next issue we'll tackle is bias caused by non-uniform answer distribution. Our goal is to highlight the selection bias inherent to the model. This means we can't give the model any reason to favor one option over another. However, the answers in MMLU are not evenly distributed. To control for this, we'll evenly distribute the answers across the 4 options A, B, C, D in both the example and test questions.\n",
    "\n",
    "Note that we debias all of the examples here but we debias the questions after random sampling."
   ]
  },
  {
   "cell_type": "code",
   "execution_count": 12,
   "id": "7c743b73-208a-4373-ad0e-d430770e3a3f",
   "metadata": {},
   "outputs": [],
   "source": [
    "# Sample a category\n",
    "category = examples[0].category\n",
    "\n",
    "# Record initial answer distribution for category\n",
    "selected_examples = tuple(e for e in examples if e.category == category)\n",
    "example_distribution1 = llb.mmlu.answer_distribution(selected_examples)\n",
    "\n",
    "# Debias examples\n",
    "examples = llb.mmlu.debias_example_answers(examples)\n",
    "\n",
    "# Record debiased answer distribution for category\n",
    "selected = tuple(e for e in examples if e.category == category)\n",
    "example_distribution2 = llb.mmlu.answer_distribution(selected)"
   ]
  },
  {
   "cell_type": "code",
   "execution_count": 13,
   "id": "323856b4-3b90-43bb-8877-d04df2d8fd6c",
   "metadata": {
    "jupyter": {
     "source_hidden": true
    }
   },
   "outputs": [
    {
     "data": {
      "image/png": "[encoded data removed]",
      "text/plain": [
       "<Figure size 1000x300 with 2 Axes>"
      ]
     },
     "metadata": {},
     "output_type": "display_data"
    }
   ],
   "source": [
    "fig, axs = plt.subplots(ncols=2, figsize=(10,3))\n",
    "\n",
    "sns.barplot(example_distribution1, ax=axs[0])\n",
    "axs[0].set_title(\"Initial Examples\")\n",
    "\n",
    "sns.barplot(example_distribution2, ax=axs[1])\n",
    "axs[1].set_title(\"Debiased Examples\")\n",
    "\n",
    "fig.subplots_adjust(hspace=0.3)"
   ]
  },
  {
   "cell_type": "markdown",
   "id": "124223e8-5905-43aa-a28e-b04e52662727",
   "metadata": {},
   "source": [
    "# Llama Models"
   ]
  },
  {
   "cell_type": "markdown",
   "id": "1445017a-f7bc-4211-8c0e-d8874326bbf2",
   "metadata": {},
   "source": [
    "We'll focus our experiment on the Llama 3.2 3B LLM. Llama 3.2 3B is a state-of-the-art LLM from Meta that is ideal for local experiments because it's open source and fits on smaller systems with a single GPU. For more details, check out [the Llama 3.2 model card on GitHub](https://github.com/meta-llama/llama-models/blob/main/models/llama3_2/MODEL_CARD.md).\n",
    "\n",
    "To quantify the model's accuracy, we'll follow the same MCQ evaluation protocol used by Zheng et al. (2024) and others. We combine each question and relevant examples into few-shot prompts and present them to the LLM. Instead of trying to parse the answer from the model's output stream, we extract the logits for tokens \"A\", \"B\", \"C\", \"D\" from the model's output layer and convert them to probabilities. We're effectively limiting the model's output vocabulary to the 4 options. Not only does this let us quickly identify the model's \"answer\", it also gives us a direct representation of the model's uncertainty."
   ]
  },
  {
   "cell_type": "code",
   "execution_count": 14,
   "id": "0100e6ae-4ffc-4492-bf3d-b97ec458ed47",
   "metadata": {},
   "outputs": [
    {
     "name": "stdout",
     "output_type": "stream",
     "text": [
      "The following are multiple choice questions (with answers) about abstract algebra.\n",
      "\n",
      "Question: Find all c in Z_3 such that Z_3[x]/(x^2 + c) is a field.\n",
      "\n",
      "A) 1\n",
      "B) 0\n",
      "C) 2\n",
      "D) 3\n",
      "\n",
      "Answer: A\n",
      "\n",
      "Question: Find the degree for the given field extension Q(sqrt(2), sqrt(3), sqrt(18)) over Q.\n",
      "\n",
      "A) 0\n",
      "B) 4\n",
      "C) 2\n",
      "D) 6\n",
      "\n",
      "Answer: \n"
     ]
    }
   ],
   "source": [
    "# Show prompt example\n",
    "print(llb.mmlu.generate_prompt(examples, questions[0], n_shots=1))"
   ]
  },
  {
   "cell_type": "markdown",
   "id": "f3b0f875-063e-4a30-992f-bf1cdb284e62",
   "metadata": {},
   "source": [
    "To make the analysis easier, we use a custom generator `llama_benchmarks.mmlu.MMLULlamaGenerator` that provides an custom interface for answering MMLU questions, uses a custom head stage to extracts logits for \"A\", \"B\", \"C\", \"D\", and avoids all token sampling. This streamlined generator scaffolding is wrapped around the off-the-shelf Llama 3.2 3B model downloaded from Meta (https://www.llama.com/)."
   ]
  },
  {
   "cell_type": "code",
   "execution_count": 15,
   "id": "b17ae0ac-5244-415f-93f7-9bfc463b6ded",
   "metadata": {},
   "outputs": [
    {
     "data": {
      "text/plain": [
       "{'device': device(type='mps'),\n",
       " 'checkpoint_path': PosixPath('/Users/andrewyoung/.llama/checkpoints/Llama3.2-3B'),\n",
       " 'vocab_size': 128256,\n",
       " 'd_model': 3072,\n",
       " 'd_head': 128,\n",
       " 'd_ffn': 8192,\n",
       " 'n_layers': 28,\n",
       " 'n_heads': 24,\n",
       " 'n_kv_heads': 8,\n",
       " 'rms_norm_eps': 1e-05,\n",
       " 'rope_theta': 500000.0,\n",
       " 'max_seq_len': 8192,\n",
       " 'temperature': 0.6,\n",
       " 'top_k': 50,\n",
       " 'top_p': 0.9,\n",
       " 'max_completion_tokens': 64}"
      ]
     },
     "execution_count": 15,
     "metadata": {},
     "output_type": "execute_result"
    }
   ],
   "source": [
    "config = llama.config(\"Llama3.2-3B\")\n",
    "config._asdict()"
   ]
  },
  {
   "cell_type": "code",
   "execution_count": 16,
   "id": "81bd83ca-257c-478c-9806-49c0808f602a",
   "metadata": {},
   "outputs": [],
   "source": [
    "generator = MMLULlamaGenerator(config)"
   ]
  },
  {
   "cell_type": "markdown",
   "id": "9d97f6d4-e934-4218-87c9-d19dcc31fded",
   "metadata": {},
   "source": [
    "# Examples of Order Dependency"
   ]
  },
  {
   "cell_type": "markdown",
   "id": "e0c008a5-07f3-449a-8370-8607ff363c9a",
   "metadata": {},
   "source": [
    "Let's take a look at a few hand curated examples. For each example, we'll show what happens as we shift the correct answer from A to D."
   ]
  },
  {
   "cell_type": "markdown",
   "id": "3e783dcc-9e2b-4fd1-b51d-2369b2bdd86f",
   "metadata": {},
   "source": [
    "## Question: What country was once ruled by shoguns?"
   ]
  },
  {
   "cell_type": "markdown",
   "id": "31215c28-52e5-4931-8e26-711541ac7838",
   "metadata": {},
   "source": [
    "This is an easy one to start. Not only does the model get it right every time, but you can see a huge difference in the model's confidence levels."
   ]
  },
  {
   "cell_type": "code",
   "execution_count": 17,
   "id": "e82ad541-cdba-4c3e-b6b6-a93bdaf3be1e",
   "metadata": {},
   "outputs": [
    {
     "data": {
      "text/html": [
       "\n",
       "        <table class=\"questions\">\n",
       "        <tr><th>A</th><th>B</th><th>C</th><th>D</th></tr>\n",
       "        <tr><td>Question: What country was once ruled by shoguns?<br><br>A) Japan<br>B) China<br>C) North Korea<br>D) Taiwan<br><br>Answer: <b>A</b></td><td>Question: What country was once ruled by shoguns?<br><br>A) China<br>B) Japan<br>C) North Korea<br>D) Taiwan<br><br>Answer: <b>B</b></td><td>Question: What country was once ruled by shoguns?<br><br>A) China<br>B) North Korea<br>C) Japan<br>D) Taiwan<br><br>Answer: <b>C</b></td><td>Question: What country was once ruled by shoguns?<br><br>A) China<br>B) Taiwan<br>C) North Korea<br>D) Japan<br><br>Answer: <b>D</b></td></tr>\n",
       "        <tr><td><img src=\"data:image/png;base64,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\"></td><td><img src=\"data:image/png;base64,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\"></td><td><img src=\"data:image/png;base64,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\"></td><td><img src=\"data:image/png;base64,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\"></td></tr>\n",
       "        </table>\n",
       "        "
      ],
      "text/plain": [
       "<IPython.core.display.HTML object>"
      ]
     },
     "metadata": {},
     "output_type": "display_data"
    }
   ],
   "source": [
    "example_question_report(7779)"
   ]
  },
  {
   "cell_type": "markdown",
   "id": "0edb9f2a-9498-4691-b960-840ca35cd913",
   "metadata": {},
   "source": [
    "## Question: What was Richard Nixon's middle name?"
   ]
  },
  {
   "cell_type": "code",
   "execution_count": 18,
   "id": "3299dc27-4b33-43a7-9294-389542ba0ca1",
   "metadata": {},
   "outputs": [
    {
     "data": {
      "text/html": [
       "\n",
       "        <table class=\"questions\">\n",
       "        <tr><th>A</th><th>B</th><th>C</th><th>D</th></tr>\n",
       "        <tr><td>Question: What was Richard Nixon's middle name?<br><br>A) Milhous<br>B) Michael<br>C) Mortimer<br>D) Matthew<br><br>Answer: <b>A</b></td><td>Question: What was Richard Nixon's middle name?<br><br>A) Michael<br>B) Milhous<br>C) Mortimer<br>D) Matthew<br><br>Answer: <b>B</b></td><td>Question: What was Richard Nixon's middle name?<br><br>A) Michael<br>B) Mortimer<br>C) Milhous<br>D) Matthew<br><br>Answer: <b>B</b></td><td>Question: What was Richard Nixon's middle name?<br><br>A) Michael<br>B) Matthew<br>C) Mortimer<br>D) Milhous<br><br>Answer: <b>D</b></td></tr>\n",
       "        <tr><td><img src=\"data:image/png;base64,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\"></td><td><img src=\"data:image/png;base64,iVBORw0KGgoAAAANSUhEUgAAAiMAAAGdCAYAAADAAnMpAAAAOXRFWHRTb2Z0d2FyZQBNYXRwbG90bGliIHZlcnNpb24zLjkuMiwgaHR0cHM6Ly9tYXRwbG90bGliLm9yZy8hTgPZAAAACXBIWXMAAA9hAAAPYQGoP6dpAAAXi0lEQVR4nO3df2xVd/348VcL0sqA7gezCDapjMWK26ijA9HMDe3sDJtZggkuTmqdJH43liVV45gG3OZS3A+CCoHIINPNOVwyFzNnzexEY2xSB+JQtyWaIDjWAtlsGTNF2n7/WNbZD3RyS9lrtzweyU3W0/e593VzduHJ6em9JQMDAwMBAJCkNHsAAOD0JkYAgFRiBABIJUYAgFRiBABIJUYAgFRiBABIJUYAgFTjswc4Ef39/bFv376YPHlylJSUZI8DAJyAgYGBOHToUEyfPj1KS4c//1EUMbJv376oqqrKHgMAGIG9e/fGe97znmG/XxQxMnny5Ih47clMmTIleRoA4ET09PREVVXV4N/jwymKGHn9RzNTpkwRIwBQZP7XJRYuYAUAUokRACCVGAEAUokRACCVGAEAUokRACCVGAEAUokRACCVGAEAUokRACCVGAEAUokRACCVGAEAUokRACDV+OwB4FS58AcXZo9w2trVuCt7BKCIODMCAKQSIwBAKjECAKQSIwBAKjECAKQSIwBAKjECAKQSIwBAKjECAKQSIwBAKjECAKQSIwBAKjECAKQSIwBAKjECAKQSIwBAKjECAKQSIwBAKjECAKQSIwBAKjECAKQSIwBAKjECAKQSIwBAKjECAKQSIwBAKjECAKQSIwBAKjECAKQSIwBAKjECAKQSIwBAKjECAKQSIwBAKjECAKQSIwBAKjECAKQSIwBAKjECAKQSIwBAKjECAKQSIwBAKjECAKQSIwBAKjECAKQSIwBAKjECAKQSIwBAKjECAKQSIwBAqhHFyPr166O6ujrKy8tj/vz50dHRcUL7Pfzww1FSUhLXXHPNSB4WABiDCo6RrVu3RnNzc6xatSp27NgRc+bMiYaGhti/f/+b7rd79+74yle+EpdeeumIhwUAxp6CY2TNmjWxbNmyaGpqitmzZ8fGjRtj4sSJsWXLlmH36evri89+9rNx2223xcyZM09qYABgbCkoRo4cORLbt2+P+vr6N+6gtDTq6+ujvb192P1uv/32eNe73hXXX3/9CT1Ob29v9PT0DLkBAGNTQTFy8ODB6Ovri8rKyiHbKysro7Oz87j7/O53v4vNmzfHpk2bTvhxWlpaoqKiYvBWVVVVyJgAQBE5pb9Nc+jQofjc5z4XmzZtiqlTp57wfitWrIju7u7B2969e0/hlABApvGFLJ46dWqMGzcuurq6hmzv6uqKadOmHbP+73//e+zevTuuvvrqwW39/f2vPfD48fH888/Heeedd8x+ZWVlUVZWVshoAECRKujMyIQJE2Lu3LnR1tY2uK2/vz/a2tpiwYIFx6yvqamJXbt2xc6dOwdvn/rUp2LhwoWxc+dOP34BAAo7MxIR0dzcHI2NjVFXVxfz5s2LtWvXxuHDh6OpqSkiIpYuXRozZsyIlpaWKC8vjwsuuGDI/meeeWZExDHbAYDTU8ExsmTJkjhw4ECsXLkyOjs7o7a2NlpbWwcvat2zZ0+UlnpjVwDgxJQMDAwMZA/xv/T09ERFRUV0d3fHlClTssehSFz4gwuzRzht7WrclT0C8DZwon9/O4UBAKQSIwBAKjECAKQSIwBAKjECAKQSIwBAKjECAKQSIwBAKjECAKQSIwBAKjECAKQSIwBAKjECAKQSIwBAKjECAKQSIwBAKjECAKQSIwBAKjECAKQSIwBAKjECAKQSIwBAKjECAKQSIwBAKjECAKQSIwBAKjECAKQSIwBAKjECAKQSIwBAKjECAKQSIwBAKjECAKQSIwBAKjECAKQSIwBAKjECAKQSIwBAKjECAKQSIwBAKjECAKQSIwBAKjECAKQSIwBAKjECAKQSIwBAKjECAKQSIwBAKjECAKQSIwBAKjECAKQSIwBAKjECAKQSIwBAKjECAKQSIwBAKjECAKQSIwBAKjECAKQSIwBAKjECAKQSIwBAKjECAKQaUYysX78+qquro7y8PObPnx8dHR3Drn300Uejrq4uzjzzzDjjjDOitrY2HnjggREPDACMLQXHyNatW6O5uTlWrVoVO3bsiDlz5kRDQ0Ps37//uOvPPvvs+PrXvx7t7e3xzDPPRFNTUzQ1NcUvf/nLkx4eACh+JQMDAwOF7DB//vy45JJLYt26dRER0d/fH1VVVXHTTTfFLbfcckL3cfHFF8eiRYvijjvuOKH1PT09UVFREd3d3TFlypRCxuU0duEPLswe4bS1q3FX9gjA28CJ/v1d0JmRI0eOxPbt26O+vv6NOygtjfr6+mhvb/+f+w8MDERbW1s8//zz8dGPfnTYdb29vdHT0zPkBgCMTQXFyMGDB6Ovry8qKyuHbK+srIzOzs5h9+vu7o5JkybFhAkTYtGiRfG9730vrrjiimHXt7S0REVFxeCtqqqqkDEBgCLylvw2zeTJk2Pnzp3xhz/8Ie68885obm6Obdu2Dbt+xYoV0d3dPXjbu3fvWzEmAJBgfCGLp06dGuPGjYuurq4h27u6umLatGnD7ldaWhqzZs2KiIja2tp49tlno6WlJS6//PLjri8rK4uysrJCRgMAilRBZ0YmTJgQc+fOjba2tsFt/f390dbWFgsWLDjh++nv74/e3t5CHhoAGKMKOjMSEdHc3ByNjY1RV1cX8+bNi7Vr18bhw4ejqakpIiKWLl0aM2bMiJaWloh47fqPurq6OO+886K3tzeeeOKJeOCBB2LDhg2j+0wAgKJUcIwsWbIkDhw4ECtXrozOzs6ora2N1tbWwYta9+zZE6Wlb5xwOXz4cNxwww3xz3/+M975zndGTU1NPPjgg7FkyZLRexYAQNEq+H1GMnifEUbC+4zk8T4jQMQpep8RAIDRJkYAgFRiBABIJUYAgFRiBABIJUYAgFRiBABIJUYAgFRiBABIJUYAgFRiBABIJUYAgFRiBABIJUYAgFRiBABIJUYAgFRiBABIJUYAgFRiBABIJUYAgFRiBABIJUYAgFRiBABIJUYAgFRiBABIJUYAgFRiBABIJUYAgFRiBABIJUYAgFTjswcAgIiI6lt+nj3CaWv36kWpj+/MCACQSowAAKnECACQSowAAKnECACQSowAAKnECACQSowAAKnECACQSowAAKnECACQSowAAKnECACQSowAAKnECACQSowAAKnECACQSowAAKnECACQSowAAKnECACQSowAAKnECACQSowAAKnECACQSowAAKnECACQSowAAKnECACQSowAAKnECACQSowAAKnECACQakQxsn79+qiuro7y8vKYP39+dHR0DLt206ZNcemll8ZZZ50VZ511VtTX17/pegDg9FJwjGzdujWam5tj1apVsWPHjpgzZ040NDTE/v37j7t+27Ztce2118avf/3raG9vj6qqqvjEJz4RL7zwwkkPDwAUv4JjZM2aNbFs2bJoamqK2bNnx8aNG2PixImxZcuW467/0Y9+FDfccEPU1tZGTU1N3HfffdHf3x9tbW0nPTwAUPwKipEjR47E9u3bo76+/o07KC2N+vr6aG9vP6H7ePXVV+M///lPnH322cOu6e3tjZ6eniE3AGBsKihGDh48GH19fVFZWTlke2VlZXR2dp7QfXzta1+L6dOnDwma/6ulpSUqKioGb1VVVYWMCQAUkbf0t2lWr14dDz/8cPz0pz+N8vLyYdetWLEiuru7B2979+59C6cEAN5K4wtZPHXq1Bg3blx0dXUN2d7V1RXTpk17033vueeeWL16dfzqV7+Kiy666E3XlpWVRVlZWSGjAQBFqqAzIxMmTIi5c+cOufj09YtRFyxYMOx+d911V9xxxx3R2toadXV1I58WABhzCjozEhHR3NwcjY2NUVdXF/PmzYu1a9fG4cOHo6mpKSIili5dGjNmzIiWlpaIiPj2t78dK1eujIceeiiqq6sHry2ZNGlSTJo0aRSfCgBQjAqOkSVLlsSBAwdi5cqV0dnZGbW1tdHa2jp4UeuePXuitPSNEy4bNmyII0eOxKc//ekh97Nq1ar45je/eXLTAwBFr+AYiYhYvnx5LF++/Ljf27Zt25Cvd+/ePZKHAABOEz6bBgBIJUYAgFRiBABIJUYAgFRiBABIJUYAgFRiBABIJUYAgFRiBABIJUYAgFRiBABIJUYAgFRiBABIJUYAgFRiBABIJUYAgFTjswcAKFT1LT/PHuG0tXv1ouwRGIOcGQEAUokRACCVGAEAUokRACCVGAEAUokRACCVGAEAUokRACCVGAEAUokRACCVGAEAUokRACCVGAEAUokRACCVGAEAUokRACCVGAEAUokRACCVGAEAUokRACCVGAEAUokRACCVGAEAUokRACCVGAEAUokRACCVGAEAUokRACCVGAEAUokRACCVGAEAUokRACCVGAEAUokRACCVGAEAUokRACCVGAEAUokRACCVGAEAUokRACCVGAEAUokRACCVGAEAUokRACDV+OwBslXf8vPsEU5bu1cvyh4BgLcBZ0YAgFQjipH169dHdXV1lJeXx/z586Ojo2PYtX/5y19i8eLFUV1dHSUlJbF27dqRzgoAjEEFx8jWrVujubk5Vq1aFTt27Ig5c+ZEQ0ND7N+//7jrX3311Zg5c2asXr06pk2bdtIDAwBjS8ExsmbNmli2bFk0NTXF7NmzY+PGjTFx4sTYsmXLcddfcsklcffdd8dnPvOZKCsrO+mBAYCxpaAYOXLkSGzfvj3q6+vfuIPS0qivr4/29vZRG6q3tzd6enqG3ACAsamgGDl48GD09fVFZWXlkO2VlZXR2dk5akO1tLRERUXF4K2qqmrU7hsAeHt5W/42zYoVK6K7u3vwtnfv3uyRAIBTpKD3GZk6dWqMGzcuurq6hmzv6uoa1YtTy8rKXF8CAKeJgs6MTJgwIebOnRttbW2D2/r7+6OtrS0WLFgw6sMBAGNfwe/A2tzcHI2NjVFXVxfz5s2LtWvXxuHDh6OpqSkiIpYuXRozZsyIlpaWiHjtote//vWvg//9wgsvxM6dO2PSpEkxa9asUXwqAEAxKjhGlixZEgcOHIiVK1dGZ2dn1NbWRmtr6+BFrXv27InS0jdOuOzbty8++MEPDn59zz33xD333BOXXXZZbNu27eSfAQBQ1Eb02TTLly+P5cuXH/d7/zcwqqurY2BgYCQPAwCcBt6Wv00DAJw+xAgAkEqMAACpxAgAkEqMAACpxAgAkEqMAACpxAgAkEqMAACpxAgAkEqMAACpxAgAkEqMAACpxAgAkEqMAACpxAgAkEqMAACpxAgAkEqMAACpxAgAkEqMAACpxAgAkEqMAACpxAgAkEqMAACpxAgAkEqMAACpxAgAkEqMAACpxAgAkEqMAACpxAgAkEqMAACpxAgAkEqMAACpxAgAkEqMAACpxAgAkEqMAACpxAgAkEqMAACpxAgAkEqMAACpxAgAkEqMAACpxAgAkEqMAACpxAgAkEqMAACpxAgAkEqMAACpxAgAkEqMAACpxAgAkEqMAACpxAgAkEqMAACpxAgAkEqMAACpxAgAkEqMAACpxAgAkEqMAACpRhQj69evj+rq6igvL4/58+dHR0fHm65/5JFHoqamJsrLy+PCCy+MJ554YkTDAgBjT8ExsnXr1mhubo5Vq1bFjh07Ys6cOdHQ0BD79+8/7vrf//73ce2118b1118ff/zjH+Oaa66Ja665Jv785z+f9PAAQPErOEbWrFkTy5Yti6amppg9e3Zs3LgxJk6cGFu2bDnu+u985ztx5ZVXxle/+tV4//vfH3fccUdcfPHFsW7dupMeHgAofuMLWXzkyJHYvn17rFixYnBbaWlp1NfXR3t7+3H3aW9vj+bm5iHbGhoa4rHHHhv2cXp7e6O3t3fw6+7u7oiI6OnpKWTcE9Lf++qo3ycn5lQcz//W9+++U3r/DO9UH1uv2zyn8tg6rnlO1XF9/X4HBgbedF1BMXLw4MHo6+uLysrKIdsrKyvjueeeO+4+nZ2dx13f2dk57OO0tLTEbbfddsz2qqqqQsblba5ibfYEnCoV/68iewROEa/bselUH9dDhw5FRcXwfy4UFCNvlRUrVgw5m9Lf3x8vvfRSnHPOOVFSUpI42dtLT09PVFVVxd69e2PKlCnZ4zBKHNexy7Eduxzb4xsYGIhDhw7F9OnT33RdQTEyderUGDduXHR1dQ3Z3tXVFdOmTTvuPtOmTStofUREWVlZlJWVDdl25plnFjLqaWXKlCn+5x+DHNexy7EduxzbY73ZGZHXFXQB64QJE2Lu3LnR1tY2uK2/vz/a2tpiwYIFx91nwYIFQ9ZHRDz55JPDrgcATi8F/5imubk5Ghsbo66uLubNmxdr166Nw4cPR1NTU0RELF26NGbMmBEtLS0REXHzzTfHZZddFvfee28sWrQoHn744Xj66afj+9///ug+EwCgKBUcI0uWLIkDBw7EypUro7OzM2pra6O1tXXwItU9e/ZEaekbJ1w+/OEPx0MPPRTf+MY34tZbb43zzz8/HnvssbjgggtG71mcpsrKymLVqlXH/EiL4ua4jl2O7djl2J6ckoH/9fs2AACnkM+mAQBSiREAIJUYAQBSiREAIJUYKVLt7e0xbty4WLRoUfYojJLPf/7zUVJSMng755xz4sorr4xnnnkmezRGQWdnZ9x0000xc+bMKCsri6qqqrj66quPeR8misd/v2bf8Y53RGVlZVxxxRWxZcuW6O/vzx6vqIiRIrV58+a46aab4re//W3s27cvexxGyZVXXhkvvvhivPjii9HW1hbjx4+Pq666KnssTtLu3btj7ty58dRTT8Xdd98du3btitbW1li4cGHceOON2eNxEl5/ze7evTt+8YtfxMKFC+Pmm2+Oq666Ko4ePZo9XtF4W342DW/ulVdeia1bt8bTTz8dnZ2dcf/998ett96aPRajoKysbPCjEqZNmxa33HJLXHrppXHgwIE499xzk6djpG644YYoKSmJjo6OOOOMMwa3f+ADH4gvfOELiZNxsv77NTtjxoy4+OKL40Mf+lB8/OMfj/vvvz+++MUvJk9YHJwZKUI/+clPoqamJt73vvfFddddF1u2bPmfH89M8XnllVfiwQcfjFmzZsU555yTPQ4j9NJLL0Vra2vceOONQ0LkdT53a+z52Mc+FnPmzIlHH300e5SiIUaK0ObNm+O6666LiNdOEXZ3d8dvfvOb5KkYDY8//nhMmjQpJk2aFJMnT46f/exnsXXr1iHvakxx+dvf/hYDAwNRU1OTPQpvoZqamti9e3f2GEXDn3BF5vnnn4+Ojo649tprIyJi/PjxsWTJkti8eXPyZIyGhQsXxs6dO2Pnzp3R0dERDQ0N8clPfjL+8Y9/ZI/GCDlreXoaGBiIkpKS7DGKhmtGiszmzZvj6NGjMX369MFtAwMDUVZWFuvWrTuhj2rm7euMM86IWbNmDX593333RUVFRWzatCm+9a1vJU7GSJ1//vlRUlISzz33XPYovIWeffbZeO9735s9RtFwZqSIHD16NH74wx/GvffeO/iv5507d8af/vSnmD59evz4xz/OHpFRVlJSEqWlpfHvf/87exRG6Oyzz46GhoZYv359HD58+Jjv/+tf/3rrh+KUeuqpp2LXrl2xePHi7FGKhjMjReTxxx+Pl19+Oa6//vpjzoAsXrw4Nm/eHF/60peSpmM09Pb2RmdnZ0REvPzyy7Fu3bp45ZVX4uqrr06ejJOxfv36+MhHPhLz5s2L22+/PS666KI4evRoPPnkk7Fhw4Z49tlns0dkhF5/zfb19UVXV1e0trZGS0tLXHXVVbF06dLs8YqGGCkimzdvjvr6+uP+KGbx4sVx1113xTPPPBMXXXRRwnSMhtbW1nj3u98dERGTJ0+OmpqaeOSRR+Lyyy/PHYyTMnPmzNixY0fceeed8eUvfzlefPHFOPfcc2Pu3LmxYcOG7PE4Ca+/ZsePHx9nnXVWzJkzJ7773e9GY2OjC88LUDLg6ioAIJFsAwBSiREAIJUYAQBSiREAIJUYAQBSiREAIJUYAQBSiREAIJUYAQBSiREAIJUYAQBSiREAINX/B1lmb0kAnDIrAAAAAElFTkSuQmCC\"></td><td><img src=\"data:image/png;base64,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\"></td><td><img src=\"data:image/png;base64,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\"></td></tr>\n",
       "        </table>\n",
       "        "
      ],
      "text/plain": [
       "<IPython.core.display.HTML object>"
      ]
     },
     "metadata": {},
     "output_type": "display_data"
    }
   ],
   "source": [
    "example_question_report(7469)"
   ]
  },
  {
   "cell_type": "markdown",
   "id": "7b304fdf-32ea-40e0-a446-d1ee207d4864",
   "metadata": {},
   "source": [
    "## Question: In which of the following cases did the Supreme Court decision establish the \"separate but equal\" doctrine of state-sponsored racial segregation?"
   ]
  },
  {
   "cell_type": "markdown",
   "id": "2b07d1fd-b6bf-487c-9722-25eec59cc01d",
   "metadata": {},
   "source": [
    "If you know the answer, there is nothing tricky about this one. What's interesting here is the model gets it right for the first three scenarios. Not only does it get it right, but it's really confident about the answer. But in the last scenario, the model suddenly decides that \"Brown v. Board of Education\" is the clear winner even though it barely noticed \"Brown v. Board of Education\" in the other scenarios. Why?"
   ]
  },
  {
   "cell_type": "code",
   "execution_count": 19,
   "id": "d8addf30-4201-43aa-a990-f49a2222d9e7",
   "metadata": {},
   "outputs": [
    {
     "data": {
      "text/html": [
       "\n",
       "        <table class=\"questions\">\n",
       "        <tr><th>A</th><th>B</th><th>C</th><th>D</th></tr>\n",
       "        <tr><td>Question: In which of the following cases did the Supreme Court decision establish the \"separate but equal\" doctrine of state-sponsored racial segregation?<br><br>A) Plessy v. Ferguson<br>B) McCulloch v. Maryland<br>C) Gibbons v. Ogden<br>D) Brown v. Board of Education<br><br>Answer: <b>A</b></td><td>Question: In which of the following cases did the Supreme Court decision establish the \"separate but equal\" doctrine of state-sponsored racial segregation?<br><br>A) McCulloch v. Maryland<br>B) Plessy v. Ferguson<br>C) Gibbons v. Ogden<br>D) Brown v. Board of Education<br><br>Answer: <b>B</b></td><td>Question: In which of the following cases did the Supreme Court decision establish the \"separate but equal\" doctrine of state-sponsored racial segregation?<br><br>A) Gibbons v. Ogden<br>B) McCulloch v. Maryland<br>C) Plessy v. Ferguson<br>D) Brown v. Board of Education<br><br>Answer: <b>C</b></td><td>Question: In which of the following cases did the Supreme Court decision establish the \"separate but equal\" doctrine of state-sponsored racial segregation?<br><br>A) Brown v. Board of Education<br>B) McCulloch v. Maryland<br>C) Gibbons v. Ogden<br>D) Plessy v. Ferguson<br><br>Answer: <b>D</b></td></tr>\n",
       "        <tr><td><img src=\"data:image/png;base64,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\"></td><td><img src=\"data:image/png;base64,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\"></td><td><img src=\"data:image/png;base64,iVBORw0KGgoAAAANSUhEUgAAAiMAAAGeCAYAAABGlgGHAAAAOXRFWHRTb2Z0d2FyZQBNYXRwbG90bGliIHZlcnNpb24zLjkuMiwgaHR0cHM6Ly9tYXRwbG90bGliLm9yZy8hTgPZAAAACXBIWXMAAA9hAAAPYQGoP6dpAAAaIElEQVR4nO3de2zddf348VfbsTOVrSBj3SVNKt4mspubqxWJ7muxCJshYjLx0jlgBl0IoV7YgG1ykSLInLrJwtwEo8jESGIY1swqGMOShS2TmQAGca4BWrZMWjawc+35/WEs9rdu7Ozii3aPR/L5ox8+7/N5NYfSJ59zzqdlxWKxGAAAScqzBwAATm5iBABIJUYAgFRiBABIJUYAgFRiBABIJUYAgFRiBABIJUYAgFTDsgc4Er29vfH888/HyJEjo6ysLHscAOAIFIvFePnll2P8+PFRXn6Y6x/FEj366KPF2bNnF8eNG1eMiOKDDz74umt+//vfF6dNm1YcPnx48e1vf3vxRz/6UUnnbGtrK0aEzWaz2Wy2Qbi1tbUd9vd8yVdG9u3bF1OmTInLLrssPvnJT77u8X/729/ioosuiiuvvDJ++tOfRmtra1xxxRUxbty4aGhoOKJzjhw5MiIi2traYtSoUaWODAAk6Orqiurq6r7f44dSViwe/R/KKysriwcffDAuvvjiQx5z7bXXxoYNG+LPf/5z375Pf/rT8dJLL0VLS8sRnaerqysqKyujs7NTjADAIHGkv79P+BtYN23aFPX19f32NTQ0xKZNmw65pru7O7q6uvptAMDQdMJjpL29Paqqqvrtq6qqiq6urnj11VcHXNPc3ByVlZV9W3V19YkeEwBI8ob8aO/ixYujs7Ozb2tra8seCQA4QU74R3vHjh0bHR0d/fZ1dHTEqFGj4k1vetOAawqFQhQKhRM9GgDwBnDCr4zU1dVFa2trv30bN26Murq6E31qAGAQKDlG9u7dG9u2bYtt27ZFxL8/urtt27bYuXNnRPz7JZbGxsa+46+88sp49tln4+tf/3o89dRT8YMf/CB+/vOfxzXXXHN8vgMAYFArOUYef/zxmDZtWkybNi0iIpqammLatGmxdOnSiIh44YUX+sIkIuJtb3tbbNiwITZu3BhTpkyJO++8M374wx8e8T1GAICh7ZjuM/K/4j4jADD4vGHuMwIAcDhiBABIJUYAgFRiBABIJUYAgFRiBABIdcJvBw9wvE26d1L2CCet7fO2Z4/AEOTKCACQSowAAKnECACQSowAAKnECACQSowAAKnECACQSowAAKnECACQSowAAKnECACQSowAAKnECACQSowAAKnECACQSowAAKnECACQSowAAKnECACQSowAAKnECACQSowAAKnECACQSowAAKnECACQSowAAKnECACQSowAAKnECACQSowAAKnECACQSowAAKnECACQSowAAKnECACQSowAAKnECACQSowAAKnECACQSowAAKnECACQSowAAKnECACQSowAAKnECACQSowAAKnECACQSowAAKnECACQSowAAKnECACQSowAAKnECACQSowAAKnECACQ6qhiZNWqVVFTUxMjRoyI2tra2Lx582GPX7FiRbz73e+ON73pTVFdXR3XXHNN/POf/zyqgQGAoaXkGFm/fn00NTXFsmXLYuvWrTFlypRoaGiIF198ccDj77vvvli0aFEsW7YsnnzyyVi7dm2sX78+rrvuumMeHgAY/EqOkeXLl8eCBQti/vz5cfbZZ8fq1avjzW9+c6xbt27A4x977LE499xz4zOf+UzU1NTExz72sbj00ktf92oKAHByKClG9u/fH1u2bIn6+vrXHqC8POrr62PTpk0DrvngBz8YW7Zs6YuPZ599Nh5++OG48MILD3me7u7u6Orq6rcBAEPTsFIO3r17d/T09ERVVVW//VVVVfHUU08NuOYzn/lM7N69Oz70oQ9FsViMAwcOxJVXXnnYl2mam5vjxhtvLGU0AGCQOuGfpnnkkUfi1ltvjR/84AexdevW+OUvfxkbNmyIm2+++ZBrFi9eHJ2dnX1bW1vbiR4TAEhS0pWR0aNHR0VFRXR0dPTb39HREWPHjh1wzZIlS+Lzn/98XHHFFRERMWnSpNi3b1988YtfjOuvvz7Kyw/uoUKhEIVCoZTRAIBBqqQrI8OHD4/p06dHa2tr377e3t5obW2Nurq6Ade88sorBwVHRUVFREQUi8VS5wUAhpiSroxERDQ1NcW8efNixowZMXPmzFixYkXs27cv5s+fHxERjY2NMWHChGhubo6IiDlz5sTy5ctj2rRpUVtbG88880wsWbIk5syZ0xclAMDJq+QYmTt3buzatSuWLl0a7e3tMXXq1Ghpael7U+vOnTv7XQm54YYboqysLG644YZ47rnn4swzz4w5c+bEN7/5zeP3XQAAg1ZZcRC8VtLV1RWVlZXR2dkZo0aNyh4HSDbp3knZI5y0ts/bnj0Cg8iR/v72t2kAgFRiBABIJUYAgFRiBABIJUYAgFRiBABIJUYAgFRiBABIJUYAgFRiBABIJUYAgFRiBABIJUYAgFRiBABIJUYAgFRiBABIJUYAgFRiBABIJUYAgFRiBABIJUYAgFRiBABIJUYAgFRiBABIJUYAgFRiBABIJUYAgFRiBABIJUYAgFRiBABIJUYAgFRiBABIJUYAgFRiBABIJUYAgFRiBABIJUYAgFRiBABIJUYAgFRiBABIJUYAgFRiBABIJUYAgFRiBABIJUYAgFRiBABIJUYAgFRiBABIJUYAgFRiBABIJUYAgFRiBABIJUYAgFRiBABIJUYAgFRiBABIJUYAgFRiBABIJUYAgFRiBABIJUYAgFRiBABIdVQxsmrVqqipqYkRI0ZEbW1tbN68+bDHv/TSS7Fw4cIYN25cFAqFeNe73hUPP/zwUQ0MAAwtw0pdsH79+mhqaorVq1dHbW1trFixIhoaGuLpp5+OMWPGHHT8/v374/zzz48xY8bEL37xi5gwYUL8/e9/j9NOO+14zA8ADHIlx8jy5ctjwYIFMX/+/IiIWL16dWzYsCHWrVsXixYtOuj4devWxZ49e+Kxxx6LU045JSIiampqjm1qAGDIKOllmv3798eWLVuivr7+tQcoL4/6+vrYtGnTgGt+9atfRV1dXSxcuDCqqqrinHPOiVtvvTV6enoOeZ7u7u7o6urqtwEAQ1NJMbJ79+7o6emJqqqqfvurqqqivb19wDXPPvts/OIXv4ienp54+OGHY8mSJXHnnXfGLbfccsjzNDc3R2VlZd9WXV1dypgAwCBywj9N09vbG2PGjIm77747pk+fHnPnzo3rr78+Vq9efcg1ixcvjs7Ozr6tra3tRI8JACQp6T0jo0ePjoqKiujo6Oi3v6OjI8aOHTvgmnHjxsUpp5wSFRUVffve8573RHt7e+zfvz+GDx9+0JpCoRCFQqGU0QCAQaqkKyPDhw+P6dOnR2tra9++3t7eaG1tjbq6ugHXnHvuufHMM89Eb29v376//OUvMW7cuAFDBAA4uZT8Mk1TU1OsWbMm7r333njyySfjS1/6Uuzbt6/v0zWNjY2xePHivuO/9KUvxZ49e+Lqq6+Ov/zlL7Fhw4a49dZbY+HChcfvuwAABq2SP9o7d+7c2LVrVyxdujTa29tj6tSp0dLS0vem1p07d0Z5+WuNU11dHb/5zW/immuuicmTJ8eECRPi6quvjmuvvfb4fRcAwKBVViwWi9lDvJ6urq6orKyMzs7OGDVqVPY4QLJJ907KHuGktX3e9uwRGESO9Pe3v00DAKQSIwBAKjECAKQSIwBAKjECAKQSIwBAKjECAKQSIwBAKjECAKQSIwBAKjECAKQSIwBAKjECAKQSIwBAKjECAKQSIwBAKjECAKQSIwBAKjECAKQSIwBAKjECAKQSIwBAKjECAKQSIwBAKjECAKQSIwBAKjECAKQSIwBAKjECAKQSIwBAKjECAKQSIwBAKjECAKQSIwBAKjECAKQSIwBAKjECAKQSIwBAKjECAKQSIwBAKjECAKQSIwBAKjECAKQSIwBAKjECAKQSIwBAKjECAKQSIwBAKjECAKQSIwBAKjECAKQSIwBAKjECAKQSIwBAKjECAKQSIwBAKjECAKQSIwBAKjECAKQSIwBAKjECAKQSIwBAqqOKkVWrVkVNTU2MGDEiamtrY/PmzUe07v7774+ysrK4+OKLj+a0AMAQVHKMrF+/PpqammLZsmWxdevWmDJlSjQ0NMSLL7542HU7duyIr371q3Heeecd9bAAwNBTcowsX748FixYEPPnz4+zzz47Vq9eHW9+85tj3bp1h1zT09MTn/3sZ+PGG2+Ms84665gGBgCGlpJiZP/+/bFly5aor69/7QHKy6O+vj42bdp0yHU33XRTjBkzJi6//PIjOk93d3d0dXX12wCAoamkGNm9e3f09PREVVVVv/1VVVXR3t4+4Jo//vGPsXbt2lizZs0Rn6e5uTkqKyv7turq6lLGBAAGkRP6aZqXX345Pv/5z8eaNWti9OjRR7xu8eLF0dnZ2be1tbWdwCkBgEzDSjl49OjRUVFRER0dHf32d3R0xNixYw86/q9//Wvs2LEj5syZ07evt7f33yceNiyefvrpePvb337QukKhEIVCoZTRAIBBqqQrI8OHD4/p06dHa2tr377e3t5obW2Nurq6g46fOHFibN++PbZt29a3feITn4hZs2bFtm3bvPwCAJR2ZSQioqmpKebNmxczZsyImTNnxooVK2Lfvn0xf/78iIhobGyMCRMmRHNzc4wYMSLOOeecfutPO+20iIiD9gMAJ6eSY2Tu3Lmxa9euWLp0abS3t8fUqVOjpaWl702tO3fujPJyN3YFAI5MWbFYLGYP8Xq6urqisrIyOjs7Y9SoUdnjAMkm3Tspe4ST1vZ527NHYBA50t/fLmEAAKnECACQSowAAKnECACQSowAAKnECACQSowAAKnECACQSowAAKnECACQSowAAKnECACQSowAAKnECACQSowAAKnECACQSowAAKnECACQSowAAKnECACQSowAAKnECACQSowAAKnECACQSowAAKnECACQSowAAKnECACQSowAAKnECACQSowAAKnECACQSowAAKnECACQSowAAKnECACQSowAAKnECACQSowAAKnECACQSowAAKnECACQSowAAKnECACQSowAAKnECACQSowAAKnECACQSowAAKnECACQSowAAKnECACQSowAAKnECACQSowAAKnECACQSowAAKnECACQSowAAKnECACQSowAAKnECACQSowAAKmOKkZWrVoVNTU1MWLEiKitrY3Nmzcf8tg1a9bEeeedF6effnqcfvrpUV9ff9jjAYCTS8kxsn79+mhqaoply5bF1q1bY8qUKdHQ0BAvvvjigMc/8sgjcemll8bvf//72LRpU1RXV8fHPvaxeO655455eABg8CsrFovFUhbU1tbG+9///li5cmVERPT29kZ1dXVcddVVsWjRotdd39PTE6effnqsXLkyGhsbBzymu7s7uru7+77u6uqK6urq6OzsjFGjRpUyLjAETbp3UvYIJ63t87Znj8Ag0tXVFZWVla/7+7ukKyP79++PLVu2RH19/WsPUF4e9fX1sWnTpiN6jFdeeSX+9a9/xVvf+tZDHtPc3ByVlZV9W3V1dSljAgCDSEkxsnv37ujp6Ymqqqp++6uqqqK9vf2IHuPaa6+N8ePH9wua/9/ixYujs7Ozb2traytlTABgEBn2vzzZbbfdFvfff3888sgjMWLEiEMeVygUolAo/A8nAwCylBQjo0ePjoqKiujo6Oi3v6OjI8aOHXvYtd/+9rfjtttui9/+9rcxefLk0icFAIakkl6mGT58eEyfPj1aW1v79vX29kZra2vU1dUdct3tt98eN998c7S0tMSMGTOOfloAYMgp+WWapqammDdvXsyYMSNmzpwZK1asiH379sX8+fMjIqKxsTEmTJgQzc3NERHxrW99K5YuXRr33Xdf1NTU9L235NRTT41TTz31OH4rAMBgVHKMzJ07N3bt2hVLly6N9vb2mDp1arS0tPS9qXXnzp1RXv7aBZe77ror9u/fH5/61Kf6Pc6yZcviG9/4xrFNDwAMeiXfZyTDkX5OGTg5uM9IHvcZoRQn5D4jAADHmxgBAFKJEQAglRgBAFKJEQAglRgBAFKJEQAglRgBAFKJEQAglRgBAFKJEQAglRgBAFKJEQAglRgBAFKJEQAglRgBAFKJEQAglRgBAFKJEQAglRgBAFKJEQAglRgBAFKJEQAglRgBAFKJEQAglRgBAFKJEQAglRgBAFKJEQAglRgBAFKJEQAglRgBAFKJEQAglRgBAFKJEQAglRgBAFKJEQAglRgBAFKJEQAglRgBAFKJEQAglRgBAFKJEQAglRgBAFKJEQAglRgBAFKJEQAglRgBAFKJEQAglRgBAFKJEQAglRgBAFKJEQAglRgBAFKJEQAglRgBAFINyx4AACIiahZtyB7hpLXjtotSz+/KCACQSowAAKnECACQSowAAKnECACQ6qg+TbNq1aq44447or29PaZMmRLf//73Y+bMmYc8/oEHHoglS5bEjh074p3vfGd861vfigsvvPCohz6evHs7T/a7twF4Yyg5RtavXx9NTU2xevXqqK2tjRUrVkRDQ0M8/fTTMWbMmIOOf+yxx+LSSy+N5ubmmD17dtx3331x8cUXx9atW+Occ845Lt8EDERo5hGaQClKjpHly5fHggULYv78+RERsXr16tiwYUOsW7cuFi1adNDx3/3ud+OCCy6Ir33taxERcfPNN8fGjRtj5cqVsXr16gHP0d3dHd3d3X1fd3Z2RkREV1dXqeO+rt7uV477Y3JkTsTz+d88t3lO9HPb82rPCX18Du1EPrd+ZvOcqOf1P49bLBYPf2CxBN3d3cWKiorigw8+2G9/Y2Nj8ROf+MSAa6qrq4vf+c53+u1bunRpcfLkyYc8z7Jly4oRYbPZbDabbQhsbW1th+2Lkq6M7N69O3p6eqKqqqrf/qqqqnjqqacGXNPe3j7g8e3t7Yc8z+LFi6Opqanv697e3tizZ0+cccYZUVZWVsrIQ1pXV1dUV1dHW1tbjBo1KnscjhPP69DluR26PLcDKxaL8fLLL8f48eMPe9wb8nbwhUIhCoVCv32nnXZazjCDwKhRo/zLPwR5Xocuz+3Q5bk9WGVl5eseU9JHe0ePHh0VFRXR0dHRb39HR0eMHTt2wDVjx44t6XgA4ORSUowMHz48pk+fHq2trX37ent7o7W1Nerq6gZcU1dX1+/4iIiNGzce8ngA4ORS8ss0TU1NMW/evJgxY0bMnDkzVqxYEfv27ev7dE1jY2NMmDAhmpubIyLi6quvjg9/+MNx5513xkUXXRT3339/PP7443H33Xcf3+/kJFQoFGLZsmUHvaTF4OZ5Hbo8t0OX5/bYlBWLr/d5m4OtXLmy76ZnU6dOje9973tRW1sbEREf+chHoqamJu65556+4x944IG44YYb+m56dvvtt79hbnoGAOQ6qhgBADhe/G0aACCVGAEAUokRACCVGAEAUomRQWrTpk1RUVERF13kr6MOFV/4wheirKysbzvjjDPiggsuiCeeeCJ7NI6D9vb2uOqqq+Kss86KQqEQ1dXVMWfOnIPuw8Tg8d8/s6ecckpUVVXF+eefH+vWrYve3t7s8QYVMTJIrV27Nq666qr4wx/+EM8//3z2OBwnF1xwQbzwwgvxwgsvRGtrawwbNixmz56dPRbHaMeOHTF9+vT43e9+F3fccUds3749WlpaYtasWbFw4cLs8TgG//mZ3bFjR/z617+OWbNmxdVXXx2zZ8+OAwcOZI83aLwh/zYNh7d3795Yv359PP7449He3h733HNPXHfdddljcRwUCoW+P5UwduzYWLRoUZx33nmxa9euOPPMM5On42h9+ctfjrKysti8eXO85S1v6dv/3ve+Ny677LLEyThW//0zO2HChHjf+94XH/jAB+KjH/1o3HPPPXHFFVckTzg4uDIyCP385z+PiRMnxrvf/e743Oc+F+vWrQu3ixl69u7dGz/5yU/iHe94R5xxxhnZ43CU9uzZEy0tLbFw4cJ+IfIf/gjo0PN///d/MWXKlPjlL3+ZPcqgIUYGobVr18bnPve5iPj3JcLOzs549NFHk6fieHjooYfi1FNPjVNPPTVGjhwZv/rVr2L9+vVRXu5HdbB65plnolgsxsSJE7NH4X9o4sSJsWPHjuwxBg3/hRtknn766di8eXNceumlERExbNiwmDt3bqxduzZ5Mo6HWbNmxbZt22Lbtm2xefPmaGhoiI9//OPx97//PXs0jpKrlienYrEYZWVl2WMMGt4zMsisXbs2Dhw4EOPHj+/bVywWo1AoxMqVK6OysjJxOo7VW97ylnjHO97R9/UPf/jDqKysjDVr1sQtt9ySOBlH653vfGeUlZXFU089lT0K/0NPPvlkvO1tb8seY9BwZWQQOXDgQPz4xz+OO++8s+//nrdt2xZ/+tOfYvz48fGzn/0se0SOs7KysigvL49XX301exSO0lvf+tZoaGiIVatWxb59+w765y+99NL/fihOqN/97nexffv2uOSSS7JHGTRcGRlEHnroofjHP/4Rl19++UFXQC655JJYu3ZtXHnllUnTcTx0d3dHe3t7RET84x//iJUrV8bevXtjzpw5yZNxLFatWhXnnntuzJw5M2666aaYPHlyHDhwIDZu3Bh33XVXPPnkk9kjcpT+8zPb09MTHR0d0dLSEs3NzTF79uxobGzMHm/QECODyNq1a6O+vn7Al2IuueSSuP322+OJJ56IyZMnJ0zH8dDS0hLjxo2LiIiRI0fGxIkT44EHHoiPfOQjuYNxTM4666zYunVrfPOb34yvfOUr8cILL8SZZ54Z06dPj7vuuit7PI7Bf35mhw0bFqeffnpMmTIlvve978W8efO88bwEZUXvrgIAEsk2ACCVGAEAUokRACCVGAEAUokRACCVGAEAUokRACCVGAEAUokRACCVGAEAUokRACDV/wOC/6OLt6xBIAAAAABJRU5ErkJggg==\"></td><td><img src=\"data:image/png;base64,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\"></td></tr>\n",
       "        </table>\n",
       "        "
      ],
      "text/plain": [
       "<IPython.core.display.HTML object>"
      ]
     },
     "metadata": {},
     "output_type": "display_data"
    }
   ],
   "source": [
    "example_question_report(3788)"
   ]
  },
  {
   "cell_type": "markdown",
   "id": "4a42cc8e-9606-4e4f-9b73-23c044a3f941",
   "metadata": {},
   "source": [
    "# Quantifying Order Dependency"
   ]
  },
  {
   "cell_type": "markdown",
   "id": "2831239f-79e5-41b0-982f-df66834eee2b",
   "metadata": {},
   "source": [
    "Now that we've seen a handful of specific examples, let's step back and try to quantify the extent of the the order dependency problem. We'll follow the same approach used by Zheng et al. (2024) where we record the model's accuracy across 5 segments: U, A, B, C, D. The U segment is the initial \"uniform\" segment where the answers are evenly distributed across all 4 options. The A, B, C, and D segments represent scenarios where the correct answers are all shifted to one option.\n",
    "\n",
    "The idea is that if we move the correct answers to option A and the model's accuracy improves relative to the uniform scenario, then this suggests the model favors option A. Conversely, if we move the correct answers to option B and the model's accuracy gets worse, then this suggests the model is avoiding option B. By repeating this process over multiple random samples of questions, we can test the consistency of the model's behavior."
   ]
  },
  {
   "cell_type": "markdown",
   "id": "d889581c-b45e-4aa3-8123-903143699e73",
   "metadata": {},
   "source": [
    "## Zero Shot"
   ]
  },
  {
   "cell_type": "markdown",
   "id": "19efb711-5e98-454a-880a-2f0319c4ac5e",
   "metadata": {},
   "source": [
    "We'll start using zero-shot setting where we don't include any examples. This is only made possible because we're limiting the output vocab to A, B, C, D. In a less artificial setting, it would be much harder to reasonable answers without the examples. Another benefit we've discovered is zero-shot experiments are so much faster!"
   ]
  },
  {
   "cell_type": "code",
   "execution_count": 20,
   "id": "8b473d34-1010-442c-88d6-3ae3f5a5f482",
   "metadata": {},
   "outputs": [],
   "source": [
    "# Zero shot\n",
    "n_shots = 0"
   ]
  },
  {
   "cell_type": "code",
   "execution_count": null,
   "id": "ba3cfca7-479c-4951-849b-6deae842c4a0",
   "metadata": {},
   "outputs": [
    {
     "name": "stdout",
     "output_type": "stream",
     "text": [
      "Running 0-shot experiment: 8 runs w/ 64-question samples taken from population of 12876 questions.\n"
     ]
    },
    {
     "name": "stderr",
     "output_type": "stream",
     "text": [
      "U: 100%|███████████████████████████████████████████████████████████████████████████████████████████████████████████████████████████████████████████████████| 64/64 [00:14<00:00,  4.35it/s]\n",
      "A: 100%|███████████████████████████████████████████████████████████████████████████████████████████████████████████████████████████████████████████████████| 64/64 [00:11<00:00,  5.54it/s]\n",
      "B: 100%|███████████████████████████████████████████████████████████████████████████████████████████████████████████████████████████████████████████████████| 64/64 [00:11<00:00,  5.42it/s]\n",
      "C: 100%|███████████████████████████████████████████████████████████████████████████████████████████████████████████████████████████████████████████████████| 64/64 [00:11<00:00,  5.36it/s]\n",
      "D: 100%|███████████████████████████████████████████████████████████████████████████████████████████████████████████████████████████████████████████████████| 64/64 [00:12<00:00,  5.33it/s]\n",
      "U: 100%|███████████████████████████████████████████████████████████████████████████████████████████████████████████████████████████████████████████████████| 64/64 [00:16<00:00,  3.85it/s]\n",
      "A: 100%|███████████████████████████████████████████████████████████████████████████████████████████████████████████████████████████████████████████████████| 64/64 [00:13<00:00,  4.64it/s]\n",
      "B: 100%|███████████████████████████████████████████████████████████████████████████████████████████████████████████████████████████████████████████████████| 64/64 [00:13<00:00,  4.70it/s]\n",
      "C: 100%|███████████████████████████████████████████████████████████████████████████████████████████████████████████████████████████████████████████████████| 64/64 [00:13<00:00,  4.70it/s]\n",
      "D: 100%|███████████████████████████████████████████████████████████████████████████████████████████████████████████████████████████████████████████████████| 64/64 [00:13<00:00,  4.72it/s]\n",
      "U: 100%|███████████████████████████████████████████████████████████████████████████████████████████████████████████████████████████████████████████████████| 64/64 [00:14<00:00,  4.41it/s]\n",
      "A: 100%|███████████████████████████████████████████████████████████████████████████████████████████████████████████████████████████████████████████████████| 64/64 [00:12<00:00,  5.26it/s]\n",
      "B: 100%|███████████████████████████████████████████████████████████████████████████████████████████████████████████████████████████████████████████████████| 64/64 [00:12<00:00,  5.02it/s]\n",
      "C: 100%|███████████████████████████████████████████████████████████████████████████████████████████████████████████████████████████████████████████████████| 64/64 [00:12<00:00,  5.12it/s]\n",
      "D: 100%|███████████████████████████████████████████████████████████████████████████████████████████████████████████████████████████████████████████████████| 64/64 [00:12<00:00,  5.12it/s]\n",
      "U: 100%|███████████████████████████████████████████████████████████████████████████████████████████████████████████████████████████████████████████████████| 64/64 [00:14<00:00,  4.47it/s]\n",
      "A: 100%|███████████████████████████████████████████████████████████████████████████████████████████████████████████████████████████████████████████████████| 64/64 [00:12<00:00,  5.06it/s]\n",
      "B: 100%|███████████████████████████████████████████████████████████████████████████████████████████████████████████████████████████████████████████████████| 64/64 [00:12<00:00,  4.96it/s]\n",
      "C: 100%|███████████████████████████████████████████████████████████████████████████████████████████████████████████████████████████████████████████████████| 64/64 [00:12<00:00,  4.95it/s]\n",
      "D: 100%|███████████████████████████████████████████████████████████████████████████████████████████████████████████████████████████████████████████████████| 64/64 [00:12<00:00,  4.96it/s]\n",
      "U:  42%|██████████████████████████████████████████████████████████████                                                                                     | 27/64 [00:06<00:09,  3.73it/s]"
     ]
    }
   ],
   "source": [
    "%%time\n",
    "\n",
    "# Sanity checks\n",
    "\n",
    "# n_questions must be multiple of 4\n",
    "assert n_questions % 4 == 0\n",
    "\n",
    "# Summary\n",
    "print(f\"Running {n_shots}-shot experiment: {n_runs} runs w/ {n_questions}-question samples taken from population of {len(questions)} questions.\")\n",
    "\n",
    "# Reset results\n",
    "raw_results = []\n",
    "\n",
    "# Repeat over multiple runs\n",
    "for r in range(n_runs):\n",
    "\n",
    "    # Reset results\n",
    "    metrics = {}\n",
    "    \n",
    "    # Randomly select question sample\n",
    "    selected_questions = random.sample(questions, n_questions)\n",
    "    \n",
    "    # Debias questions\n",
    "    selected_questions = llb.mmlu.debias_question_answers(selected_questions)\n",
    "\n",
    "    # Verify selected questions are uniformly distributed\n",
    "    distribution = llb.mmlu.answer_distribution(selected_questions)\n",
    "    assert len(set(distribution.values())) == 1\n",
    "\n",
    "    # Iterate through each segment\n",
    "    for segment in [\"U\", \"A\", \"B\", \"C\", \"D\"]:\n",
    "        segment_questions = selected_questions\n",
    "    \n",
    "        # If segment is A, B, C, D swap the answers to the target option\n",
    "        if segment in OPTIONS:\n",
    "            segment_questions = llb.mmlu.swap_answers(segment_questions, segment)\n",
    "    \n",
    "        # Answer each question\n",
    "        start_time = timer()\n",
    "        answers = tuple(a for a in tqdm(generator(examples, segment_questions, n_shots=n_shots), total=n_questions, desc=segment))\n",
    "        duration = timer() - start_time\n",
    "        \n",
    "        # Record performance metrics\n",
    "        correct = sum(1 for a in answers if a.correct)\n",
    "        accuracy = correct / n_questions\n",
    "        rps = 1000000000 * n_questions / duration\n",
    "        \n",
    "        metrics[segment] = {\n",
    "            \"questions\": segment_questions,\n",
    "            \"answers\": answers,\n",
    "            \"n\": n_questions,\n",
    "            \"correct\": correct,\n",
    "            \"accuracy\": accuracy,\n",
    "            \"rps\": rps,\n",
    "        }\n",
    "    \n",
    "    raw_results.append(metrics)"
   ]
  },
  {
   "cell_type": "markdown",
   "id": "3c5b1214-b06a-4e15-9134-3217ba4ff354",
   "metadata": {},
   "source": [
    "## Analysis"
   ]
  },
  {
   "cell_type": "code",
   "execution_count": null,
   "id": "0985c8cb-f46b-4ff5-9b92-dbeac0081c06",
   "metadata": {
    "jupyter": {
     "source_hidden": true
    }
   },
   "outputs": [],
   "source": [
    "# Post-process raw results\n",
    "rows = []\n",
    "for run in raw_results:\n",
    "    baseline = run[\"U\"][\"accuracy\"]\n",
    "    for segment in [\"U\", \"A\", \"B\", \"C\", \"D\"]:\n",
    "        rows.append({\n",
    "            \"segment\": segment,\n",
    "            \"accuracy\": run[segment][\"accuracy\"],\n",
    "            \"accuracy_delta\": run[segment][\"accuracy\"] - baseline,\n",
    "        })\n",
    "results = DataFrame(rows)"
   ]
  },
  {
   "cell_type": "code",
   "execution_count": null,
   "id": "5dbe9de0-de79-4c90-9111-2a70dad89f94",
   "metadata": {
    "jupyter": {
     "source_hidden": true
    }
   },
   "outputs": [],
   "source": [
    "fig, axs = plt.subplots(ncols=2, figsize=(12,3))\n",
    "\n",
    "# Accuracy\n",
    "sns.boxplot(x=\"segment\", y=\"accuracy\", data=results, ax=axs[0])\n",
    "axs[0].set_title(f\"Accuracy (runs={n_runs}, n={n_questions})\")\n",
    "\n",
    "# Accuracy Delta\n",
    "sns.boxplot(x=\"segment\", y=\"accuracy_delta\", data=results, ax=axs[1])\n",
    "axs[1].set_title(f\"Accuracy Delta (runs={n_runs}, n={n_questions})\")"
   ]
  },
  {
   "cell_type": "code",
   "execution_count": null,
   "id": "1718279b-f197-4140-9f4f-9e31bfb2953a",
   "metadata": {},
   "outputs": [],
   "source": []
  },
  {
   "cell_type": "code",
   "execution_count": null,
   "id": "9d1a11aa-a572-4ae8-9051-defa1d89af1a",
   "metadata": {},
   "outputs": [],
   "source": []
  },
  {
   "cell_type": "code",
   "execution_count": null,
   "id": "dcfff443-8c53-4a33-a7ef-21ce7c962711",
   "metadata": {},
   "outputs": [],
   "source": []
  },
  {
   "cell_type": "code",
   "execution_count": null,
   "id": "3c010bbe-e06d-4934-8100-ededd95948ba",
   "metadata": {},
   "outputs": [],
   "source": []
  },
  {
   "cell_type": "code",
   "execution_count": null,
   "id": "33cbc052-c121-416a-84e1-fca28260d28b",
   "metadata": {},
   "outputs": [],
   "source": []
  },
  {
   "cell_type": "markdown",
   "id": "c8a2709e-ab55-4a92-ad7c-95229252ffa8",
   "metadata": {},
   "source": [
    "# XXX"
   ]
  },
  {
   "cell_type": "markdown",
   "id": "9ae45e50-5019-47c6-8570-f01fdcd6dad3",
   "metadata": {},
   "source": [
    "Next, we'll run the questions by a Llama 3.2 3B LLM, change the order of the options, answer them with the LLM again, and then see which answers changed. Llama 3.2 3B is a state-of-the-art LLM from Meta that is ideal for local experiments because it's open source and fits on a smaller system with a single GPU."
   ]
  },
  {
   "cell_type": "markdown",
   "id": "5747e9f7-9b4d-4e4b-b850-e959c02369b3",
   "metadata": {},
   "source": [
    "## Workflow"
   ]
  },
  {
   "cell_type": "markdown",
   "id": "43594007-c01e-4e3e-b383-08c1cd7ec92a",
   "metadata": {},
   "source": [
    "To quantify the model's accuracy, we'll follow the same MCQ evaluation protocol used by Zheng et al. (2024) and others. We combine each question and relevant examples into a 4-shot prompt and present the prompt to the LLM. Instead of trying to parse the answer from the model's output stream, we extract the logits for tokens \"A\", \"B\", \"C\", \"D\" from the model's output layer and convert them to probabilities. Not only does this let us quickly identify the model's \"answer\", it also gives us a direct representation of the model's uncertainty.\n",
    "\n",
    "To make the analysis easier, we use a custom generator `llama_benchmarks.mmlu.MMLULlamaGenerator` that provides an interface that takes MMLU examples and questions, uses a custom head stage to extracts logits for \"A\", \"B\", \"C\", \"D\", and avoids all token sampling. This streamlined generator scaffolding is wrapped around the off-the-shelf Llama 3.2 3B model downloaded from Meta (https://www.llama.com/)."
   ]
  },
  {
   "cell_type": "markdown",
   "id": "e5b2e62f-7fe7-4363-a036-3786329ba3b8",
   "metadata": {},
   "source": [
    "Next, we'll record the model's accuracy across 5 segments: U, A, B, C, D. The U segment is the initial \"uniform\" segment where the answers are evenly distributed across all 4 options. The A, B, C, D segments are when the correct answers are shifted entirely to each option. This approach will provide a set of concrete examples we can inspect in more detail and also sets us up to evaluate the model's sensitivity at scale."
   ]
  },
  {
   "cell_type": "code",
   "execution_count": null,
   "id": "440ceea8-84c1-4b6a-9d46-2d407af42064",
   "metadata": {},
   "outputs": [],
   "source": [
    "n_questions = 64\n",
    "questions = sample(questions, n_questions)"
   ]
  },
  {
   "cell_type": "markdown",
   "id": "73a8242c-4fd0-4078-9bcf-8fe0d78008b1",
   "metadata": {},
   "source": [
    "## Zero Shot"
   ]
  },
  {
   "cell_type": "code",
   "execution_count": null,
   "id": "ef66f6e3-0d00-41ae-b814-a59510bfbdda",
   "metadata": {},
   "outputs": [],
   "source": [
    "results = {}\n",
    "\n",
    "for segment in [\"U\", \"A\", \"B\", \"C\", \"D\"]:\n",
    "    selected_questions = questions\n",
    "\n",
    "    # If segment is A, B, C, D swap the answers to the target option\n",
    "    if segment in OPTIONS:\n",
    "        selected_questions = llb.mmlu.swap_answers(selected_questions, segment)\n",
    "\n",
    "    # Answer each question\n",
    "    start_time = timer()\n",
    "    answers = tuple(a for a in tqdm(generator(examples, selected_questions, n_shots=0), total=n_questions, desc=segment))\n",
    "    duration = timer() - start_time\n",
    "    \n",
    "    # Record performance metrics\n",
    "    correct = sum(1 for a in answers if a.correct)\n",
    "    accuracy = correct / n_questions\n",
    "    rps = 1000000000 * n_questions / duration\n",
    "    \n",
    "    results[segment] = {\n",
    "        \"questions\": selected_questions,\n",
    "        \"answers\": answers,\n",
    "        \"n\": n_questions,\n",
    "        \"correct\": correct,\n",
    "        \"accuracy\": accuracy,\n",
    "        \"rps\": rps,\n",
    "    }"
   ]
  },
  {
   "cell_type": "code",
   "execution_count": null,
   "id": "80fc8e57-2d98-44fb-94ac-ec266ebe30dd",
   "metadata": {},
   "outputs": [],
   "source": [
    "data={k: v[\"accuracy\"] for k, v in results.items()}\n",
    "ax = sns.scatterplot(data)\n",
    "ax.set_title(f\"Single Run (n={n_questions})\")\n",
    "ax.set_ylabel(\"Accuracy\")\n",
    "ax.set_xlabel(\"Segment\")"
   ]
  },
  {
   "cell_type": "markdown",
   "id": "f42c8acf-a268-4426-8129-98588afe6cec",
   "metadata": {},
   "source": [
    "Since the sample is random, the details of the accuracy plot will change with every run but you should see a significant difference in accuracy across the segments.\n",
    "\n",
    "Note that the model's behavior is completely deterministic here. There is no token sampling happening in the generator. If you rerun the same questions through the model, you'll get the same outputs."
   ]
  },
  {
   "cell_type": "markdown",
   "id": "4ea0e09c-3c96-4ff6-a38e-6b976b94dd01",
   "metadata": {},
   "source": [
    "## Error Analysis"
   ]
  },
  {
   "cell_type": "markdown",
   "id": "4789d22b-6d93-49f8-b8c9-225bae555d3e",
   "metadata": {},
   "source": [
    "Let's take a look at a few questions in detail starting with questions that went from correct to incorrect. These are questions where the model gave you the right answer to begin with, sounded like it knew what it was talking about, and then dropped the ball when the question was modified slightly."
   ]
  },
  {
   "cell_type": "code",
   "execution_count": null,
   "id": "1aab1c65-8829-4764-aaed-a81c392931fb",
   "metadata": {},
   "outputs": [],
   "source": [
    "correct_u = {a.qid: a for a in results[\"U\"][\"answers\"] if a.correct}\n",
    "incorrect = {\n",
    "    \"A\": tuple(a for a in results[\"A\"][\"answers\"] if a.qid in correct_u and not a.correct),\n",
    "    \"B\": tuple(a for a in results[\"B\"][\"answers\"] if a.qid in correct_u and not a.correct),\n",
    "    \"C\": tuple(a for a in results[\"C\"][\"answers\"] if a.qid in correct_u and not a.correct),\n",
    "    \"D\": tuple(a for a in results[\"D\"][\"answers\"] if a.qid in correct_u and not a.correct),\n",
    "}"
   ]
  },
  {
   "cell_type": "code",
   "execution_count": null,
   "id": "180cc3ee-3cb3-44d7-ad90-4c22c7bed382",
   "metadata": {},
   "outputs": [],
   "source": [
    "# candidates = []\n",
    "# for segment, answers in incorrect.items():\n",
    "#     for answer in answers:\n",
    "#         candidates.append((segment, answer))\n",
    "# candidates = sample(candidates, len(candidates))"
   ]
  },
  {
   "cell_type": "code",
   "execution_count": null,
   "id": "2d660b60-703e-4839-85e6-4d7d7dad6366",
   "metadata": {},
   "outputs": [],
   "source": [
    "it = iter(candidates)"
   ]
  },
  {
   "cell_type": "code",
   "execution_count": null,
   "id": "8fba5006-2938-4f57-8cde-c1df1e064677",
   "metadata": {},
   "outputs": [],
   "source": [
    "candidates = set()\n",
    "for v in incorrect.values():\n",
    "    candidates |= {a.qid for a in v}\n",
    "\n",
    "candidates = tuple(q for q in questions if q.qid in candidates)\n",
    "it = iter(candidates)"
   ]
  },
  {
   "cell_type": "code",
   "execution_count": null,
   "id": "a75ea1c1-f54f-4287-9b6f-3e2edcd2da19",
   "metadata": {},
   "outputs": [],
   "source": [
    "q = next(it)\n",
    "print(llb.mmlu.generate_prompt(examples, q, n_shots=0))"
   ]
  },
  {
   "cell_type": "code",
   "execution_count": null,
   "id": "355d511b-96e0-4fe9-aafd-dd9c287b1257",
   "metadata": {},
   "outputs": [],
   "source": [
    "q.qid"
   ]
  },
  {
   "cell_type": "code",
   "execution_count": null,
   "id": "c7cb6b32-7529-4d67-a502-fab9f1b47e9e",
   "metadata": {},
   "outputs": [],
   "source": [
    "len(candidates)"
   ]
  },
  {
   "cell_type": "code",
   "execution_count": null,
   "id": "35b1d2e4-2b0c-48f6-9278-d922a8f5aaa3",
   "metadata": {},
   "outputs": [],
   "source": []
  },
  {
   "cell_type": "code",
   "execution_count": null,
   "id": "611440b3-2d58-4776-8892-0c62e30ab79f",
   "metadata": {},
   "outputs": [],
   "source": []
  },
  {
   "cell_type": "code",
   "execution_count": null,
   "id": "e95f06ed-805a-458d-b1be-584e717ba4ba",
   "metadata": {},
   "outputs": [],
   "source": []
  },
  {
   "cell_type": "code",
   "execution_count": null,
   "id": "9fef9c8f-a84b-467a-bd08-2cb7a308252d",
   "metadata": {},
   "outputs": [],
   "source": []
  },
  {
   "cell_type": "code",
   "execution_count": null,
   "id": "ff448881-acb6-4fce-b861-d1622e0ad704",
   "metadata": {},
   "outputs": [],
   "source": []
  },
  {
   "cell_type": "code",
   "execution_count": null,
   "id": "438c97aa-6dea-4a20-a389-cbaf806fa79d",
   "metadata": {},
   "outputs": [],
   "source": []
  },
  {
   "cell_type": "code",
   "execution_count": null,
   "id": "b24361a1-ce1c-4241-b53d-f6a15d767b3c",
   "metadata": {},
   "outputs": [],
   "source": []
  },
  {
   "cell_type": "code",
   "execution_count": null,
   "id": "d5caede9-12da-4d7c-9f6f-58e80d136bb3",
   "metadata": {},
   "outputs": [],
   "source": []
  },
  {
   "cell_type": "code",
   "execution_count": null,
   "id": "5816f01e-1510-424f-8ae6-d05221134e82",
   "metadata": {},
   "outputs": [],
   "source": [
    "segment, incorrect_answer = next(it)\n",
    "incorrect_question = next(q for q in results[segment][\"questions\"] if q.qid == incorrect_answer.qid)\n",
    "correct_answer = correct_u[incorrect_answer.qid]\n",
    "correct_question = next(q for q in results[\"U\"][\"questions\"] if q.qid == correct_answer.qid)\n",
    "\n",
    "print(llb.mmlu.generate_prompt(examples, correct_question, n_shots=0))"
   ]
  },
  {
   "cell_type": "code",
   "execution_count": null,
   "id": "b5d3bfde-7066-4345-937c-040f694a3aca",
   "metadata": {},
   "outputs": [],
   "source": []
  },
  {
   "cell_type": "code",
   "execution_count": null,
   "id": "3e31a130-f60e-4c32-b61d-7cc8e78078d1",
   "metadata": {},
   "outputs": [],
   "source": []
  },
  {
   "cell_type": "code",
   "execution_count": null,
   "id": "9b686903-1773-41c6-a050-ba0b9c6f5e21",
   "metadata": {},
   "outputs": [],
   "source": []
  },
  {
   "cell_type": "code",
   "execution_count": null,
   "id": "fd6278d5-0567-4a40-9f8f-d2ba415c99f5",
   "metadata": {},
   "outputs": [],
   "source": []
  },
  {
   "cell_type": "markdown",
   "id": "1b9e23f4-75f1-44b5-b975-7fdb081dfa9c",
   "metadata": {},
   "source": [
    "### Incorrect 0"
   ]
  },
  {
   "cell_type": "code",
   "execution_count": null,
   "id": "c8abb508-a596-4e65-a471-cf0bf227204b",
   "metadata": {},
   "outputs": [],
   "source": [
    "segment, incorrect_answer = next(it)\n",
    "incorrect_question = next(q for q in results[segment][\"questions\"] if q.qid == incorrect_answer.qid)\n",
    "correct_answer = correct_u[incorrect_answer.qid]\n",
    "correct_question = next(q for q in results[\"U\"][\"questions\"] if q.qid == correct_answer.qid)"
   ]
  },
  {
   "cell_type": "markdown",
   "id": "73e7716f-1e14-4287-a196-22156b27accb",
   "metadata": {},
   "source": [
    "**Correct Question**"
   ]
  },
  {
   "cell_type": "code",
   "execution_count": null,
   "id": "0757a60e-adc9-4d50-97e5-970d31abf655",
   "metadata": {},
   "outputs": [],
   "source": [
    "print(llb.mmlu.generate_prompt(examples, correct_question, n_shots=0))\n",
    "print(f\"\\n{correct_answer.actual}) {getattr(correct_question, correct_answer.actual)}\")"
   ]
  },
  {
   "cell_type": "markdown",
   "id": "ecd6caa6-09c9-4d65-90dd-f0ba0d702544",
   "metadata": {},
   "source": [
    "**Incorrect Question**"
   ]
  },
  {
   "cell_type": "code",
   "execution_count": null,
   "id": "0a624c82-caad-42cc-918c-e97861226f95",
   "metadata": {},
   "outputs": [],
   "source": [
    "print(llb.mmlu.generate_prompt(examples, incorrect_question, n_shots=0))\n",
    "print(f\"\\n{incorrect_answer.actual}) {getattr(incorrect_question, incorrect_answer.actual)}\")"
   ]
  },
  {
   "cell_type": "code",
   "execution_count": null,
   "id": "3f618d8e-d902-4f33-997d-292d1fc02bf7",
   "metadata": {
    "jupyter": {
     "source_hidden": true
    }
   },
   "outputs": [],
   "source": [
    "fig, axs = plt.subplots(ncols=2, sharey=True, figsize=(12,4))\n",
    "\n",
    "sns.barplot(correct_answer.scores, ax=axs[0])\n",
    "axs[0].set_title(\"Correct\")\n",
    "\n",
    "sns.barplot(incorrect_answer.scores, ax=axs[1])\n",
    "axs[1].set_title(\"Incorrect\")"
   ]
  },
  {
   "cell_type": "markdown",
   "id": "672e6778-c1bc-407d-a34e-e51fba3631e4",
   "metadata": {},
   "source": [
    "### Incorrect 1"
   ]
  },
  {
   "cell_type": "code",
   "execution_count": null,
   "id": "665bf2f7-a813-4b3b-aaa1-10cd3652018b",
   "metadata": {},
   "outputs": [],
   "source": [
    "segment, incorrect_answer = next(it)\n",
    "incorrect_question = next(q for q in results[segment][\"questions\"] if q.qid == incorrect_answer.qid)\n",
    "correct_answer = correct_u[incorrect_answer.qid]\n",
    "correct_question = next(q for q in results[\"U\"][\"questions\"] if q.qid == correct_answer.qid)"
   ]
  },
  {
   "cell_type": "markdown",
   "id": "189465fe-be20-4532-bcd8-45ea9c494714",
   "metadata": {},
   "source": [
    "**Correct Question**"
   ]
  },
  {
   "cell_type": "code",
   "execution_count": null,
   "id": "873e6d57-3b0b-4021-b335-c755a8a5e66a",
   "metadata": {},
   "outputs": [],
   "source": [
    "print(llb.mmlu.generate_prompt(examples, correct_question, n_shots=0))\n",
    "print(f\"\\n{correct_answer.actual}) {getattr(correct_question, correct_answer.actual)}\")"
   ]
  },
  {
   "cell_type": "markdown",
   "id": "0cf6cf00-5314-4a60-9142-fae590b6b4aa",
   "metadata": {},
   "source": [
    "**Incorrect Question**"
   ]
  },
  {
   "cell_type": "code",
   "execution_count": null,
   "id": "a563c180-f524-4e94-97c3-7dde60a298ae",
   "metadata": {},
   "outputs": [],
   "source": [
    "print(llb.mmlu.generate_prompt(examples, incorrect_question, n_shots=0))\n",
    "print(f\"\\n{incorrect_answer.actual}) {getattr(incorrect_question, incorrect_answer.actual)}\")"
   ]
  },
  {
   "cell_type": "code",
   "execution_count": null,
   "id": "17f0e946-3443-49ef-9381-67e9aa27098e",
   "metadata": {
    "jupyter": {
     "source_hidden": true
    }
   },
   "outputs": [],
   "source": [
    "fig, axs = plt.subplots(ncols=2, sharey=True, figsize=(12,4))\n",
    "\n",
    "sns.barplot(correct_answer.scores, ax=axs[0])\n",
    "axs[0].set_title(\"Correct\")\n",
    "\n",
    "sns.barplot(incorrect_answer.scores, ax=axs[1])\n",
    "axs[1].set_title(\"Incorrect\")"
   ]
  },
  {
   "cell_type": "markdown",
   "id": "b2a900d8-a5c4-4162-b14c-137e059a0d64",
   "metadata": {},
   "source": [
    "### Incorrect 2"
   ]
  },
  {
   "cell_type": "code",
   "execution_count": null,
   "id": "ef6a0c7f-2a11-4c28-b93d-7ea46fe26236",
   "metadata": {},
   "outputs": [],
   "source": [
    "segment, incorrect_answer = next(it)\n",
    "incorrect_question = next(q for q in results[segment][\"questions\"] if q.qid == incorrect_answer.qid)\n",
    "correct_answer = correct_u[incorrect_answer.qid]\n",
    "correct_question = next(q for q in results[\"U\"][\"questions\"] if q.qid == correct_answer.qid)"
   ]
  },
  {
   "cell_type": "markdown",
   "id": "3950e361-49de-4a23-b07b-774ab7fa7308",
   "metadata": {},
   "source": [
    "**Correct Question**"
   ]
  },
  {
   "cell_type": "code",
   "execution_count": null,
   "id": "e5ad94f3-9313-4861-b2a2-a9fee43ceca0",
   "metadata": {},
   "outputs": [],
   "source": [
    "print(llb.mmlu.generate_prompt(examples, correct_question, n_shots=0))\n",
    "print(f\"\\n{correct_answer.actual}) {getattr(correct_question, correct_answer.actual)}\")"
   ]
  },
  {
   "cell_type": "markdown",
   "id": "b27508f8-c991-4775-b6a7-ed04465e9c86",
   "metadata": {},
   "source": [
    "**Incorrect Question**"
   ]
  },
  {
   "cell_type": "code",
   "execution_count": null,
   "id": "46d3cf1a-f33b-496a-a1ac-88c7523ea695",
   "metadata": {},
   "outputs": [],
   "source": [
    "print(llb.mmlu.generate_prompt(examples, incorrect_question, n_shots=0))\n",
    "print(f\"\\n{incorrect_answer.actual}) {getattr(incorrect_question, incorrect_answer.actual)}\")"
   ]
  },
  {
   "cell_type": "code",
   "execution_count": null,
   "id": "276c1abb-d1b3-4d14-ac42-48c523728829",
   "metadata": {
    "jupyter": {
     "source_hidden": true
    }
   },
   "outputs": [],
   "source": [
    "fig, axs = plt.subplots(ncols=2, sharey=True, figsize=(12,4))\n",
    "\n",
    "sns.barplot(correct_answer.scores, ax=axs[0])\n",
    "axs[0].set_title(\"Correct\")\n",
    "\n",
    "sns.barplot(incorrect_answer.scores, ax=axs[1])\n",
    "axs[1].set_title(\"Incorrect\")"
   ]
  },
  {
   "cell_type": "markdown",
   "id": "17bda1cb-449b-4a65-ab0f-47fd0279ef79",
   "metadata": {},
   "source": [
    "## Key Observations"
   ]
  },
  {
   "cell_type": "markdown",
   "id": "cbce3607-af40-4df4-8c47-88ba695d3ccb",
   "metadata": {},
   "source": [
    "One anecdotal pattern that immediately stands out is the model seems to stick with the original option even after we switched the answers. It's as if the model simply guessed correctly the first time and then stuck with the same guess the second time."
   ]
  },
  {
   "cell_type": "code",
   "execution_count": null,
   "id": "5a74286e-9d54-456f-8dfb-404f2026c46f",
   "metadata": {},
   "outputs": [],
   "source": []
  },
  {
   "cell_type": "code",
   "execution_count": null,
   "id": "9ad898be-9b2b-4582-b675-7f34add175fb",
   "metadata": {},
   "outputs": [],
   "source": []
  },
  {
   "cell_type": "code",
   "execution_count": null,
   "id": "d2244e7c-28f6-4657-87fe-efa722b8a51a",
   "metadata": {},
   "outputs": [],
   "source": []
  },
  {
   "cell_type": "code",
   "execution_count": null,
   "id": "3f849e62-9bad-4b21-8b36-b7c48b7e8d53",
   "metadata": {},
   "outputs": [],
   "source": []
  },
  {
   "cell_type": "code",
   "execution_count": null,
   "id": "90617a8d-0e1e-4309-82ce-8b8dd5ec734a",
   "metadata": {},
   "outputs": [],
   "source": []
  },
  {
   "cell_type": "code",
   "execution_count": null,
   "id": "59b9bbfc-3479-4629-aa21-118ed44cf786",
   "metadata": {},
   "outputs": [],
   "source": []
  },
  {
   "cell_type": "code",
   "execution_count": null,
   "id": "7c78c42f-a655-4edb-a150-8225e705d646",
   "metadata": {},
   "outputs": [],
   "source": []
  },
  {
   "cell_type": "markdown",
   "id": "b5e32186-85f6-4819-9433-c7c236522ac6",
   "metadata": {},
   "source": [
    "# Exploring Potential Order Dependency Causes"
   ]
  },
  {
   "cell_type": "code",
   "execution_count": null,
   "id": "8856bf54-57a2-466f-8264-b0f38e3adae6",
   "metadata": {},
   "outputs": [],
   "source": []
  },
  {
   "cell_type": "code",
   "execution_count": null,
   "id": "e0c0a5ce-1566-419a-9719-e7f61a78e5e3",
   "metadata": {},
   "outputs": [],
   "source": []
  },
  {
   "cell_type": "code",
   "execution_count": null,
   "id": "de299c97-9630-4cd0-b82d-fc55a8076bea",
   "metadata": {},
   "outputs": [],
   "source": []
  },
  {
   "cell_type": "markdown",
   "id": "a237e174-21a5-46c5-8218-0427c25fddf7",
   "metadata": {},
   "source": [
    "# Mitigating Order Dependency"
   ]
  },
  {
   "cell_type": "code",
   "execution_count": null,
   "id": "c7de168e-24e4-4843-8064-d94aad853062",
   "metadata": {},
   "outputs": [],
   "source": []
  },
  {
   "cell_type": "code",
   "execution_count": null,
   "id": "ca5d53b4-ad72-473a-87ed-6d5656325f65",
   "metadata": {},
   "outputs": [],
   "source": []
  },
  {
   "cell_type": "code",
   "execution_count": null,
   "id": "9c90bc42-19a2-4eb0-b1e4-c8f3f10f6ad9",
   "metadata": {},
   "outputs": [],
   "source": []
  },
  {
   "cell_type": "markdown",
   "id": "f4a963f0-9ce3-4ef2-90bb-59fa2d3f6218",
   "metadata": {},
   "source": [
    "# References"
   ]
  },
  {
   "cell_type": "markdown",
   "id": "8885ab5d-1299-4691-927d-218785362fb4",
   "metadata": {},
   "source": [
    "Almazrouei, Ebtesam, Hamza Alobeidli, Abdulaziz Alshamsi, Alessandro Cappelli, Ruxandra Cojocaru, Mérouane Debbah, Étienne Goffinet, et al. 2023. “The Falcon Series of Open Language Models.” arXiv. https://doi.org/10.48550/arXiv.2311.16867.\n",
    "\n",
    "Dubey, Abhimanyu, Abhinav Jauhri, Abhinav Pandey, Abhishek Kadian, Ahmad Al-Dahle, Aiesha Letman, Akhil Mathur, et al. 2024. “The Llama 3 Herd of Models.” arXiv.Org. July 31, 2024. https://arxiv.org/abs/2407.21783v2.\n",
    "\n",
    "Hendrycks, Dan, Collin Burns, Steven Basart, Andy Zou, Mantas Mazeika, Dawn Song, and Jacob Steinhardt. 2021. “Measuring Massive Multitask Language Understanding.” arXiv. https://doi.org/10.48550/arXiv.2009.03300.\n",
    "\n",
    "Liusie, Adian, Potsawee Manakul, and Mark J. F. Gales. 2024. “LLM Comparative Assessment: Zero-Shot NLG Evaluation through Pairwise Comparisons Using Large Language Models.” arXiv. https://doi.org/10.48550/arXiv.2307.07889.\n",
    "\n",
    "McIlroy-Young, Reid, Katrina Brown, Conlan Olson, Linjun Zhang, and Cynthia Dwork. 2024. “Set-Based Prompting: Provably Solving the Language Model Order Dependency Problem.” arXiv. https://doi.org/10.48550/arXiv.2406.06581.\n",
    "\n",
    "OpenAI, Josh Achiam, Steven Adler, Sandhini Agarwal, Lama Ahmad, Ilge Akkaya, Florencia Leoni Aleman, et al. 2024. “GPT-4 Technical Report.” arXiv. https://doi.org/10.48550/arXiv.2303.08774.\n",
    "\n",
    "Ouyang, Long, Jeff Wu, Xu Jiang, Diogo Almeida, Carroll L. Wainwright, Pamela Mishkin, Chong Zhang, et al. 2022. “Training Language Models to Follow Instructions with Human Feedback.” arXiv. https://doi.org/10.48550/arXiv.2203.02155.\n",
    "\n",
    "Pezeshkpour, Pouya, and Estevam Hruschka. 2023. “Large Language Models Sensitivity to The Order of Options in Multiple-Choice Questions.” arXiv. https://doi.org/10.48550/arXiv.2308.11483.\n",
    "\n",
    "“Vicuna: An Open-Source Chatbot Impressing GPT-4 with 90%* ChatGPT Quality | LMSYS Org.” n.d. Accessed November 7, 2024. https://lmsys.org/blog/2023-03-30-vicuna.\n",
    "\n",
    "Zheng, Chujie, Hao Zhou, Fandong Meng, Jie Zhou, and Minlie Huang. 2024. “Large Language Models Are Not Robust Multiple Choice Selectors.” arXiv. https://doi.org/10.48550/arXiv.2309.03882."
   ]
  }
 ],
 "metadata": {
  "kernelspec": {
   "display_name": "Python 3 (ipykernel)",
   "language": "python",
   "name": "python3"
  },
  "language_info": {
   "codemirror_mode": {
    "name": "ipython",
    "version": 3
   },
   "file_extension": ".py",
   "mimetype": "text/x-python",
   "name": "python",
   "nbconvert_exporter": "python",
   "pygments_lexer": "ipython3",
   "version": "3.12.6"
  }
 },
 "nbformat": 4,
 "nbformat_minor": 5
}
