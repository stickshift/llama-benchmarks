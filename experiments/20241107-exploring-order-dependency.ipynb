{
 "cells": [
  {
   "cell_type": "markdown",
   "id": "69f16f61-2ff6-43a5-b504-48ea621f7442",
   "metadata": {},
   "source": [
    "# Exploring Order Dependency in LLMs"
   ]
  },
  {
   "cell_type": "markdown",
   "id": "ae64b27b-1485-4680-b85c-1b6eab592fc9",
   "metadata": {},
   "source": [
    "While LLMs have demonstrated remarkable capabilities in understanding and generating text, they also exhibit a number of unexpected behavioral patterns. Hallucinations are one well known example, but there are others that are less obvious and more subtle.\n",
    "\n",
    "In this experiment, we'll explore the *order dependency problem*: a language models' sensitivity to the order of tokens in a sequence. Multiple researchers have shown that small changes to the order that information is presented to a model can make a large difference in the model's response. Like hallucinations, order dependency is a significant obstacle to user acceptance and broader adoption of AI solutions. This is because order dependency leads to inconsistent model outputs, making models seem unreliable and eroding users' trust. Understandably so. For AI solutions to deliver on their promises, they need to be more robust. We can't accept healthcare models that change a diagnosis based on the order a patient's labs are entered. Or financial models that approve or deny loan applications based on who is first or last in line.\n",
    "\n",
    "One specific area where order dependency has been thoroughly studied is in answering multiple choice questions (MCQs). MCQs are widely used as benchmarks to evaluate LLMs' language understanding and reasoning capabilities. However, multiple researchers have independently shown that simply changing the order the choices are presented can dramatically change a model's score. They've also demonstrated this behavior isn't limited to one or two models, but is a general pattern exhibited the decoder-only Transformer architectures that dominate the current landscape.\n",
    "\n",
    "We'll spend the rest of this experiment exploring the order dependency problem from multiple viewpoints. First, we'll demonstrate the problem on a tiny sample of MCQs. Next, we'll step back and evaluate the extent of the problem. Next, we'll take a closer look at the leading hypotheses for what's causing the sensitivity and then consider several ways to potentially mitigate the issue."
   ]
  },
  {
   "cell_type": "markdown",
   "id": "014011e0-806d-4005-9147-207ec69160f1",
   "metadata": {},
   "source": [
    "# Parameters"
   ]
  },
  {
   "cell_type": "code",
   "execution_count": 26,
   "id": "c2ac049f-8d79-4cc5-abee-55ac61c589d5",
   "metadata": {},
   "outputs": [],
   "source": [
    "# Sample size\n",
    "n_questions = 64\n",
    "\n",
    "# Number of test runs\n",
    "n_runs = 3"
   ]
  },
  {
   "cell_type": "markdown",
   "id": "b1e1db0b-9a5f-46c0-bfa4-a197b7f1480f",
   "metadata": {},
   "source": [
    "# Setup"
   ]
  },
  {
   "cell_type": "code",
   "execution_count": 2,
   "id": "e0effe68-7c46-42e6-ae15-1ed5fa5dd9ff",
   "metadata": {},
   "outputs": [],
   "source": [
    "#-------------------------------------------------------------------------------\n",
    "# Imports\n",
    "#-------------------------------------------------------------------------------\n",
    "\n",
    "import base64\n",
    "from collections import Counter\n",
    "import logging\n",
    "from functools import partial\n",
    "from io import BytesIO\n",
    "import os\n",
    "from pathlib import Path\n",
    "from random import sample\n",
    "import re\n",
    "from time import perf_counter_ns as timer\n",
    "\n",
    "from IPython.display import display, HTML, Markdown\n",
    "from matplotlib import pyplot as plt\n",
    "from pandas import DataFrame\n",
    "import seaborn as sns\n",
    "from tqdm import tqdm\n",
    "\n",
    "import llama_benchmarks as llb\n",
    "from llama_benchmarks.models import llama\n",
    "from llama_benchmarks.mmlu import Question, Questions, Answer, Answers, MMLULlamaGenerator, OPTIONS"
   ]
  },
  {
   "cell_type": "code",
   "execution_count": 3,
   "id": "440b3e3d-b303-489e-a9df-2c8f3b479641",
   "metadata": {},
   "outputs": [],
   "source": [
    "#-------------------------------------------------------------------------------\n",
    "# Configure Experiment\n",
    "#-------------------------------------------------------------------------------\n",
    "\n",
    "# Switch to project root\n",
    "if os.path.basename(os.getcwd()) == \"experiments\":\n",
    "    os.chdir(\"..\")\n",
    "\n",
    "# Configure logger\n",
    "logger = logging.getLogger(__name__)\n",
    "\n",
    "# Path to datasets\n",
    "datasets_path = Path(\".build\") / \"datasets\""
   ]
  },
  {
   "cell_type": "code",
   "execution_count": 4,
   "id": "030ccf5e-4f5e-4609-a459-062da5b16544",
   "metadata": {},
   "outputs": [
    {
     "data": {
      "text/html": [
       "<style>\n",
       "table.questions {\n",
       "    width:100%;\n",
       "}\n",
       "table.questions td, table.questions th {\n",
       "    text-align: left !important;\n",
       "}\n",
       "</style>\n"
      ],
      "text/plain": [
       "<IPython.core.display.HTML object>"
      ]
     },
     "metadata": {},
     "output_type": "display_data"
    }
   ],
   "source": [
    "%%html\n",
    "<style>\n",
    "table.questions {\n",
    "    width:100%;\n",
    "}\n",
    "table.questions td, table.questions th {\n",
    "    text-align: left !important;\n",
    "}\n",
    "</style>"
   ]
  },
  {
   "cell_type": "code",
   "execution_count": 21,
   "id": "b5efb554-1a8f-440c-8d1a-7816610107b2",
   "metadata": {},
   "outputs": [],
   "source": [
    "#-------------------------------------------------------------------------------\n",
    "# Utility Functions\n",
    "#-------------------------------------------------------------------------------\n",
    "\n",
    "def show_questions(questions: Questions):\n",
    "    \"\"\"Render questions as a table.\"\"\"\n",
    "\n",
    "    max_rows = 5\n",
    "    rows = \"\"\n",
    "    for i in range(min(len(questions), max_rows)):\n",
    "        q = questions[i]\n",
    "        rows += f\"<tr><td>{q.qid}</td><td>{q.category}</td><td>{q.question}</td><td>{q.A}</td><td>{q.B}</td><td>{q.C}</td><td>{q.D}</td><td>{q.answer}</td></tr>\"\n",
    "    \n",
    "    display(HTML(        \n",
    "        f\"\"\"\n",
    "        <table class=\"questions\">\n",
    "        <tr><th>QID</th><th>Category</th><th>Question</th><th>A</th><th>B</th><th>C</th><th>D</th><th>Answer</th></tr>\n",
    "        {rows}\n",
    "        </table>\n",
    "        \"\"\"\n",
    "    ))    \n",
    "\n",
    "\n",
    "def remove_referentials(questions: Questions) -> Questions:\n",
    "    \"\"\"Discard questions with options that refer to other options, e.g. A or B.\"\"\"\n",
    "    word_pattern = re.compile(r\"\\b\\w+\\b\")\n",
    "\n",
    "    results = []\n",
    "    for q in questions:\n",
    "        # Look for options that refer to other options, e.g. A, B, A or B\n",
    "        referential_options = []\n",
    "        for option in OPTIONS:\n",
    "            option_value = getattr(q, option)\n",
    "            \n",
    "            # Break option_value into words\n",
    "            words = re.findall(word_pattern, option_value)\n",
    "    \n",
    "            # Look for references to options A, B, C, D\n",
    "            if any(o in words for o in OPTIONS):\n",
    "                referential_options.append(option)\n",
    "                continue\n",
    "\n",
    "            # Look for \"of the above\" as in None of the above, All of the above, etc\n",
    "            if \"of the above\" in option_value:\n",
    "                referential_options.append(option)\n",
    "                continue\n",
    "\n",
    "        # If q does not have self-referential options, keep it\n",
    "        if not referential_options:\n",
    "            results.append(q)\n",
    "\n",
    "    print(f\"Discarded {len(questions) - len(results)} questions\")\n",
    "\n",
    "    return tuple(results)\n",
    "\n",
    "\n",
    "def render_scores(answer: Answer):\n",
    "    \"\"\"Render scores for each option as a bar chart.\"\"\"\n",
    "    # Plot scores\n",
    "    fig, ax = plt.subplots()\n",
    "\n",
    "    default_color = \"#1f77b4\"\n",
    "    correct_color = \"#2ca02c\"\n",
    "    incorrect_color = \"#d62728\"\n",
    "    answer_color = correct_color if answer.correct else incorrect_color\n",
    "    \n",
    "    colors = [answer_color if k == answer.actual else default_color for k in answer.scores]\n",
    "    plt.bar(OPTIONS, [answer.scores[k] for k in OPTIONS], color=colors)\n",
    "\n",
    "    # Save to png\n",
    "    buffer = BytesIO()\n",
    "    fig.savefig(buffer, format=\"png\", bbox_inches=\"tight\")\n",
    "    plt.close(fig)\n",
    "    buffer.seek(0)\n",
    "\n",
    "    # Package png as html snippet\n",
    "    content = base64.b64encode(buffer.read()).decode(\"utf-8\")\n",
    "    html = f\"<img src=\\\"data:image/png;base64,{content}\\\">\"\n",
    "    \n",
    "    return html\n",
    "\n",
    "    \n",
    "def example_question_report(qid: int):\n",
    "    \"\"\"Display summary report of question.\"\"\"\n",
    "    \n",
    "    # Look up question\n",
    "    question = next(q for q in questions if q.qid == qid)\n",
    "\n",
    "    # A\n",
    "    q = llb.mmlu.swap_answers([question], \"A\")[0]\n",
    "    a = next(generator([q]))\n",
    "    content_a = (llb.mmlu.generate_prompt(q) + a.actual).replace(\"\\n\", \"<br>\")\n",
    "    scores_a = render_scores(a)\n",
    "    \n",
    "    # B\n",
    "    q = llb.mmlu.swap_answers([question], \"B\")[0]\n",
    "    a = next(generator([q]))\n",
    "    content_b = (llb.mmlu.generate_prompt(q) + a.actual).replace(\"\\n\", \"<br>\")\n",
    "    scores_b = render_scores(a)\n",
    "\n",
    "    # C\n",
    "    q = llb.mmlu.swap_answers([question], \"C\")[0]\n",
    "    a = next(generator([q]))\n",
    "    content_c = (llb.mmlu.generate_prompt(q) + a.actual).replace(\"\\n\", \"<br>\")\n",
    "    scores_c = render_scores(a)\n",
    "\n",
    "    # D\n",
    "    q = llb.mmlu.swap_answers([question], \"D\")[0]\n",
    "    a = next(generator([q]))\n",
    "    content_d = (llb.mmlu.generate_prompt(q) + a.actual).replace(\"\\n\", \"<br>\")\n",
    "    scores_d = render_scores(a)\n",
    "\n",
    "    display(HTML(\n",
    "        f\"\"\"\n",
    "        <table class=\"questions\">\n",
    "        <tr><th>Scenario A</th><th>Scenario B</th><th>Scenario C</th><th>Scenario D</th></tr>        \n",
    "        <tr><td>{content_a}</td><td>{content_b}</td><td>{content_c}</td><td>{content_d}</td></tr>\n",
    "        <tr><td>{scores_a}</td><td>{scores_b}</td><td>{scores_c}</td><td>{scores_d}</td></tr>\n",
    "        </table>\n",
    "        \"\"\"\n",
    "    ))"
   ]
  },
  {
   "cell_type": "markdown",
   "id": "38b17f0f-6f0b-4388-9c7c-4117f4b160d8",
   "metadata": {},
   "source": [
    "# Related Work"
   ]
  },
  {
   "cell_type": "markdown",
   "id": "306016f9-3322-4ae7-b157-397e2a3ffaa1",
   "metadata": {},
   "source": [
    "The ideas and concepts presented here lean heavily on three research papers published over the past 2 years. Pezeshkpour and Hruschka (2023) studied order dependency in GPT4 (OpenAI et al. 2024) and InstructGPT (Ouyang et al. 2022) and hypothesized the issue was caused by a mixture of uncertainty and *positional bias*. Zheng et al. (2024) studied order dependency in 20 LLMs from 4 popular families and suggested the issue was actually due to *token bias* instead of positional bias. Finally, McIlroy-Young et al. (2024) built on the ideas from the first two papers and recommended a general Set-Based Prompting solution."
   ]
  },
  {
   "cell_type": "markdown",
   "id": "f01ef48b-b92e-420c-90a5-7da65725c527",
   "metadata": {},
   "source": [
    "# MMLU Dataset"
   ]
  },
  {
   "cell_type": "markdown",
   "id": "3565ad64-b211-4a27-ad6c-a950886fbffe",
   "metadata": {},
   "source": [
    "First off, we need a source of MCQs. We'll use the standard benchmark Massive Multitask Language Understanding (MMLU) (Hendrycks et al. 2021) dataset. MMLU contains 14,042 MCQs from 57 categories. Each question has 4 options A, B, C, and D and one correct answer. In addition, each category has 5 example questions designed for few-shot experiments. MMLU can be downloaded from https://github.com/hendrycks/test."
   ]
  },
  {
   "cell_type": "code",
   "execution_count": 6,
   "id": "c2c381d7-08dd-453d-b0fc-c40b377aae5e",
   "metadata": {},
   "outputs": [
    {
     "data": {
      "text/html": [
       "\n",
       "        <table class=\"questions\">\n",
       "        <tr><th>QID</th><th>Category</th><th>Question</th><th>A</th><th>B</th><th>C</th><th>D</th><th>Answer</th></tr>\n",
       "        <tr><td>0</td><td>abstract algebra</td><td>Find the degree for the given field extension Q(sqrt(2), sqrt(3), sqrt(18)) over Q.</td><td>0</td><td>4</td><td>2</td><td>6</td><td>B</td></tr><tr><td>1</td><td>abstract algebra</td><td>Let p = (1, 2, 5, 4)(2, 3) in S_5 . Find the index of <p> in S_5.</td><td>8</td><td>2</td><td>24</td><td>120</td><td>C</td></tr><tr><td>2</td><td>abstract algebra</td><td>Find all zeros in the indicated finite field of the given polynomial with coefficients in that field. x^5 + 3x^3 + x^2 + 2x in Z_5</td><td>0</td><td>1</td><td>0,1</td><td>0,4</td><td>D</td></tr>\n",
       "        </table>\n",
       "        "
      ],
      "text/plain": [
       "<IPython.core.display.HTML object>"
      ]
     },
     "metadata": {},
     "output_type": "display_data"
    }
   ],
   "source": [
    "# Path to downloaded dataset\n",
    "mmlu_dataset_path = datasets_path / \"mmlu\"\n",
    "\n",
    "# Load all questions from MMLU\n",
    "questions = llb.mmlu.load_dataset(mmlu_dataset_path)\n",
    "show_questions(questions[0:3])"
   ]
  },
  {
   "cell_type": "code",
   "execution_count": 7,
   "id": "fd153cd6-c03d-4fef-a36b-527360e6e2e3",
   "metadata": {},
   "outputs": [
    {
     "name": "stdout",
     "output_type": "stream",
     "text": [
      "Loaded 14042 questions in 57 categories.\n"
     ]
    }
   ],
   "source": [
    "print(f\"Loaded {len(questions)} questions in {len({q.category for q in questions})} categories.\")"
   ]
  },
  {
   "cell_type": "markdown",
   "id": "7a01a866-38ac-4c52-8d8e-65b07a7ba6b8",
   "metadata": {},
   "source": [
    "## Data Cleaning"
   ]
  },
  {
   "cell_type": "markdown",
   "id": "7ef6ef80-3968-4e6c-a94a-8a10ce989461",
   "metadata": {},
   "source": [
    "### Referential Options"
   ]
  },
  {
   "cell_type": "markdown",
   "id": "15f0ab80-4e44-4314-99d4-811ae189427f",
   "metadata": {},
   "source": [
    "Before we move on to the LLMs, we need to clean up the MMLU data a bit. The first issue we'll tackle are questions with options that refer to other options. For example, consider question 253:"
   ]
  },
  {
   "cell_type": "code",
   "execution_count": 8,
   "id": "692821ca-a607-4a17-a943-7c73c6af3629",
   "metadata": {},
   "outputs": [
    {
     "name": "stdout",
     "output_type": "stream",
     "text": [
      "Question: Which of the following is/are common feature(s) of all fresh (i.e. not eroded) impact craters formed on solid surfaces:\n",
      "\n",
      "A) ejecta\n",
      "B) raised rims\n",
      "C) central peaks\n",
      "D) A and B only\n",
      "\n",
      "Answer: \n"
     ]
    }
   ],
   "source": [
    "print(llb.mmlu.generate_prompt(next(q for q in questions if q.qid == 253), n_shots=0, header=False))"
   ]
  },
  {
   "cell_type": "markdown",
   "id": "0cee47a6-7b0c-4c72-a728-e01fffacdfa5",
   "metadata": {},
   "source": [
    "Note that option D refers to options A and B. As soon as we start moving options around, option D becomes nonsensical. To avoid this situation, we discard any question with options that refer to other options."
   ]
  },
  {
   "cell_type": "code",
   "execution_count": 9,
   "id": "086311b7-4dbc-48e7-a504-94f4692532b5",
   "metadata": {},
   "outputs": [
    {
     "name": "stdout",
     "output_type": "stream",
     "text": [
      "Discarded 1079 questions\n",
      "Kept 12963 questions from 57 categories.\n"
     ]
    }
   ],
   "source": [
    "questions = remove_referentials(questions)\n",
    "\n",
    "print(f\"Kept {len(questions)} questions from {len({q.category for q in questions})} categories.\")"
   ]
  },
  {
   "cell_type": "code",
   "execution_count": 10,
   "id": "5d57b25b-67ae-4e8f-86ac-196b57783c44",
   "metadata": {},
   "outputs": [],
   "source": [
    "# Sanity checks\n",
    "\n",
    "# There should be at least 10k questions\n",
    "assert len(questions) > 10000\n",
    "\n",
    "# qids should be unique\n",
    "assert len({q.qid for q in questions}) == len(questions)"
   ]
  },
  {
   "cell_type": "markdown",
   "id": "6fb03d5d-8132-4ee5-8f68-cbb21b2d8b8e",
   "metadata": {},
   "source": [
    "### Answer Distribution"
   ]
  },
  {
   "cell_type": "markdown",
   "id": "cb9194dd-2d76-4cd6-9171-a7cc2f96bbc8",
   "metadata": {},
   "source": [
    "The next issue we'll tackle is bias caused by non-uniform answer distribution. Our goal is to highlight the selection bias inherent to the model. This means we can't give the model any reason to favor one option over another. However, the answers in MMLU are not evenly distributed. To control for this, we'll evenly distribute the answers across the 4 options A, B, C, D.\n",
    "\n",
    "Below is a demonstration of the function `llb.mmlu.debias_question_answers`. We'll apply this after taking each random sample later on in the experiment. "
   ]
  },
  {
   "cell_type": "code",
   "execution_count": 14,
   "id": "7c743b73-208a-4373-ad0e-d430770e3a3f",
   "metadata": {},
   "outputs": [],
   "source": [
    "# Record initial answer distribution\n",
    "example_distribution1 = llb.mmlu.answer_distribution(questions)\n",
    "\n",
    "# Debias examples\n",
    "debiased = llb.mmlu.debias_question_answers(questions)\n",
    "\n",
    "# Record debiased answer distribution\n",
    "example_distribution2 = llb.mmlu.answer_distribution(debiased)"
   ]
  },
  {
   "cell_type": "code",
   "execution_count": 15,
   "id": "323856b4-3b90-43bb-8877-d04df2d8fd6c",
   "metadata": {
    "jupyter": {
     "source_hidden": true
    }
   },
   "outputs": [
    {
     "data": {
      "image/png": "[encoded data removed]",
      "text/plain": [
       "<Figure size 1000x300 with 2 Axes>"
      ]
     },
     "metadata": {},
     "output_type": "display_data"
    }
   ],
   "source": [
    "fig, axs = plt.subplots(ncols=2, figsize=(10,3))\n",
    "\n",
    "sns.barplot(example_distribution1, ax=axs[0])\n",
    "axs[0].set_title(\"Initial Questions\")\n",
    "\n",
    "sns.barplot(example_distribution2, ax=axs[1])\n",
    "axs[1].set_title(\"Debiased Questions\")\n",
    "\n",
    "fig.subplots_adjust(hspace=0.3)"
   ]
  },
  {
   "cell_type": "markdown",
   "id": "124223e8-5905-43aa-a28e-b04e52662727",
   "metadata": {},
   "source": [
    "# Llama Models"
   ]
  },
  {
   "cell_type": "markdown",
   "id": "1445017a-f7bc-4211-8c0e-d8874326bbf2",
   "metadata": {},
   "source": [
    "We'll focus our experiment on the Llama 3.2 3B LLM. Llama 3.2 3B is a state-of-the-art LLM from Meta that is ideal for local experiments because it's open source and fits on smaller systems with a single GPU. For more details, check out [the Llama 3.2 model card on GitHub](https://github.com/meta-llama/llama-models/blob/main/models/llama3_2/MODEL_CARD.md).\n",
    "\n",
    "To quantify the model's accuracy, we'll follow the same MCQ evaluation protocol used by Zheng et al. (2024) and others. We create zero-shot prompts and answer them using a Llama LLM. Instead of trying to parse the answer from the model's output stream, we extract the logits for tokens \"A\", \"B\", \"C\", \"D\" from the model's output layer and convert them to probabilities. We're effectively limiting the model's output vocabulary to the 4 options. Not only does this let us quickly identify the model's \"answer\", it also gives us a direct representation of the model's uncertainty."
   ]
  },
  {
   "cell_type": "code",
   "execution_count": 17,
   "id": "0100e6ae-4ffc-4492-bf3d-b97ec458ed47",
   "metadata": {},
   "outputs": [
    {
     "name": "stdout",
     "output_type": "stream",
     "text": [
      "Question: Rune Co.'s checkbook balance on December 31 was $10000. On that date Rune held the following items in its safe: $4000 check payable to Rune postdated January 3 and not included in the December 31 checkbook balance in collection of a sale made in December. $1000 check payable to Rune deposited December 15 and included in the December 31 checkbook balance but returned by the bank on December 30 stamped \"NSF\". The check was redeposited on January 2 and cleared on January 9. What amount should Rune report as cash in its December 31 balance sheet?\n",
      "\n",
      "A) $9,000\n",
      "B) $10,000\n",
      "C) $13,000\n",
      "D) 14000\n",
      "\n",
      "Answer: \n"
     ]
    }
   ],
   "source": [
    "# Show prompt example\n",
    "print(llb.mmlu.generate_prompt(sample(questions, 1)[0]))"
   ]
  },
  {
   "cell_type": "markdown",
   "id": "f3b0f875-063e-4a30-992f-bf1cdb284e62",
   "metadata": {},
   "source": [
    "To make the analysis easier, we use a custom generator `llama_benchmarks.mmlu.MMLULlamaGenerator` that provides an custom interface for answering MMLU questions, uses a custom head stage to extracts logits for \"A\", \"B\", \"C\", \"D\", and avoids all token sampling. This streamlined generator scaffolding is wrapped around the off-the-shelf Llama 3.2 3B model downloaded from Meta (https://www.llama.com/)."
   ]
  },
  {
   "cell_type": "code",
   "execution_count": 18,
   "id": "b17ae0ac-5244-415f-93f7-9bfc463b6ded",
   "metadata": {},
   "outputs": [
    {
     "data": {
      "text/plain": [
       "{'device': device(type='mps'),\n",
       " 'checkpoint_path': PosixPath('/Users/andrewyoung/.llama/checkpoints/Llama3.2-3B'),\n",
       " 'vocab_size': 128256,\n",
       " 'd_model': 3072,\n",
       " 'd_head': 128,\n",
       " 'd_ffn': 8192,\n",
       " 'n_layers': 28,\n",
       " 'n_heads': 24,\n",
       " 'n_kv_heads': 8,\n",
       " 'rms_norm_eps': 1e-05,\n",
       " 'rope_theta': 500000.0,\n",
       " 'max_seq_len': 8192,\n",
       " 'temperature': 0.6,\n",
       " 'top_k': 50,\n",
       " 'top_p': 0.9,\n",
       " 'max_completion_tokens': 64}"
      ]
     },
     "execution_count": 18,
     "metadata": {},
     "output_type": "execute_result"
    }
   ],
   "source": [
    "config = llama.config(\"Llama3.2-3B\")\n",
    "config._asdict()"
   ]
  },
  {
   "cell_type": "code",
   "execution_count": 19,
   "id": "81bd83ca-257c-478c-9806-49c0808f602a",
   "metadata": {},
   "outputs": [],
   "source": [
    "generator = MMLULlamaGenerator(config)"
   ]
  },
  {
   "cell_type": "markdown",
   "id": "9d97f6d4-e934-4218-87c9-d19dcc31fded",
   "metadata": {},
   "source": [
    "# Examples of Order Dependency"
   ]
  },
  {
   "cell_type": "markdown",
   "id": "e0c008a5-07f3-449a-8370-8607ff363c9a",
   "metadata": {},
   "source": [
    "Let's take a look at a few hand curated examples. We ask the model to answer 4 versions of each question. In the first version, we move the correct answer to option A. In the second version, the correct answer is in option B, etc. For each version, we show the prompt, the model's answer and plot the model's confidence in each option."
   ]
  },
  {
   "cell_type": "markdown",
   "id": "3e783dcc-9e2b-4fd1-b51d-2369b2bdd86f",
   "metadata": {},
   "source": [
    "## Question: What country was once ruled by shoguns?"
   ]
  },
  {
   "cell_type": "markdown",
   "id": "31215c28-52e5-4931-8e26-711541ac7838",
   "metadata": {},
   "source": [
    "This is an easy one to start. You can see that the model gets it right every time. Furthermore, the charts below show that the model remains confident about the answer no matter where we move it. This is a good example of what we *want* to see."
   ]
  },
  {
   "cell_type": "code",
   "execution_count": 22,
   "id": "e82ad541-cdba-4c3e-b6b6-a93bdaf3be1e",
   "metadata": {},
   "outputs": [
    {
     "data": {
      "text/html": [
       "\n",
       "        <table class=\"questions\">\n",
       "        <tr><th>Scenario A</th><th>Scenario B</th><th>Scenario C</th><th>Scenario D</th></tr>        \n",
       "        <tr><td>Question: What country was once ruled by shoguns?<br><br>A) Japan<br>B) China<br>C) North Korea<br>D) Taiwan<br><br>Answer: A</td><td>Question: What country was once ruled by shoguns?<br><br>A) China<br>B) Japan<br>C) North Korea<br>D) Taiwan<br><br>Answer: B</td><td>Question: What country was once ruled by shoguns?<br><br>A) China<br>B) North Korea<br>C) Japan<br>D) Taiwan<br><br>Answer: C</td><td>Question: What country was once ruled by shoguns?<br><br>A) China<br>B) Taiwan<br>C) North Korea<br>D) Japan<br><br>Answer: D</td></tr>\n",
       "        <tr><td><img src=\"data:image/png;base64,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\"></td><td><img src=\"data:image/png;base64,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\"></td><td><img src=\"data:image/png;base64,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\"></td><td><img src=\"data:image/png;base64,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\"></td></tr>\n",
       "        </table>\n",
       "        "
      ],
      "text/plain": [
       "<IPython.core.display.HTML object>"
      ]
     },
     "metadata": {},
     "output_type": "display_data"
    }
   ],
   "source": [
    "example_question_report(7779)"
   ]
  },
  {
   "cell_type": "markdown",
   "id": "0edb9f2a-9498-4691-b960-840ca35cd913",
   "metadata": {},
   "source": [
    "## Question: What was Richard Nixon's middle name?"
   ]
  },
  {
   "cell_type": "markdown",
   "id": "eee69536-b6e6-4113-9525-ec128e1bcd81",
   "metadata": {},
   "source": [
    "In this case, the model appears a lot less certain. What's interesting is even though the only difference between the scenarios is the option ordering, the model's confidence varies quite a bit."
   ]
  },
  {
   "cell_type": "code",
   "execution_count": 23,
   "id": "3299dc27-4b33-43a7-9294-389542ba0ca1",
   "metadata": {},
   "outputs": [
    {
     "data": {
      "text/html": [
       "\n",
       "        <table class=\"questions\">\n",
       "        <tr><th>Scenario A</th><th>Scenario B</th><th>Scenario C</th><th>Scenario D</th></tr>        \n",
       "        <tr><td>Question: What was Richard Nixon's middle name?<br><br>A) Milhous<br>B) Michael<br>C) Mortimer<br>D) Matthew<br><br>Answer: A</td><td>Question: What was Richard Nixon's middle name?<br><br>A) Michael<br>B) Milhous<br>C) Mortimer<br>D) Matthew<br><br>Answer: B</td><td>Question: What was Richard Nixon's middle name?<br><br>A) Michael<br>B) Mortimer<br>C) Milhous<br>D) Matthew<br><br>Answer: B</td><td>Question: What was Richard Nixon's middle name?<br><br>A) Michael<br>B) Matthew<br>C) Mortimer<br>D) Milhous<br><br>Answer: D</td></tr>\n",
       "        <tr><td><img src=\"data:image/png;base64,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\"></td><td><img src=\"data:image/png;base64,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\"></td><td><img src=\"data:image/png;base64,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\"></td><td><img src=\"data:image/png;base64,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\"></td></tr>\n",
       "        </table>\n",
       "        "
      ],
      "text/plain": [
       "<IPython.core.display.HTML object>"
      ]
     },
     "metadata": {},
     "output_type": "display_data"
    }
   ],
   "source": [
    "example_question_report(7469)"
   ]
  },
  {
   "cell_type": "code",
   "execution_count": null,
   "id": "aa285294-ac0c-4563-a672-be0d4091721f",
   "metadata": {},
   "outputs": [],
   "source": []
  },
  {
   "cell_type": "code",
   "execution_count": null,
   "id": "413d91e7-7c53-416f-8135-f6c66f66f782",
   "metadata": {},
   "outputs": [],
   "source": []
  },
  {
   "cell_type": "code",
   "execution_count": null,
   "id": "5a5ba2db-e356-4013-9a89-c50f3896f03f",
   "metadata": {},
   "outputs": [],
   "source": []
  },
  {
   "cell_type": "code",
   "execution_count": null,
   "id": "631156fa-423e-4835-8a5d-ca45f0fd4d48",
   "metadata": {},
   "outputs": [],
   "source": []
  },
  {
   "cell_type": "code",
   "execution_count": null,
   "id": "bffcc423-c23a-4851-a8f3-d9ed6c136723",
   "metadata": {},
   "outputs": [],
   "source": []
  },
  {
   "cell_type": "markdown",
   "id": "4a42cc8e-9606-4e4f-9b73-23c044a3f941",
   "metadata": {},
   "source": [
    "# Quantifying Order Dependency"
   ]
  },
  {
   "cell_type": "markdown",
   "id": "2831239f-79e5-41b0-982f-df66834eee2b",
   "metadata": {},
   "source": [
    "Now that we've seen a handful of specific examples, let's step back and try to quantify the extent of the the order dependency problem. We'll follow the same approach used by Zheng et al. (2024) where we record the model's accuracy across 5 segments: U, A, B, C, D. The U segment is the initial \"uniform\" segment where the answers are evenly distributed across all 4 options. The A, B, C, and D segments represent scenarios where the correct answers are all shifted to one option.\n",
    "\n",
    "The idea is that if we move the correct answers to option A and the model's accuracy improves relative to the uniform scenario, then this suggests the model favors option A. Conversely, if we move the correct answers to option B and the model's accuracy gets worse, then this suggests the model is avoiding option B. By repeating this process over multiple random samples of questions, we can test the consistency of the model's behavior."
   ]
  },
  {
   "cell_type": "code",
   "execution_count": 27,
   "id": "ba3cfca7-479c-4951-849b-6deae842c4a0",
   "metadata": {},
   "outputs": [
    {
     "name": "stdout",
     "output_type": "stream",
     "text": [
      "Running experiment: 3 runs w/ 64-question samples taken from population of 12963 questions.\n"
     ]
    },
    {
     "name": "stderr",
     "output_type": "stream",
     "text": [
      "U: 100%|███████████████████████████████████████████████████████████████████████████████████████████████████████████████████████████████████████████████████| 64/64 [00:13<00:00,  4.78it/s]\n",
      "A: 100%|███████████████████████████████████████████████████████████████████████████████████████████████████████████████████████████████████████████████████| 64/64 [00:10<00:00,  6.34it/s]\n",
      "B: 100%|███████████████████████████████████████████████████████████████████████████████████████████████████████████████████████████████████████████████████| 64/64 [00:10<00:00,  6.13it/s]\n",
      "C: 100%|███████████████████████████████████████████████████████████████████████████████████████████████████████████████████████████████████████████████████| 64/64 [00:10<00:00,  6.01it/s]\n",
      "D: 100%|███████████████████████████████████████████████████████████████████████████████████████████████████████████████████████████████████████████████████| 64/64 [00:10<00:00,  5.93it/s]\n"
     ]
    },
    {
     "name": "stdout",
     "output_type": "stream",
     "text": [
      "Completed run 0\n"
     ]
    },
    {
     "name": "stderr",
     "output_type": "stream",
     "text": [
      "U: 100%|███████████████████████████████████████████████████████████████████████████████████████████████████████████████████████████████████████████████████| 64/64 [00:13<00:00,  4.86it/s]\n",
      "A: 100%|███████████████████████████████████████████████████████████████████████████████████████████████████████████████████████████████████████████████████| 64/64 [00:10<00:00,  6.03it/s]\n",
      "B: 100%|███████████████████████████████████████████████████████████████████████████████████████████████████████████████████████████████████████████████████| 64/64 [00:10<00:00,  5.83it/s]\n",
      "C: 100%|███████████████████████████████████████████████████████████████████████████████████████████████████████████████████████████████████████████████████| 64/64 [00:11<00:00,  5.81it/s]\n",
      "D: 100%|███████████████████████████████████████████████████████████████████████████████████████████████████████████████████████████████████████████████████| 64/64 [00:11<00:00,  5.80it/s]\n"
     ]
    },
    {
     "name": "stdout",
     "output_type": "stream",
     "text": [
      "Completed run 1\n"
     ]
    },
    {
     "name": "stderr",
     "output_type": "stream",
     "text": [
      "U: 100%|███████████████████████████████████████████████████████████████████████████████████████████████████████████████████████████████████████████████████| 64/64 [00:14<00:00,  4.30it/s]\n",
      "A: 100%|███████████████████████████████████████████████████████████████████████████████████████████████████████████████████████████████████████████████████| 64/64 [00:13<00:00,  4.91it/s]\n",
      "B: 100%|███████████████████████████████████████████████████████████████████████████████████████████████████████████████████████████████████████████████████| 64/64 [00:13<00:00,  4.88it/s]\n",
      "C: 100%|███████████████████████████████████████████████████████████████████████████████████████████████████████████████████████████████████████████████████| 64/64 [00:13<00:00,  4.92it/s]\n",
      "D: 100%|███████████████████████████████████████████████████████████████████████████████████████████████████████████████████████████████████████████████████| 64/64 [00:13<00:00,  4.91it/s]"
     ]
    },
    {
     "name": "stdout",
     "output_type": "stream",
     "text": [
      "Completed run 2\n",
      "CPU times: user 1min 16s, sys: 14.6 s, total: 1min 31s\n",
      "Wall time: 2min 59s\n"
     ]
    },
    {
     "name": "stderr",
     "output_type": "stream",
     "text": [
      "\n"
     ]
    }
   ],
   "source": [
    "%%time\n",
    "\n",
    "# Sanity checks\n",
    "\n",
    "# n_questions must be multiple of 4\n",
    "assert n_questions % 4 == 0\n",
    "\n",
    "# Summary\n",
    "print(f\"Running experiment: {n_runs} runs w/ {n_questions}-question samples taken from population of {len(questions)} questions.\")\n",
    "\n",
    "# Reset results\n",
    "raw_results = []\n",
    "\n",
    "# Repeat over multiple runs\n",
    "for run in range(n_runs):\n",
    "\n",
    "    # Reset results\n",
    "    metrics = {}\n",
    "    \n",
    "    # Randomly select question sample\n",
    "    selected_questions = sample(questions, n_questions)\n",
    "    \n",
    "    # Debias questions\n",
    "    selected_questions = llb.mmlu.debias_question_answers(selected_questions)\n",
    "\n",
    "    # Verify selected questions are uniformly distributed\n",
    "    distribution = llb.mmlu.answer_distribution(selected_questions)\n",
    "    assert len(set(distribution.values())) == 1\n",
    "\n",
    "    # Iterate through each segment\n",
    "    for segment in [\"U\", \"A\", \"B\", \"C\", \"D\"]:\n",
    "        segment_questions = selected_questions\n",
    "    \n",
    "        # If segment is A, B, C, D swap the answers to the target option\n",
    "        if segment in OPTIONS:\n",
    "            segment_questions = llb.mmlu.swap_answers(segment_questions, segment)\n",
    "    \n",
    "        # Answer each question\n",
    "        start_time = timer()\n",
    "        answers = tuple(a for a in tqdm(generator(segment_questions), total=n_questions, desc=segment))\n",
    "        duration = timer() - start_time\n",
    "        \n",
    "        # Record performance metrics\n",
    "        correct = sum(1 for a in answers if a.correct)\n",
    "        accuracy = correct / n_questions\n",
    "        rps = 1000000000 * n_questions / duration\n",
    "        \n",
    "        metrics[segment] = {\n",
    "            \"questions\": segment_questions,\n",
    "            \"answers\": answers,\n",
    "            \"n\": n_questions,\n",
    "            \"correct\": correct,\n",
    "            \"accuracy\": accuracy,\n",
    "            \"rps\": rps,\n",
    "        }\n",
    "    \n",
    "    raw_results.append(metrics)\n",
    "    print(f\"Completed run {run}\")"
   ]
  },
  {
   "cell_type": "markdown",
   "id": "3c5b1214-b06a-4e15-9134-3217ba4ff354",
   "metadata": {},
   "source": [
    "## Analysis"
   ]
  },
  {
   "cell_type": "code",
   "execution_count": 28,
   "id": "0985c8cb-f46b-4ff5-9b92-dbeac0081c06",
   "metadata": {
    "jupyter": {
     "source_hidden": true
    }
   },
   "outputs": [],
   "source": [
    "# Post-process raw results\n",
    "rows = []\n",
    "for run in raw_results:\n",
    "    baseline = run[\"U\"][\"accuracy\"]\n",
    "    for segment in [\"U\", \"A\", \"B\", \"C\", \"D\"]:\n",
    "        rows.append({\n",
    "            \"segment\": segment,\n",
    "            \"accuracy\": run[segment][\"accuracy\"],\n",
    "            \"accuracy_delta\": run[segment][\"accuracy\"] - baseline,\n",
    "        })\n",
    "results = DataFrame(rows)"
   ]
  },
  {
   "cell_type": "code",
   "execution_count": 29,
   "id": "5dbe9de0-de79-4c90-9111-2a70dad89f94",
   "metadata": {
    "jupyter": {
     "source_hidden": true
    }
   },
   "outputs": [
    {
     "data": {
      "text/plain": [
       "Text(0.5, 1.0, 'Accuracy Delta (runs=3, n=64)')"
      ]
     },
     "execution_count": 29,
     "metadata": {},
     "output_type": "execute_result"
    },
    {
     "data": {
      "image/png": "[encoded data removed]",
      "text/plain": [
       "<Figure size 1200x300 with 2 Axes>"
      ]
     },
     "metadata": {},
     "output_type": "display_data"
    }
   ],
   "source": [
    "fig, axs = plt.subplots(ncols=2, figsize=(12,3))\n",
    "\n",
    "# Accuracy\n",
    "sns.boxplot(x=\"segment\", y=\"accuracy\", data=results, ax=axs[0])\n",
    "axs[0].set_title(f\"Accuracy (runs={n_runs}, n={n_questions})\")\n",
    "\n",
    "# Accuracy Delta\n",
    "sns.boxplot(x=\"segment\", y=\"accuracy_delta\", data=results, ax=axs[1])\n",
    "axs[1].set_title(f\"Accuracy Delta (runs={n_runs}, n={n_questions})\")"
   ]
  },
  {
   "cell_type": "code",
   "execution_count": null,
   "id": "1718279b-f197-4140-9f4f-9e31bfb2953a",
   "metadata": {},
   "outputs": [],
   "source": []
  },
  {
   "cell_type": "code",
   "execution_count": null,
   "id": "34591110-626a-4327-9f28-89e32472bf79",
   "metadata": {},
   "outputs": [],
   "source": []
  },
  {
   "cell_type": "code",
   "execution_count": null,
   "id": "b3a54abe-d359-495d-b263-db754a5c1821",
   "metadata": {},
   "outputs": [],
   "source": []
  },
  {
   "cell_type": "code",
   "execution_count": null,
   "id": "3722691b-1c24-4ce9-ab32-4cb4abd145ac",
   "metadata": {},
   "outputs": [],
   "source": []
  },
  {
   "cell_type": "code",
   "execution_count": null,
   "id": "9d1a11aa-a572-4ae8-9051-defa1d89af1a",
   "metadata": {},
   "outputs": [],
   "source": [
    "# Lets look for questions that were correct in uniform case and incorrect in other cases\n",
    "metrics = raw_results[0]\n",
    "\n",
    "correct = {a.qid for a in metrics[\"U\"][\"answers\"] if a.correct}\n",
    "\n",
    "incorrect = set()\n",
    "incorrect |= {a.qid for a in metrics[\"A\"][\"answers\"] if a.qid in correct and not a.correct}\n",
    "incorrect |= {a.qid for a in metrics[\"B\"][\"answers\"] if a.qid in correct and not a.correct}\n",
    "incorrect |= {a.qid for a in metrics[\"C\"][\"answers\"] if a.qid in correct and not a.correct}\n",
    "incorrect |= {a.qid for a in metrics[\"D\"][\"answers\"] if a.qid in correct and not a.correct}"
   ]
  },
  {
   "cell_type": "code",
   "execution_count": null,
   "id": "dcfff443-8c53-4a33-a7ef-21ce7c962711",
   "metadata": {},
   "outputs": [],
   "source": [
    "sample(tuple(incorrect), 5)"
   ]
  },
  {
   "cell_type": "code",
   "execution_count": null,
   "id": "3c010bbe-e06d-4934-8100-ededd95948ba",
   "metadata": {},
   "outputs": [],
   "source": [
    "print(llb.mmlu.generate_prompt(examples, next(q for q in questions if q.qid == 12320), n_shots=0, header=False))"
   ]
  },
  {
   "cell_type": "code",
   "execution_count": null,
   "id": "b4b76441-bd9d-463a-a9de-c89468d52882",
   "metadata": {},
   "outputs": [],
   "source": []
  },
  {
   "cell_type": "code",
   "execution_count": null,
   "id": "10b2b107-76b9-4c95-98df-023999bfb0bc",
   "metadata": {},
   "outputs": [],
   "source": []
  },
  {
   "cell_type": "code",
   "execution_count": null,
   "id": "55f8d077-d655-4065-a0f3-aa8d35fed5d2",
   "metadata": {},
   "outputs": [],
   "source": []
  },
  {
   "cell_type": "code",
   "execution_count": null,
   "id": "8413ca7d-ecfe-45ec-b862-904d3028f83b",
   "metadata": {},
   "outputs": [],
   "source": []
  },
  {
   "cell_type": "code",
   "execution_count": null,
   "id": "8e145c0e-0de8-4ee3-a542-90d9f016d457",
   "metadata": {},
   "outputs": [],
   "source": []
  },
  {
   "cell_type": "code",
   "execution_count": null,
   "id": "315c73ce-0ee2-464e-9838-2895e76624f0",
   "metadata": {},
   "outputs": [],
   "source": []
  },
  {
   "cell_type": "code",
   "execution_count": null,
   "id": "26c8d71b-6a74-46de-b1bb-03d6eacc7196",
   "metadata": {},
   "outputs": [],
   "source": []
  },
  {
   "cell_type": "code",
   "execution_count": null,
   "id": "93e76691-c136-4fc6-b338-c13e4e801930",
   "metadata": {},
   "outputs": [],
   "source": []
  },
  {
   "cell_type": "code",
   "execution_count": null,
   "id": "b04b13cb-4561-4ed6-a623-88a57c626b69",
   "metadata": {},
   "outputs": [],
   "source": []
  },
  {
   "cell_type": "code",
   "execution_count": null,
   "id": "b5d2dd0f-cb50-4326-af6c-8730ab32b980",
   "metadata": {},
   "outputs": [],
   "source": [
    "def example_question_report(qid: int):\n",
    "    \"\"\"Display summary report of question.\"\"\"\n",
    "\n",
    "    def options_content(question: Question):\n",
    "        content = (\n",
    "            f\"A) {question.A}<br>\"\n",
    "            f\"B) {question.B}<br>\"\n",
    "            f\"C) {question.C}<br>\"\n",
    "            f\"D) {question.D}<br>\"\n",
    "        )\n",
    "        return content       \n",
    "        \n",
    "    # Look up question\n",
    "    question = next(q for q in questions if q.qid == qid)\n",
    "\n",
    "    # A\n",
    "    q = llb.mmlu.swap_answers([question], \"A\")[0]\n",
    "    options_a = options_content(q)\n",
    "    a = next(generator(examples, [q]))\n",
    "    scores_a = render_scores(a)\n",
    "    answer_a = a\n",
    "    \n",
    "    # B\n",
    "    q = llb.mmlu.swap_answers([question], \"B\")[0]\n",
    "    options_b = options_content(q)\n",
    "    a = next(generator(examples, [q]))\n",
    "    scores_b = render_scores(a)\n",
    "    answer_b = a\n",
    "\n",
    "    # C\n",
    "    q = llb.mmlu.swap_answers([question], \"C\")[0]\n",
    "    options_c = options_content(q)\n",
    "    a = next(generator(examples, [q]))\n",
    "    scores_c = render_scores(a)\n",
    "    answer_c = a\n",
    "\n",
    "    # D\n",
    "    q = llb.mmlu.swap_answers([question], \"D\")[0]\n",
    "    options_d = options_content(q)\n",
    "    a = next(generator(examples, [q]))\n",
    "    scores_d = render_scores(a)\n",
    "    answer_d = a\n",
    "\n",
    "    display(HTML(\n",
    "        f\"\"\"\n",
    "        <table class=\"questions\">\n",
    "        <tr><th colspan=\"4\">Original</th></tr>\n",
    "        <tr><td colspan=\"4\">{question.question}<br><br>Answer: {getattr(question, question.answer)} ({question.answer})</td></tr>\n",
    "        \n",
    "        <tr><th>Scenario A</th><th>Scenario B</th><th>Scenario C</th><th>Scenario D</th></tr>\n",
    "        \n",
    "        <tr><td>{options_a}</td><td>{options_b}</td><td>{options_c}</td><td>{options_d}</td></tr>\n",
    "        \n",
    "        <tr class=\"answers\">\n",
    "            <th>Answer: {answer_a.actual}</th>\n",
    "            <th>Answer: {answer_b.actual}</th>\n",
    "            <th>Answer: {answer_c.actual}</th>\n",
    "            <th>Answer: {answer_d.actual}</th>\n",
    "        </tr>\n",
    "\n",
    "        <tr><td>{scores_a}</td><td>{scores_b}</td><td>{scores_c}</td><td>{scores_d}</td></tr>\n",
    "\n",
    "        </table>\n",
    "        \"\"\"\n",
    "    ))"
   ]
  },
  {
   "cell_type": "code",
   "execution_count": null,
   "id": "caf6b21c-cb90-4bdc-a945-e61972d66460",
   "metadata": {},
   "outputs": [],
   "source": [
    "example_question_report(12320)"
   ]
  },
  {
   "cell_type": "code",
   "execution_count": null,
   "id": "033bf8a3-d06d-4d91-bcad-60de1a3ef325",
   "metadata": {},
   "outputs": [],
   "source": []
  },
  {
   "cell_type": "code",
   "execution_count": null,
   "id": "33cbc052-c121-416a-84e1-fca28260d28b",
   "metadata": {},
   "outputs": [],
   "source": []
  },
  {
   "cell_type": "code",
   "execution_count": null,
   "id": "4c5856ec-e125-477d-af5f-88be74999d5a",
   "metadata": {},
   "outputs": [],
   "source": []
  },
  {
   "cell_type": "code",
   "execution_count": null,
   "id": "36bc3995-3fe2-43a4-8688-2cf162aa74dc",
   "metadata": {},
   "outputs": [],
   "source": []
  },
  {
   "cell_type": "code",
   "execution_count": null,
   "id": "8270d41c-97cd-4720-8d9b-360d58447f29",
   "metadata": {},
   "outputs": [],
   "source": []
  },
  {
   "cell_type": "code",
   "execution_count": null,
   "id": "68e9b5fe-6a78-47c9-8aa5-035ee135bc09",
   "metadata": {},
   "outputs": [],
   "source": []
  },
  {
   "cell_type": "code",
   "execution_count": null,
   "id": "ec51a439-4fe5-4907-9397-7ecc666f3ee9",
   "metadata": {},
   "outputs": [],
   "source": []
  },
  {
   "cell_type": "code",
   "execution_count": null,
   "id": "33824a6b-615a-4965-ad90-f52f168128bd",
   "metadata": {},
   "outputs": [],
   "source": []
  },
  {
   "cell_type": "markdown",
   "id": "c8a2709e-ab55-4a92-ad7c-95229252ffa8",
   "metadata": {},
   "source": [
    "# XXX"
   ]
  },
  {
   "cell_type": "markdown",
   "id": "9ae45e50-5019-47c6-8570-f01fdcd6dad3",
   "metadata": {},
   "source": [
    "Next, we'll run the questions by a Llama 3.2 3B LLM, change the order of the options, answer them with the LLM again, and then see which answers changed. Llama 3.2 3B is a state-of-the-art LLM from Meta that is ideal for local experiments because it's open source and fits on a smaller system with a single GPU."
   ]
  },
  {
   "cell_type": "markdown",
   "id": "5747e9f7-9b4d-4e4b-b850-e959c02369b3",
   "metadata": {},
   "source": [
    "## Workflow"
   ]
  },
  {
   "cell_type": "markdown",
   "id": "43594007-c01e-4e3e-b383-08c1cd7ec92a",
   "metadata": {},
   "source": [
    "To quantify the model's accuracy, we'll follow the same MCQ evaluation protocol used by Zheng et al. (2024) and others. We combine each question and relevant examples into a 4-shot prompt and present the prompt to the LLM. Instead of trying to parse the answer from the model's output stream, we extract the logits for tokens \"A\", \"B\", \"C\", \"D\" from the model's output layer and convert them to probabilities. Not only does this let us quickly identify the model's \"answer\", it also gives us a direct representation of the model's uncertainty.\n",
    "\n",
    "To make the analysis easier, we use a custom generator `llama_benchmarks.mmlu.MMLULlamaGenerator` that provides an interface that takes MMLU examples and questions, uses a custom head stage to extracts logits for \"A\", \"B\", \"C\", \"D\", and avoids all token sampling. This streamlined generator scaffolding is wrapped around the off-the-shelf Llama 3.2 3B model downloaded from Meta (https://www.llama.com/)."
   ]
  },
  {
   "cell_type": "markdown",
   "id": "e5b2e62f-7fe7-4363-a036-3786329ba3b8",
   "metadata": {},
   "source": [
    "Next, we'll record the model's accuracy across 5 segments: U, A, B, C, D. The U segment is the initial \"uniform\" segment where the answers are evenly distributed across all 4 options. The A, B, C, D segments are when the correct answers are shifted entirely to each option. This approach will provide a set of concrete examples we can inspect in more detail and also sets us up to evaluate the model's sensitivity at scale."
   ]
  },
  {
   "cell_type": "code",
   "execution_count": null,
   "id": "440ceea8-84c1-4b6a-9d46-2d407af42064",
   "metadata": {},
   "outputs": [],
   "source": [
    "n_questions = 64\n",
    "questions = sample(questions, n_questions)"
   ]
  },
  {
   "cell_type": "markdown",
   "id": "73a8242c-4fd0-4078-9bcf-8fe0d78008b1",
   "metadata": {},
   "source": [
    "## Zero Shot"
   ]
  },
  {
   "cell_type": "code",
   "execution_count": null,
   "id": "ef66f6e3-0d00-41ae-b814-a59510bfbdda",
   "metadata": {},
   "outputs": [],
   "source": [
    "results = {}\n",
    "\n",
    "for segment in [\"U\", \"A\", \"B\", \"C\", \"D\"]:\n",
    "    selected_questions = questions\n",
    "\n",
    "    # If segment is A, B, C, D swap the answers to the target option\n",
    "    if segment in OPTIONS:\n",
    "        selected_questions = llb.mmlu.swap_answers(selected_questions, segment)\n",
    "\n",
    "    # Answer each question\n",
    "    start_time = timer()\n",
    "    answers = tuple(a for a in tqdm(generator(examples, selected_questions, n_shots=0), total=n_questions, desc=segment))\n",
    "    duration = timer() - start_time\n",
    "    \n",
    "    # Record performance metrics\n",
    "    correct = sum(1 for a in answers if a.correct)\n",
    "    accuracy = correct / n_questions\n",
    "    rps = 1000000000 * n_questions / duration\n",
    "    \n",
    "    results[segment] = {\n",
    "        \"questions\": selected_questions,\n",
    "        \"answers\": answers,\n",
    "        \"n\": n_questions,\n",
    "        \"correct\": correct,\n",
    "        \"accuracy\": accuracy,\n",
    "        \"rps\": rps,\n",
    "    }"
   ]
  },
  {
   "cell_type": "code",
   "execution_count": null,
   "id": "80fc8e57-2d98-44fb-94ac-ec266ebe30dd",
   "metadata": {},
   "outputs": [],
   "source": [
    "data={k: v[\"accuracy\"] for k, v in results.items()}\n",
    "ax = sns.scatterplot(data)\n",
    "ax.set_title(f\"Single Run (n={n_questions})\")\n",
    "ax.set_ylabel(\"Accuracy\")\n",
    "ax.set_xlabel(\"Segment\")"
   ]
  },
  {
   "cell_type": "markdown",
   "id": "f42c8acf-a268-4426-8129-98588afe6cec",
   "metadata": {},
   "source": [
    "Since the sample is random, the details of the accuracy plot will change with every run but you should see a significant difference in accuracy across the segments.\n",
    "\n",
    "Note that the model's behavior is completely deterministic here. There is no token sampling happening in the generator. If you rerun the same questions through the model, you'll get the same outputs."
   ]
  },
  {
   "cell_type": "markdown",
   "id": "4ea0e09c-3c96-4ff6-a38e-6b976b94dd01",
   "metadata": {},
   "source": [
    "## Error Analysis"
   ]
  },
  {
   "cell_type": "markdown",
   "id": "4789d22b-6d93-49f8-b8c9-225bae555d3e",
   "metadata": {},
   "source": [
    "Let's take a look at a few questions in detail starting with questions that went from correct to incorrect. These are questions where the model gave you the right answer to begin with, sounded like it knew what it was talking about, and then dropped the ball when the question was modified slightly."
   ]
  },
  {
   "cell_type": "code",
   "execution_count": null,
   "id": "1aab1c65-8829-4764-aaed-a81c392931fb",
   "metadata": {},
   "outputs": [],
   "source": [
    "correct_u = {a.qid: a for a in results[\"U\"][\"answers\"] if a.correct}\n",
    "incorrect = {\n",
    "    \"A\": tuple(a for a in results[\"A\"][\"answers\"] if a.qid in correct_u and not a.correct),\n",
    "    \"B\": tuple(a for a in results[\"B\"][\"answers\"] if a.qid in correct_u and not a.correct),\n",
    "    \"C\": tuple(a for a in results[\"C\"][\"answers\"] if a.qid in correct_u and not a.correct),\n",
    "    \"D\": tuple(a for a in results[\"D\"][\"answers\"] if a.qid in correct_u and not a.correct),\n",
    "}"
   ]
  },
  {
   "cell_type": "code",
   "execution_count": null,
   "id": "180cc3ee-3cb3-44d7-ad90-4c22c7bed382",
   "metadata": {},
   "outputs": [],
   "source": [
    "# candidates = []\n",
    "# for segment, answers in incorrect.items():\n",
    "#     for answer in answers:\n",
    "#         candidates.append((segment, answer))\n",
    "# candidates = sample(candidates, len(candidates))"
   ]
  },
  {
   "cell_type": "code",
   "execution_count": null,
   "id": "2d660b60-703e-4839-85e6-4d7d7dad6366",
   "metadata": {},
   "outputs": [],
   "source": [
    "it = iter(candidates)"
   ]
  },
  {
   "cell_type": "code",
   "execution_count": null,
   "id": "8fba5006-2938-4f57-8cde-c1df1e064677",
   "metadata": {},
   "outputs": [],
   "source": [
    "candidates = set()\n",
    "for v in incorrect.values():\n",
    "    candidates |= {a.qid for a in v}\n",
    "\n",
    "candidates = tuple(q for q in questions if q.qid in candidates)\n",
    "it = iter(candidates)"
   ]
  },
  {
   "cell_type": "code",
   "execution_count": null,
   "id": "a75ea1c1-f54f-4287-9b6f-3e2edcd2da19",
   "metadata": {},
   "outputs": [],
   "source": [
    "q = next(it)\n",
    "print(llb.mmlu.generate_prompt(examples, q, n_shots=0))"
   ]
  },
  {
   "cell_type": "code",
   "execution_count": null,
   "id": "355d511b-96e0-4fe9-aafd-dd9c287b1257",
   "metadata": {},
   "outputs": [],
   "source": [
    "q.qid"
   ]
  },
  {
   "cell_type": "code",
   "execution_count": null,
   "id": "c7cb6b32-7529-4d67-a502-fab9f1b47e9e",
   "metadata": {},
   "outputs": [],
   "source": [
    "len(candidates)"
   ]
  },
  {
   "cell_type": "code",
   "execution_count": null,
   "id": "35b1d2e4-2b0c-48f6-9278-d922a8f5aaa3",
   "metadata": {},
   "outputs": [],
   "source": []
  },
  {
   "cell_type": "code",
   "execution_count": null,
   "id": "611440b3-2d58-4776-8892-0c62e30ab79f",
   "metadata": {},
   "outputs": [],
   "source": []
  },
  {
   "cell_type": "code",
   "execution_count": null,
   "id": "e95f06ed-805a-458d-b1be-584e717ba4ba",
   "metadata": {},
   "outputs": [],
   "source": []
  },
  {
   "cell_type": "code",
   "execution_count": null,
   "id": "9fef9c8f-a84b-467a-bd08-2cb7a308252d",
   "metadata": {},
   "outputs": [],
   "source": []
  },
  {
   "cell_type": "code",
   "execution_count": null,
   "id": "ff448881-acb6-4fce-b861-d1622e0ad704",
   "metadata": {},
   "outputs": [],
   "source": []
  },
  {
   "cell_type": "code",
   "execution_count": null,
   "id": "438c97aa-6dea-4a20-a389-cbaf806fa79d",
   "metadata": {},
   "outputs": [],
   "source": []
  },
  {
   "cell_type": "code",
   "execution_count": null,
   "id": "b24361a1-ce1c-4241-b53d-f6a15d767b3c",
   "metadata": {},
   "outputs": [],
   "source": []
  },
  {
   "cell_type": "code",
   "execution_count": null,
   "id": "d5caede9-12da-4d7c-9f6f-58e80d136bb3",
   "metadata": {},
   "outputs": [],
   "source": []
  },
  {
   "cell_type": "code",
   "execution_count": null,
   "id": "5816f01e-1510-424f-8ae6-d05221134e82",
   "metadata": {},
   "outputs": [],
   "source": [
    "segment, incorrect_answer = next(it)\n",
    "incorrect_question = next(q for q in results[segment][\"questions\"] if q.qid == incorrect_answer.qid)\n",
    "correct_answer = correct_u[incorrect_answer.qid]\n",
    "correct_question = next(q for q in results[\"U\"][\"questions\"] if q.qid == correct_answer.qid)\n",
    "\n",
    "print(llb.mmlu.generate_prompt(examples, correct_question, n_shots=0))"
   ]
  },
  {
   "cell_type": "code",
   "execution_count": null,
   "id": "b5d3bfde-7066-4345-937c-040f694a3aca",
   "metadata": {},
   "outputs": [],
   "source": []
  },
  {
   "cell_type": "code",
   "execution_count": null,
   "id": "3e31a130-f60e-4c32-b61d-7cc8e78078d1",
   "metadata": {},
   "outputs": [],
   "source": []
  },
  {
   "cell_type": "code",
   "execution_count": null,
   "id": "9b686903-1773-41c6-a050-ba0b9c6f5e21",
   "metadata": {},
   "outputs": [],
   "source": []
  },
  {
   "cell_type": "code",
   "execution_count": null,
   "id": "fd6278d5-0567-4a40-9f8f-d2ba415c99f5",
   "metadata": {},
   "outputs": [],
   "source": []
  },
  {
   "cell_type": "markdown",
   "id": "1b9e23f4-75f1-44b5-b975-7fdb081dfa9c",
   "metadata": {},
   "source": [
    "### Incorrect 0"
   ]
  },
  {
   "cell_type": "code",
   "execution_count": null,
   "id": "c8abb508-a596-4e65-a471-cf0bf227204b",
   "metadata": {},
   "outputs": [],
   "source": [
    "segment, incorrect_answer = next(it)\n",
    "incorrect_question = next(q for q in results[segment][\"questions\"] if q.qid == incorrect_answer.qid)\n",
    "correct_answer = correct_u[incorrect_answer.qid]\n",
    "correct_question = next(q for q in results[\"U\"][\"questions\"] if q.qid == correct_answer.qid)"
   ]
  },
  {
   "cell_type": "markdown",
   "id": "73e7716f-1e14-4287-a196-22156b27accb",
   "metadata": {},
   "source": [
    "**Correct Question**"
   ]
  },
  {
   "cell_type": "code",
   "execution_count": null,
   "id": "0757a60e-adc9-4d50-97e5-970d31abf655",
   "metadata": {},
   "outputs": [],
   "source": [
    "print(llb.mmlu.generate_prompt(examples, correct_question, n_shots=0))\n",
    "print(f\"\\n{correct_answer.actual}) {getattr(correct_question, correct_answer.actual)}\")"
   ]
  },
  {
   "cell_type": "markdown",
   "id": "ecd6caa6-09c9-4d65-90dd-f0ba0d702544",
   "metadata": {},
   "source": [
    "**Incorrect Question**"
   ]
  },
  {
   "cell_type": "code",
   "execution_count": null,
   "id": "0a624c82-caad-42cc-918c-e97861226f95",
   "metadata": {},
   "outputs": [],
   "source": [
    "print(llb.mmlu.generate_prompt(examples, incorrect_question, n_shots=0))\n",
    "print(f\"\\n{incorrect_answer.actual}) {getattr(incorrect_question, incorrect_answer.actual)}\")"
   ]
  },
  {
   "cell_type": "code",
   "execution_count": null,
   "id": "3f618d8e-d902-4f33-997d-292d1fc02bf7",
   "metadata": {
    "jupyter": {
     "source_hidden": true
    }
   },
   "outputs": [],
   "source": [
    "fig, axs = plt.subplots(ncols=2, sharey=True, figsize=(12,4))\n",
    "\n",
    "sns.barplot(correct_answer.scores, ax=axs[0])\n",
    "axs[0].set_title(\"Correct\")\n",
    "\n",
    "sns.barplot(incorrect_answer.scores, ax=axs[1])\n",
    "axs[1].set_title(\"Incorrect\")"
   ]
  },
  {
   "cell_type": "markdown",
   "id": "672e6778-c1bc-407d-a34e-e51fba3631e4",
   "metadata": {},
   "source": [
    "### Incorrect 1"
   ]
  },
  {
   "cell_type": "code",
   "execution_count": null,
   "id": "665bf2f7-a813-4b3b-aaa1-10cd3652018b",
   "metadata": {},
   "outputs": [],
   "source": [
    "segment, incorrect_answer = next(it)\n",
    "incorrect_question = next(q for q in results[segment][\"questions\"] if q.qid == incorrect_answer.qid)\n",
    "correct_answer = correct_u[incorrect_answer.qid]\n",
    "correct_question = next(q for q in results[\"U\"][\"questions\"] if q.qid == correct_answer.qid)"
   ]
  },
  {
   "cell_type": "markdown",
   "id": "189465fe-be20-4532-bcd8-45ea9c494714",
   "metadata": {},
   "source": [
    "**Correct Question**"
   ]
  },
  {
   "cell_type": "code",
   "execution_count": null,
   "id": "873e6d57-3b0b-4021-b335-c755a8a5e66a",
   "metadata": {},
   "outputs": [],
   "source": [
    "print(llb.mmlu.generate_prompt(examples, correct_question, n_shots=0))\n",
    "print(f\"\\n{correct_answer.actual}) {getattr(correct_question, correct_answer.actual)}\")"
   ]
  },
  {
   "cell_type": "markdown",
   "id": "0cf6cf00-5314-4a60-9142-fae590b6b4aa",
   "metadata": {},
   "source": [
    "**Incorrect Question**"
   ]
  },
  {
   "cell_type": "code",
   "execution_count": null,
   "id": "a563c180-f524-4e94-97c3-7dde60a298ae",
   "metadata": {},
   "outputs": [],
   "source": [
    "print(llb.mmlu.generate_prompt(examples, incorrect_question, n_shots=0))\n",
    "print(f\"\\n{incorrect_answer.actual}) {getattr(incorrect_question, incorrect_answer.actual)}\")"
   ]
  },
  {
   "cell_type": "code",
   "execution_count": null,
   "id": "17f0e946-3443-49ef-9381-67e9aa27098e",
   "metadata": {
    "jupyter": {
     "source_hidden": true
    }
   },
   "outputs": [],
   "source": [
    "fig, axs = plt.subplots(ncols=2, sharey=True, figsize=(12,4))\n",
    "\n",
    "sns.barplot(correct_answer.scores, ax=axs[0])\n",
    "axs[0].set_title(\"Correct\")\n",
    "\n",
    "sns.barplot(incorrect_answer.scores, ax=axs[1])\n",
    "axs[1].set_title(\"Incorrect\")"
   ]
  },
  {
   "cell_type": "markdown",
   "id": "b2a900d8-a5c4-4162-b14c-137e059a0d64",
   "metadata": {},
   "source": [
    "### Incorrect 2"
   ]
  },
  {
   "cell_type": "code",
   "execution_count": null,
   "id": "ef6a0c7f-2a11-4c28-b93d-7ea46fe26236",
   "metadata": {},
   "outputs": [],
   "source": [
    "segment, incorrect_answer = next(it)\n",
    "incorrect_question = next(q for q in results[segment][\"questions\"] if q.qid == incorrect_answer.qid)\n",
    "correct_answer = correct_u[incorrect_answer.qid]\n",
    "correct_question = next(q for q in results[\"U\"][\"questions\"] if q.qid == correct_answer.qid)"
   ]
  },
  {
   "cell_type": "markdown",
   "id": "3950e361-49de-4a23-b07b-774ab7fa7308",
   "metadata": {},
   "source": [
    "**Correct Question**"
   ]
  },
  {
   "cell_type": "code",
   "execution_count": null,
   "id": "e5ad94f3-9313-4861-b2a2-a9fee43ceca0",
   "metadata": {},
   "outputs": [],
   "source": [
    "print(llb.mmlu.generate_prompt(examples, correct_question, n_shots=0))\n",
    "print(f\"\\n{correct_answer.actual}) {getattr(correct_question, correct_answer.actual)}\")"
   ]
  },
  {
   "cell_type": "markdown",
   "id": "b27508f8-c991-4775-b6a7-ed04465e9c86",
   "metadata": {},
   "source": [
    "**Incorrect Question**"
   ]
  },
  {
   "cell_type": "code",
   "execution_count": null,
   "id": "46d3cf1a-f33b-496a-a1ac-88c7523ea695",
   "metadata": {},
   "outputs": [],
   "source": [
    "print(llb.mmlu.generate_prompt(examples, incorrect_question, n_shots=0))\n",
    "print(f\"\\n{incorrect_answer.actual}) {getattr(incorrect_question, incorrect_answer.actual)}\")"
   ]
  },
  {
   "cell_type": "code",
   "execution_count": null,
   "id": "276c1abb-d1b3-4d14-ac42-48c523728829",
   "metadata": {
    "jupyter": {
     "source_hidden": true
    }
   },
   "outputs": [],
   "source": [
    "fig, axs = plt.subplots(ncols=2, sharey=True, figsize=(12,4))\n",
    "\n",
    "sns.barplot(correct_answer.scores, ax=axs[0])\n",
    "axs[0].set_title(\"Correct\")\n",
    "\n",
    "sns.barplot(incorrect_answer.scores, ax=axs[1])\n",
    "axs[1].set_title(\"Incorrect\")"
   ]
  },
  {
   "cell_type": "markdown",
   "id": "17bda1cb-449b-4a65-ab0f-47fd0279ef79",
   "metadata": {},
   "source": [
    "## Key Observations"
   ]
  },
  {
   "cell_type": "markdown",
   "id": "cbce3607-af40-4df4-8c47-88ba695d3ccb",
   "metadata": {},
   "source": [
    "One anecdotal pattern that immediately stands out is the model seems to stick with the original option even after we switched the answers. It's as if the model simply guessed correctly the first time and then stuck with the same guess the second time."
   ]
  },
  {
   "cell_type": "code",
   "execution_count": null,
   "id": "5a74286e-9d54-456f-8dfb-404f2026c46f",
   "metadata": {},
   "outputs": [],
   "source": []
  },
  {
   "cell_type": "code",
   "execution_count": null,
   "id": "9ad898be-9b2b-4582-b675-7f34add175fb",
   "metadata": {},
   "outputs": [],
   "source": []
  },
  {
   "cell_type": "code",
   "execution_count": null,
   "id": "d2244e7c-28f6-4657-87fe-efa722b8a51a",
   "metadata": {},
   "outputs": [],
   "source": []
  },
  {
   "cell_type": "code",
   "execution_count": null,
   "id": "3f849e62-9bad-4b21-8b36-b7c48b7e8d53",
   "metadata": {},
   "outputs": [],
   "source": []
  },
  {
   "cell_type": "code",
   "execution_count": null,
   "id": "90617a8d-0e1e-4309-82ce-8b8dd5ec734a",
   "metadata": {},
   "outputs": [],
   "source": []
  },
  {
   "cell_type": "code",
   "execution_count": null,
   "id": "59b9bbfc-3479-4629-aa21-118ed44cf786",
   "metadata": {},
   "outputs": [],
   "source": []
  },
  {
   "cell_type": "code",
   "execution_count": null,
   "id": "7c78c42f-a655-4edb-a150-8225e705d646",
   "metadata": {},
   "outputs": [],
   "source": []
  },
  {
   "cell_type": "markdown",
   "id": "b5e32186-85f6-4819-9433-c7c236522ac6",
   "metadata": {},
   "source": [
    "# Exploring Potential Order Dependency Causes"
   ]
  },
  {
   "cell_type": "code",
   "execution_count": null,
   "id": "8856bf54-57a2-466f-8264-b0f38e3adae6",
   "metadata": {},
   "outputs": [],
   "source": []
  },
  {
   "cell_type": "code",
   "execution_count": null,
   "id": "e0c0a5ce-1566-419a-9719-e7f61a78e5e3",
   "metadata": {},
   "outputs": [],
   "source": []
  },
  {
   "cell_type": "code",
   "execution_count": null,
   "id": "de299c97-9630-4cd0-b82d-fc55a8076bea",
   "metadata": {},
   "outputs": [],
   "source": []
  },
  {
   "cell_type": "markdown",
   "id": "a237e174-21a5-46c5-8218-0427c25fddf7",
   "metadata": {},
   "source": [
    "# Mitigating Order Dependency"
   ]
  },
  {
   "cell_type": "code",
   "execution_count": null,
   "id": "c7de168e-24e4-4843-8064-d94aad853062",
   "metadata": {},
   "outputs": [],
   "source": []
  },
  {
   "cell_type": "code",
   "execution_count": null,
   "id": "ca5d53b4-ad72-473a-87ed-6d5656325f65",
   "metadata": {},
   "outputs": [],
   "source": []
  },
  {
   "cell_type": "code",
   "execution_count": null,
   "id": "9c90bc42-19a2-4eb0-b1e4-c8f3f10f6ad9",
   "metadata": {},
   "outputs": [],
   "source": []
  },
  {
   "cell_type": "markdown",
   "id": "f4a963f0-9ce3-4ef2-90bb-59fa2d3f6218",
   "metadata": {},
   "source": [
    "# References"
   ]
  },
  {
   "cell_type": "markdown",
   "id": "8885ab5d-1299-4691-927d-218785362fb4",
   "metadata": {},
   "source": [
    "Almazrouei, Ebtesam, Hamza Alobeidli, Abdulaziz Alshamsi, Alessandro Cappelli, Ruxandra Cojocaru, Mérouane Debbah, Étienne Goffinet, et al. 2023. “The Falcon Series of Open Language Models.” arXiv. https://doi.org/10.48550/arXiv.2311.16867.\n",
    "\n",
    "Dubey, Abhimanyu, Abhinav Jauhri, Abhinav Pandey, Abhishek Kadian, Ahmad Al-Dahle, Aiesha Letman, Akhil Mathur, et al. 2024. “The Llama 3 Herd of Models.” arXiv.Org. July 31, 2024. https://arxiv.org/abs/2407.21783v2.\n",
    "\n",
    "Hendrycks, Dan, Collin Burns, Steven Basart, Andy Zou, Mantas Mazeika, Dawn Song, and Jacob Steinhardt. 2021. “Measuring Massive Multitask Language Understanding.” arXiv. https://doi.org/10.48550/arXiv.2009.03300.\n",
    "\n",
    "Liusie, Adian, Potsawee Manakul, and Mark J. F. Gales. 2024. “LLM Comparative Assessment: Zero-Shot NLG Evaluation through Pairwise Comparisons Using Large Language Models.” arXiv. https://doi.org/10.48550/arXiv.2307.07889.\n",
    "\n",
    "McIlroy-Young, Reid, Katrina Brown, Conlan Olson, Linjun Zhang, and Cynthia Dwork. 2024. “Set-Based Prompting: Provably Solving the Language Model Order Dependency Problem.” arXiv. https://doi.org/10.48550/arXiv.2406.06581.\n",
    "\n",
    "OpenAI, Josh Achiam, Steven Adler, Sandhini Agarwal, Lama Ahmad, Ilge Akkaya, Florencia Leoni Aleman, et al. 2024. “GPT-4 Technical Report.” arXiv. https://doi.org/10.48550/arXiv.2303.08774.\n",
    "\n",
    "Ouyang, Long, Jeff Wu, Xu Jiang, Diogo Almeida, Carroll L. Wainwright, Pamela Mishkin, Chong Zhang, et al. 2022. “Training Language Models to Follow Instructions with Human Feedback.” arXiv. https://doi.org/10.48550/arXiv.2203.02155.\n",
    "\n",
    "Pezeshkpour, Pouya, and Estevam Hruschka. 2023. “Large Language Models Sensitivity to The Order of Options in Multiple-Choice Questions.” arXiv. https://doi.org/10.48550/arXiv.2308.11483.\n",
    "\n",
    "“Vicuna: An Open-Source Chatbot Impressing GPT-4 with 90%* ChatGPT Quality | LMSYS Org.” n.d. Accessed November 7, 2024. https://lmsys.org/blog/2023-03-30-vicuna.\n",
    "\n",
    "Zheng, Chujie, Hao Zhou, Fandong Meng, Jie Zhou, and Minlie Huang. 2024. “Large Language Models Are Not Robust Multiple Choice Selectors.” arXiv. https://doi.org/10.48550/arXiv.2309.03882."
   ]
  }
 ],
 "metadata": {
  "kernelspec": {
   "display_name": "Python 3 (ipykernel)",
   "language": "python",
   "name": "python3"
  },
  "language_info": {
   "codemirror_mode": {
    "name": "ipython",
    "version": 3
   },
   "file_extension": ".py",
   "mimetype": "text/x-python",
   "name": "python",
   "nbconvert_exporter": "python",
   "pygments_lexer": "ipython3",
   "version": "3.12.6"
  }
 },
 "nbformat": 4,
 "nbformat_minor": 5
}
