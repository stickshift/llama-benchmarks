{
 "cells": [
  {
   "cell_type": "markdown",
   "id": "4a3268e2-9942-4d79-92fd-2221e26d388b",
   "metadata": {},
   "source": [
    "# MMLU Benchmark\n",
    "\n",
    "Basic guide to running Massive Multitask Language Understanding (MMLU) benchmark using Llama models. In this experiment, we'll sample a subset of questions from the MMLU dataset, answer them, record metrics, and explore patterns in correct and incorrect questions."
   ]
  },
  {
   "cell_type": "markdown",
   "id": "2b3987c8-67fb-4bcd-9797-d4e26ab7dfa6",
   "metadata": {},
   "source": [
    "# Imports"
   ]
  },
  {
   "cell_type": "code",
   "execution_count": 1,
   "id": "59202d62-3df3-4067-9750-7dfec5d85e09",
   "metadata": {},
   "outputs": [],
   "source": [
    "import logging\n",
    "import os\n",
    "from pathlib import Path\n",
    "from random import sample\n",
    "from time import perf_counter_ns as timer\n",
    "\n",
    "from IPython.display import display\n",
    "from matplotlib import pyplot as plt\n",
    "from pandas import DataFrame\n",
    "import seaborn as sns\n",
    "from tqdm import tqdm\n",
    "\n",
    "import llama_benchmarks as llb\n",
    "from llama_benchmarks.models import llama\n",
    "from llama_benchmarks.mmlu import Question, Questions, Answer, Answers, MMLULlamaGenerator"
   ]
  },
  {
   "cell_type": "markdown",
   "id": "b762a093-3f23-43d1-8a7d-e9a741eff2fe",
   "metadata": {},
   "source": [
    "# Parameters"
   ]
  },
  {
   "cell_type": "code",
   "execution_count": 2,
   "id": "04175c7e-8022-4c5d-9851-11368e47a16b",
   "metadata": {},
   "outputs": [],
   "source": [
    "# Sample size\n",
    "n_questions = 16\n",
    "\n",
    "# Checkpoint\n",
    "model = \"Llama3.2-3B\""
   ]
  },
  {
   "cell_type": "markdown",
   "id": "fa26f6e1-1c80-4b5e-aab2-212ce5e9b055",
   "metadata": {},
   "source": [
    "# Setup"
   ]
  },
  {
   "cell_type": "code",
   "execution_count": 3,
   "id": "5748579d-5a36-45ef-a324-4af5a1932cbb",
   "metadata": {},
   "outputs": [],
   "source": [
    "# Switch to project root\n",
    "if os.path.basename(os.getcwd()) == \"experiments\":\n",
    "    os.chdir(\"..\")\n",
    "\n",
    "# Configure logger\n",
    "logger = logging.getLogger(__name__)\n",
    "\n",
    "# Path to datasets\n",
    "datasets_path = Path(\".build\") / \"datasets\" "
   ]
  },
  {
   "cell_type": "code",
   "execution_count": 4,
   "id": "69bb152b-1a87-4296-99f6-b3a96069ce31",
   "metadata": {},
   "outputs": [],
   "source": [
    "def show_questions(questions: Questions):\n",
    "    display(DataFrame(questions))"
   ]
  },
  {
   "cell_type": "markdown",
   "id": "b87223d1-18c4-4e01-87dd-4442b32f6150",
   "metadata": {},
   "source": [
    "# MMLU Dataset"
   ]
  },
  {
   "cell_type": "markdown",
   "id": "2c0cc27b-e289-48f3-a1e4-8ccacd271415",
   "metadata": {},
   "source": [
    "The Massive Multitask Language Understanding (MMLU) benchmark dataset from https://github.com/hendrycks/test contains 14,042 MCQs from 57 categories. Each question has 4 options A, B, C, and D and one correct answer. In addition, each category has 5 example questions designed for few-shot experiments."
   ]
  },
  {
   "cell_type": "code",
   "execution_count": 5,
   "id": "b659bde5-5c9f-4778-9ba8-a420deda1711",
   "metadata": {},
   "outputs": [
    {
     "data": {
      "text/html": [
       "<div>\n",
       "<style scoped>\n",
       "    .dataframe tbody tr th:only-of-type {\n",
       "        vertical-align: middle;\n",
       "    }\n",
       "\n",
       "    .dataframe tbody tr th {\n",
       "        vertical-align: top;\n",
       "    }\n",
       "\n",
       "    .dataframe thead th {\n",
       "        text-align: right;\n",
       "    }\n",
       "</style>\n",
       "<table border=\"1\" class=\"dataframe\">\n",
       "  <thead>\n",
       "    <tr style=\"text-align: right;\">\n",
       "      <th></th>\n",
       "      <th>category</th>\n",
       "      <th>question</th>\n",
       "      <th>A</th>\n",
       "      <th>B</th>\n",
       "      <th>C</th>\n",
       "      <th>D</th>\n",
       "      <th>answer</th>\n",
       "    </tr>\n",
       "  </thead>\n",
       "  <tbody>\n",
       "    <tr>\n",
       "      <th>0</th>\n",
       "      <td>miscellaneous</td>\n",
       "      <td>A hard-edge painting is most likely to be char...</td>\n",
       "      <td>an even, solid paint application</td>\n",
       "      <td>blurry color mixed on the painting's surface</td>\n",
       "      <td>scratchy brush marks clearly separated</td>\n",
       "      <td>translucent multiple layers of paint</td>\n",
       "      <td>A</td>\n",
       "    </tr>\n",
       "    <tr>\n",
       "      <th>1</th>\n",
       "      <td>computer security</td>\n",
       "      <td>You are given a message (m) and its OTP encryp...</td>\n",
       "      <td>No, I cannot compute the key.</td>\n",
       "      <td>Yes, the key is k = m xor c.</td>\n",
       "      <td>I can only compute half the bits of the key.</td>\n",
       "      <td>Yes, the key is k = m xor m.</td>\n",
       "      <td>B</td>\n",
       "    </tr>\n",
       "    <tr>\n",
       "      <th>2</th>\n",
       "      <td>high school psychology</td>\n",
       "      <td>Which of the following are found in Jung's col...</td>\n",
       "      <td>fictional finalisms</td>\n",
       "      <td>complexes</td>\n",
       "      <td>archetypes</td>\n",
       "      <td>feelings of inferiority</td>\n",
       "      <td>C</td>\n",
       "    </tr>\n",
       "  </tbody>\n",
       "</table>\n",
       "</div>"
      ],
      "text/plain": [
       "                 category                                           question  \\\n",
       "0           miscellaneous  A hard-edge painting is most likely to be char...   \n",
       "1       computer security  You are given a message (m) and its OTP encryp...   \n",
       "2  high school psychology  Which of the following are found in Jung's col...   \n",
       "\n",
       "                                  A  \\\n",
       "0  an even, solid paint application   \n",
       "1     No, I cannot compute the key.   \n",
       "2               fictional finalisms   \n",
       "\n",
       "                                              B  \\\n",
       "0  blurry color mixed on the painting's surface   \n",
       "1                  Yes, the key is k = m xor c.   \n",
       "2                                     complexes   \n",
       "\n",
       "                                              C  \\\n",
       "0        scratchy brush marks clearly separated   \n",
       "1  I can only compute half the bits of the key.   \n",
       "2                                    archetypes   \n",
       "\n",
       "                                      D answer  \n",
       "0  translucent multiple layers of paint      A  \n",
       "1          Yes, the key is k = m xor m.      B  \n",
       "2               feelings of inferiority      C  "
      ]
     },
     "metadata": {},
     "output_type": "display_data"
    }
   ],
   "source": [
    "mmlu_dataset_path = datasets_path / \"mmlu\"\n",
    "\n",
    "# Load sample of questions from MMLU dataset\n",
    "examples, questions = llb.mmlu.load_dataset(mmlu_dataset_path, n_questions=n_questions)\n",
    "show_questions(sample(questions, k=3))"
   ]
  },
  {
   "cell_type": "markdown",
   "id": "8a85d764-b278-4947-8e7b-cc817f2abe48",
   "metadata": {},
   "source": [
    "# Prompting"
   ]
  },
  {
   "cell_type": "markdown",
   "id": "e6989fd5-2eea-4227-8728-c607227f5e16",
   "metadata": {},
   "source": [
    "We combine each question with the relevant examples to generate few-shot prompts. The prompt template is based on the one used by Hendrycks et al. (2021) and implemented at https://github.com/hendrycks/test."
   ]
  },
  {
   "cell_type": "code",
   "execution_count": 6,
   "id": "cf80ca6a-b546-44ff-ae72-b30209ef3ec9",
   "metadata": {},
   "outputs": [
    {
     "name": "stdout",
     "output_type": "stream",
     "text": [
      "The following are multiple choice questions (with answers) about virology.\n",
      "\n",
      "Question: Why are parvoviruses a highly impactful parasite?\n",
      "\n",
      "A) Because they have no nucleic acid\n",
      "B) They require a helper virus\n",
      "C) Only replicate in dividing cells\n",
      "D) Can integrate into host chromosomes\n",
      "\n",
      "Answer: A\n",
      "\n",
      "Question: The median survival time to AIDS and death was established by following:\n",
      "\n",
      "A) Seroprevalent HIV-infected individuals\n",
      "B) Seronegatives\n",
      "C) Seroconverters\n",
      "D) High-risk seronegatives\n",
      "\n",
      "Answer: C\n",
      "\n",
      "Question: Which of the following HPV viruses are known to cause cervical cancer?\n",
      "\n",
      "A) Viruses of all 5 clades\n",
      "B) Types 14, 16, 18, 31, 45\n",
      "C) None are oncogenic per se\n",
      "D) Types 1-180\n",
      "\n",
      "Answer: \n"
     ]
    }
   ],
   "source": [
    "prompt = llb.mmlu.generate_prompt(examples, sample(questions, k=1)[0], n_shots=2)\n",
    "print(prompt)"
   ]
  },
  {
   "cell_type": "markdown",
   "id": "1a9c77f4-aca2-4be4-ae1f-5433aade86e7",
   "metadata": {},
   "source": [
    "# Generating Answers"
   ]
  },
  {
   "cell_type": "code",
   "execution_count": 7,
   "id": "2ba241b1-86df-4349-bcf7-a75e2aa4e3a7",
   "metadata": {},
   "outputs": [],
   "source": [
    "# Create a Llama 3.2 3B MMLU generator\n",
    "generator = MMLULlamaGenerator(llama.config(model))"
   ]
  },
  {
   "cell_type": "code",
   "execution_count": 8,
   "id": "4cbe35c8-8ef1-4f4c-9fd7-82ffca9d9dd1",
   "metadata": {},
   "outputs": [
    {
     "name": "stderr",
     "output_type": "stream",
     "text": [
      "100%|██████████████████████████████████████████████████████████████████████████████████████████████████████████████████████████████████████████████████████| 16/16 [00:13<00:00,  1.21it/s]"
     ]
    },
    {
     "name": "stdout",
     "output_type": "stream",
     "text": [
      "Answering 16 questions took 13.254s\n"
     ]
    },
    {
     "name": "stderr",
     "output_type": "stream",
     "text": [
      "\n"
     ]
    }
   ],
   "source": [
    "start_time = timer()\n",
    "\n",
    "answers = []\n",
    "correct = 0\n",
    "for answer in tqdm(generator(examples, questions), total=n_questions):\n",
    "    answers.append(answer)\n",
    "    if answer.correct:\n",
    "        correct += 1\n",
    "\n",
    "duration = timer() - start_time\n",
    "print(f\"Answering {n_questions} questions took {duration / 1000000000:0.3f}s\")"
   ]
  },
  {
   "cell_type": "code",
   "execution_count": 9,
   "id": "c38d0a7b-615d-4ff5-8c81-d7cb1387fd56",
   "metadata": {},
   "outputs": [
    {
     "data": {
      "text/plain": [
       "{'n': 16, 'correct': 11, 'accuracy': 0.6875, 'rps': 1.207155409889581}"
      ]
     },
     "execution_count": 9,
     "metadata": {},
     "output_type": "execute_result"
    }
   ],
   "source": [
    "# Calculate metrics\n",
    "metrics = {\n",
    "    \"n\": n_questions,\n",
    "    \"correct\": correct,\n",
    "    \"accuracy\": correct / n_questions,\n",
    "    \"rps\": 1000000000 * n_questions / duration,\n",
    "}\n",
    "\n",
    "metrics"
   ]
  },
  {
   "cell_type": "markdown",
   "id": "87ad608d-c80b-4f14-9549-a32bac7fb8a5",
   "metadata": {},
   "source": [
    "# Analyzing Answers"
   ]
  },
  {
   "cell_type": "code",
   "execution_count": 11,
   "id": "311544cd-2ab6-4d45-a210-f6a6b46a8eb8",
   "metadata": {},
   "outputs": [],
   "source": [
    "# Correct questions\n",
    "correct_answers = tuple(a for a in answers if a.correct)\n",
    "correct_questions = tuple(questions[a.qid] for a in correct_answers)\n",
    "\n",
    "# Incorrect questions\n",
    "incorrect_answers = tuple(a for a in answers if not a.correct)\n",
    "incorrect_questions = tuple(questions[a.qid] for a in incorrect_answers)"
   ]
  },
  {
   "cell_type": "markdown",
   "id": "855f5103-590f-4996-96ab-86b4783ff521",
   "metadata": {},
   "source": [
    "## Uncertainty: Correct Answers"
   ]
  },
  {
   "cell_type": "code",
   "execution_count": 14,
   "id": "c7f7804c-71bd-4b20-b624-5154dcfe1439",
   "metadata": {},
   "outputs": [
    {
     "data": {
      "image/png": "[encoded data removed]",
      "text/plain": [
       "<Figure size 1200x300 with 3 Axes>"
      ]
     },
     "metadata": {},
     "output_type": "display_data"
    }
   ],
   "source": [
    "selected = sample(correct_answers, 3)\n",
    "\n",
    "fig, axs = plt.subplots(ncols=len(selected), figsize=(12,3))\n",
    "for i, answer in enumerate(selected):\n",
    "    sns.barplot(data=answer.scores, ax=axs[i])\n",
    "    axs[i].set_title(f\"Expected: {answer.expected}, Actual: {answer.actual}\")"
   ]
  },
  {
   "cell_type": "markdown",
   "id": "70f810c2-6098-4b25-8706-d4d7943c9769",
   "metadata": {},
   "source": [
    "## Uncertainty: Incorrect Answers"
   ]
  },
  {
   "cell_type": "code",
   "execution_count": 15,
   "id": "1fa29b55-76b1-4019-85ea-bbcd4cff76b4",
   "metadata": {},
   "outputs": [
    {
     "data": {
      "image/png": "[encoded data removed]",
      "text/plain": [
       "<Figure size 1200x300 with 3 Axes>"
      ]
     },
     "metadata": {},
     "output_type": "display_data"
    }
   ],
   "source": [
    "selected = sample(incorrect_answers, 3)\n",
    "\n",
    "fig, axs = plt.subplots(ncols=len(selected), figsize=(12,3))\n",
    "for i, answer in enumerate(selected):\n",
    "    sns.barplot(data=answer.scores, ax=axs[i])\n",
    "    axs[i].set_title(f\"Expected: {answer.expected}, Actual: {answer.actual}\")"
   ]
  },
  {
   "cell_type": "code",
   "execution_count": null,
   "id": "1ab760be-941f-4b58-b1f0-dff0d283aeb1",
   "metadata": {},
   "outputs": [],
   "source": []
  },
  {
   "cell_type": "code",
   "execution_count": null,
   "id": "6406f23a-2078-4fa5-949f-2627a5e250ac",
   "metadata": {},
   "outputs": [],
   "source": []
  },
  {
   "cell_type": "code",
   "execution_count": null,
   "id": "2262f814-969c-447c-8cdb-41c137495440",
   "metadata": {},
   "outputs": [],
   "source": []
  }
 ],
 "metadata": {
  "kernelspec": {
   "display_name": "Python 3 (ipykernel)",
   "language": "python",
   "name": "python3"
  },
  "language_info": {
   "codemirror_mode": {
    "name": "ipython",
    "version": 3
   },
   "file_extension": ".py",
   "mimetype": "text/x-python",
   "name": "python",
   "nbconvert_exporter": "python",
   "pygments_lexer": "ipython3",
   "version": "3.12.6"
  }
 },
 "nbformat": 4,
 "nbformat_minor": 5
}
